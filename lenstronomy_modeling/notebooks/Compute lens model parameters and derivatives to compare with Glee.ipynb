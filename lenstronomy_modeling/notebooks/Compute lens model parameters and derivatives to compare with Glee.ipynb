{
 "cells": [
  {
   "cell_type": "code",
   "execution_count": 1,
   "id": "purple-london",
   "metadata": {},
   "outputs": [],
   "source": [
    "N_sample = 1000 # number of samples to keep from each chain"
   ]
  },
  {
   "cell_type": "markdown",
   "id": "injured-recycling",
   "metadata": {},
   "source": [
    "## imports"
   ]
  },
  {
   "cell_type": "code",
   "execution_count": 2,
   "id": "governmental-arrest",
   "metadata": {},
   "outputs": [
    {
     "data": {
      "text/plain": [
       "'1.9.1'"
      ]
     },
     "execution_count": 2,
     "metadata": {},
     "output_type": "execute_result"
    }
   ],
   "source": [
    "import lenstronomy\n",
    "\n",
    "lenstronomy.__version__"
   ]
  },
  {
   "cell_type": "code",
   "execution_count": 3,
   "id": "olive-muscle",
   "metadata": {},
   "outputs": [
    {
     "name": "stdout",
     "output_type": "stream",
     "text": [
      "Base directory path: /Users/ajshajib/Research/time_delay_cosmography/J2038/WGD2038-4008/lenstronomy_modeling\n"
     ]
    }
   ],
   "source": [
    "import numpy as np\n",
    "import os\n",
    "import pickle\n",
    "import copy\n",
    "import time\n",
    "import h5py\n",
    "from pprint import pprint\n",
    "import joblib\n",
    "import gc\n",
    "\n",
    "from lenstronomy.Util import util\n",
    "from lenstronomy.Util import param_util\n",
    "from lenstronomy.Workflow.fitting_sequence import FittingSequence\n",
    "from lenstronomy.Plots.model_plot import ModelPlot\n",
    "from lenstronomy.Plots import chain_plot\n",
    "from lenstronomy.Sampling.parameters import Param\n",
    "#from lenstronomy.Analysis.lens_analysis import LensAnalysis\n",
    "from lenstronomy.Util import mask_util\n",
    "from lenstronomy.LensModel.lens_model import LensModel\n",
    "from lenstronomy.Data.coord_transforms import Coordinates\n",
    "from lenstronomy.Util.util import array2image\n",
    "\n",
    "import paperfig as pf\n",
    "pf.set_fontscale(2.)\n",
    "\n",
    "cwd = os.getcwd()\n",
    "base_path, _ = os.path.split(cwd)\n",
    "print('Base directory path:', base_path)"
   ]
  },
  {
   "cell_type": "code",
   "execution_count": 4,
   "id": "stuck-quilt",
   "metadata": {},
   "outputs": [
    {
     "data": {
      "text/plain": [
       "20"
      ]
     },
     "execution_count": 4,
     "metadata": {},
     "output_type": "execute_result"
    }
   ],
   "source": [
    "gc.collect()"
   ]
  },
  {
   "cell_type": "markdown",
   "id": "changed-sheriff",
   "metadata": {},
   "source": [
    "## functions"
   ]
  },
  {
   "cell_type": "code",
   "execution_count": 5,
   "id": "liked-checkout",
   "metadata": {},
   "outputs": [],
   "source": [
    "savefig = True"
   ]
  },
  {
   "cell_type": "code",
   "execution_count": 6,
   "id": "handmade-contamination",
   "metadata": {},
   "outputs": [],
   "source": [
    "import sys\n",
    "sys.path.insert(0, './process_output')\n",
    "\n",
    "# load necessary functions for BIC computation and unpickling composite model outputs\n",
    "from output_class import *"
   ]
  },
  {
   "cell_type": "markdown",
   "id": "arbitrary-space",
   "metadata": {},
   "source": [
    "# load output files"
   ]
  },
  {
   "cell_type": "markdown",
   "id": "promising-cathedral",
   "metadata": {},
   "source": [
    "## load composite model chains and process"
   ]
  },
  {
   "cell_type": "code",
   "execution_count": 7,
   "id": "confidential-kitchen",
   "metadata": {},
   "outputs": [],
   "source": [
    "composite_files = [\n",
    "    '2038_run205_1_0_0_0_0_shortened',\n",
    "    '2038_run205_1_0_1_0_0_shortened',\n",
    "    '2038_run205_1_0_2_0_0_shortened',\n",
    "    '2038_run205_1_1_0_0_0_shortened',\n",
    "    '2038_run205_1_1_1_0_0_shortened',\n",
    "    '2038_run205_1_1_2_0_0_shortened',\n",
    "    \n",
    "    '2038_run206_1_0_0_0_0_shortened',\n",
    "    '2038_run206_1_0_1_0_0_shortened',\n",
    "    '2038_run206_1_0_2_0_0_shortened',\n",
    "    '2038_run206_1_1_0_0_0_shortened',\n",
    "    '2038_run206_1_1_1_0_0_shortened',\n",
    "    '2038_run206_1_1_2_0_0_shortened',\n",
    "    \n",
    "]\n",
    "\n",
    "\n",
    "def custom_loglikelihood_addition(kwargs_lens=None, kwargs_source=None, \n",
    "                                 kwargs_lens_light=None, kwargs_ps=None, \n",
    "                                 kwargs_special=None, kwargs_extinction=None):\n",
    "    \"\"\"\n",
    "    Impose a Gaussian prior on the NFW scale radius R_s based on Gavazzi et al. (2007).\n",
    "    \"\"\"\n",
    "    # imports inside function to avoid pickling \n",
    "    from colossus.halo import concentration\n",
    "    from colossus.halo import mass_defs\n",
    "    from colossus.cosmology import cosmology\n",
    "    \n",
    "    from lenstronomy.Cosmo.lens_cosmo import LensCosmo\n",
    "    from lenstronomy.Analysis.lens_profile import LensProfileAnalysis\n",
    "    from lenstronomy.LensModel.lens_model import LensModel\n",
    "\n",
    "\n",
    "    lens_cosmo = LensCosmo(z_lens=0.230, z_source=0.777)\n",
    "    lens_analysis = LensProfileAnalysis(\n",
    "                            LensModel(lens_model_list=['NFW_ELLIPSE', 'SHEAR', 'TRIPLE_CHAMELEON'],\n",
    "                            z_lens=0.230, z_source=0.777,\n",
    "                            multi_plane=False, #True,\n",
    "                            ))\n",
    "\n",
    "\n",
    "    if kwargs_lens[0]['alpha_Rs'] < 0.:\n",
    "        return -np.inf\n",
    "    \n",
    "    if not -0.014271818911080656-0.2 < kwargs_lens[0]['center_x'] < -0.014271818911080656+0.2:\n",
    "        return -np.inf\n",
    "    if not -0.020882886550870693-0.2 < kwargs_lens[0]['center_y'] < -0.020882886550870693+0.2:\n",
    "        return -np.inf\n",
    "    \n",
    "    if not -0.5 < kwargs_lens[0]['e1'] < 0.5:\n",
    "        return -np.inf\n",
    "    if not -0.5 < kwargs_lens[0]['e2'] < 0.5:\n",
    "        return -np.inf\n",
    "    \n",
    "    log_L = 0.\n",
    "    \n",
    "    # integrate upto 3.2 arcsec, which is half-light radius (~half-mass radius)\n",
    "    mean_convergence = lens_analysis.mass_fraction_within_radius(kwargs_lens, \n",
    "                                                             kwargs_lens[2]['center_x'], \n",
    "                                                             kwargs_lens[2]['center_y'], \n",
    "                                                             3.2,\n",
    "                                                             numPix=320)\n",
    "    \n",
    "    stellar_mass = np.log10(mean_convergence[2] * np.pi * (3.2/206265 * lens_cosmo.dd)**2 \n",
    "                            * lens_cosmo.sigma_crit * 2) # multiplying by 2 to convert half-mass to full mass\n",
    "    \n",
    "    #log_L += - 0.5 * (stellar_mass - 11.40)**2 / (0.08**2 + 0.1**2)\n",
    "    # adding 0.07 uncertainty in quadrature to account for 15% uncertainty in H_0, Om_0 ~ U(0.05, 0.5)\n",
    "    high_sm = 11.57 + 0.25 + 0.06 # +0.06 is to add H_0 uncertainty\n",
    "    low_sm = 11.57 - 0.06 # -0.06 is to add H_0 uncertainty\n",
    "    if stellar_mass > high_sm:\n",
    "        log_L += -0.5 * (high_sm - stellar_mass)**2 / (0.16**2)\n",
    "    elif stellar_mass < low_sm:\n",
    "        log_L += -0.5 * (low_sm - stellar_mass)**2 / (0.13**2)\n",
    "    else:\n",
    "        log_L += 0.\n",
    "        \n",
    "    _, _, c, r, halo_mass = lens_cosmo.nfw_angle2physical(kwargs_lens[0]['Rs'], kwargs_lens[0]['alpha_Rs'])\n",
    "    log_L += -0.5 * (np.log10(halo_mass) - 13.5)**2 / 0.3**2\n",
    "    \n",
    "    my_cosmo = {'flat': True, 'H0': 70., 'Om0': 0.3, 'Ob0': 0.05, \n",
    "                'sigma8': 0.823, 'ns': 0.96} # fiducial cosmo\n",
    "    cosmo = cosmology.setCosmology('my_cosmo', my_cosmo)\n",
    "\n",
    "    c200 = concentration.concentration(halo_mass*cosmo.h, '200c', # input halo mass needs to be in M_sun/h unit\n",
    "                                       0.23, model='diemer19')\n",
    "    \n",
    "    log_L += -0.5 * (np.log10(c) - np.log10(c200))**2 / (0.11**2)\n",
    "            \n",
    "    return log_L"
   ]
  },
  {
   "cell_type": "code",
   "execution_count": 8,
   "id": "alternate-rental",
   "metadata": {},
   "outputs": [],
   "source": [
    "composite_bics = []\n",
    "composite_param_arrays = []\n",
    "composite_num_param_arrays = []\n",
    "composite_kwargs_models = []\n",
    "composite_kwargs_constraints = []\n",
    "composite_param_classes = []\n",
    "composite_lens_models = []\n",
    "composite_kwargs_likelihoods = []\n",
    "composite_multi_band_list = []\n",
    "\n",
    "for job_name_out in composite_files:\n",
    "    output_temp = os.path.join(base_path, 'temp', job_name_out +'_out.txt')\n",
    "\n",
    "    f = open(output_temp, 'rb')\n",
    "    [input_, output_] = joblib.load(f)\n",
    "    f.close()\n",
    "    fitting_kwargs_list, kwargs_joint, kwargs_model, kwargs_constraints, kwargs_likelihood, kwargs_params, init_samples = input_\n",
    "    \n",
    "    kwargs_result, multi_band_list_out, fit_output, _ = output_\n",
    "    multi_band_list = kwargs_joint['multi_band_list']\n",
    "\n",
    "    samples_mcmc = fit_output[-1][1] #[np.random.randint(0, high=fit_output[-1][1].shape[0], size=N_sample)]\n",
    "    param_mcmc = fit_output[-1][2]\n",
    "\n",
    "    param_class = Param(kwargs_model,\n",
    "                        kwargs_params['lens_model'][2], \n",
    "                        kwargs_params['source_model'][2],\n",
    "                        kwargs_params['lens_light_model'][2],\n",
    "                        kwargs_params['point_source_model'][2],\n",
    "                        kwargs_lens_init=kwargs_params['lens_model'][0], #kwargs_result['kwargs_lens'],\n",
    "                        **kwargs_constraints\n",
    "                       )\n",
    "    \n",
    "    lens_model = LensModel(lens_model_list=kwargs_model['lens_model_list'],\n",
    "                           z_lens=0.230, z_source=0.777,\n",
    "                           multi_plane=False, #True, \n",
    "                          )\n",
    "    \n",
    "    num_data = np.sum([np.sum(m) for m in kwargs_likelihood['image_likelihood_mask_list']])\n",
    "    num_param = param_class.num_param()[0] + param_class.num_param_linear()\n",
    "    max_logL = np.max(fit_output[-1][-1])\n",
    "    \n",
    "    bic = compute_BIC(num_data, num_param, max_logL)\n",
    "    \n",
    "    composite_bics.append(bic)\n",
    "    composite_param_arrays.append(np.copy(samples_mcmc))\n",
    "    composite_num_param_arrays.append(len(samples_mcmc))\n",
    "    composite_kwargs_models.append(kwargs_model)\n",
    "    composite_kwargs_constraints.append(kwargs_constraints)\n",
    "    composite_param_classes.append(param_class)\n",
    "    composite_lens_models.append(lens_model)\n",
    "    composite_kwargs_likelihoods.append(kwargs_likelihood)\n",
    "    composite_multi_band_list.append(multi_band_list_out)\n",
    "    \n",
    "    gc.collect()\n",
    "    #break"
   ]
  },
  {
   "cell_type": "code",
   "execution_count": 9,
   "id": "quality-performance",
   "metadata": {},
   "outputs": [
    {
     "name": "stdout",
     "output_type": "stream",
     "text": [
      "non-linear: 54, linear: 206\n",
      "non-linear: 54, linear: 241\n",
      "non-linear: 54, linear: 279\n",
      "non-linear: 54, linear: 206\n",
      "non-linear: 54, linear: 241\n",
      "non-linear: 54, linear: 279\n",
      "non-linear: 54, linear: 206\n",
      "non-linear: 54, linear: 241\n",
      "non-linear: 54, linear: 279\n",
      "non-linear: 54, linear: 206\n",
      "non-linear: 54, linear: 241\n",
      "non-linear: 54, linear: 279\n"
     ]
    }
   ],
   "source": [
    "# composite parameter numbers\n",
    "for param_class in composite_param_classes:\n",
    "    print('non-linear: {}, linear: {}'.format(param_class.num_param()[0], param_class.num_param_linear()))"
   ]
  },
  {
   "cell_type": "code",
   "execution_count": 10,
   "id": "breathing-extension",
   "metadata": {},
   "outputs": [],
   "source": [
    "PHOTMODE = 'WFC3 IR F160W'      # / Observing confi                                \n",
    "PHOTFLAM =  1.9275602E-20       # / Inverse sensitivity, ergs/cm2/A/e-             \n",
    "PHOTFNU  =  1.5187570E-07       # / Inverse sensitivity, Jy*sec/e-                 \n",
    "PHOTZPT  = -2.1100000E+01       # / ST magnitude zero point                        \n",
    "PHOTPLAM =  1.5369176E+04       # / Pivot wavelength (Angstroms)                   \n",
    "PHOTBW   =  8.2625085E+02       # / RMS bandwidth of filter plus detector\n",
    "\n",
    "\n",
    "def get_stmag(electron_flux, photflam, photzpt):\n",
    "    flux = np.asarray(electron_flux)\n",
    "    scalar_input = False\n",
    "    if flux.ndim == 0:\n",
    "        flux = flux[None]  \n",
    "        scalar_input = True\n",
    "  \n",
    "    flux = flux * photflam\n",
    "    mag = -2.5 * np.log10(flux) + photzpt\n",
    "  \n",
    "    if scalar_input:\n",
    "        return np.squeeze(mag)\n",
    " \n",
    "    return mag\n",
    "\n",
    "def get_abmag(flux, photflam, photzpt, photplam):\n",
    "    stmag = get_stmag(flux, photflam, photzpt)\n",
    "    \n",
    "    return stmag - 5. * np.log10(photplam) + 2.5 * np.log10(299792458e10) - 27.5"
   ]
  },
  {
   "cell_type": "code",
   "execution_count": 11,
   "id": "cheap-lafayette",
   "metadata": {},
   "outputs": [
    {
     "data": {
      "text/plain": [
       "(757.8805471249445, 3236777839592540.5)"
      ]
     },
     "execution_count": 11,
     "metadata": {},
     "output_type": "execute_result"
    }
   ],
   "source": [
    "from astropy.cosmology import FlatLambdaCDM\n",
    "from lenstronomy.Cosmo.lens_cosmo import LensCosmo\n",
    "\n",
    "cosmo = FlatLambdaCDM(H0=70, Om0=0.3)\n",
    "lens_cosmo = LensCosmo(0.230, 0.777)\n",
    "\n",
    "D_d = cosmo.angular_diameter_distance(0.230).value\n",
    "\n",
    "D_d, lens_cosmo.sigma_crit"
   ]
  },
  {
   "cell_type": "code",
   "execution_count": 12,
   "id": "primary-canberra",
   "metadata": {
    "scrolled": true
   },
   "outputs": [
    {
     "name": "stderr",
     "output_type": "stream",
     "text": [
      "/Users/ajshajib/anaconda3/lib/python3.7/site-packages/ipykernel_launcher.py:34: TqdmDeprecationWarning: Please use `tqdm.notebook.trange` instead of `tqdm.tnrange`\n"
     ]
    },
    {
     "data": {
      "application/vnd.jupyter.widget-view+json": {
       "model_id": "6704f81a90a84359ac76e6cd48ccb238",
       "version_major": 2,
       "version_minor": 0
      },
      "text/plain": [
       "Jobs::   0%|          | 0/12 [00:00<?, ?it/s]"
      ]
     },
     "metadata": {},
     "output_type": "display_data"
    },
    {
     "name": "stderr",
     "output_type": "stream",
     "text": [
      "/Users/ajshajib/anaconda3/lib/python3.7/site-packages/scipy/optimize/minpack.py:162: RuntimeWarning: The iteration is not making good progress, as measured by the \n",
      "  improvement from the last five Jacobian evaluations.\n",
      "  warnings.warn(msg, RuntimeWarning)\n",
      "/Users/ajshajib/anaconda3/lib/python3.7/site-packages/scipy/optimize/minpack.py:162: RuntimeWarning: The iteration is not making good progress, as measured by the \n",
      "  improvement from the last ten iterations.\n",
      "  warnings.warn(msg, RuntimeWarning)\n"
     ]
    }
   ],
   "source": [
    "import lenstronomy.Util.class_creator as class_creator\n",
    "from lenstronomy.LightModel.light_model import LightModel\n",
    "from lenstronomy.Util import mask_util as mask_util\n",
    "import lenstronomy.Util.util as util\n",
    "\n",
    "\n",
    "composite_theta_es = []\n",
    "composite_gammas = []\n",
    "\n",
    "composite_gamma_exts = []\n",
    "composite_psi_exts = []\n",
    "composite_qs = []\n",
    "composite_phis = []\n",
    "composite_reffs = []\n",
    "\n",
    "composite_dphi_ABs = []\n",
    "composite_dphi_ACs = []\n",
    "composite_dphi_ADs = []\n",
    "\n",
    "composite_invariant_gradients = []\n",
    "\n",
    "composite_del_bics = np.max(composite_bics) - np.array(composite_bics) \n",
    "sigma_numeric_bic, sigma_model_bic = 99.91711718678918, 325.16992966107614\n",
    "composite_weights = get_relative_weights(composite_bics, sigma_numeric_bic, take_std=False, \n",
    "                                  sigma_model=sigma_model_bic)\n",
    "\n",
    "#composite_weights = [1.] * len(composite_lens_models)\n",
    "composite_Rs = []\n",
    "composite_kappa_0s = []\n",
    "composite_mass2lights = []\n",
    "\n",
    "#print(composite_weights)\n",
    "\n",
    "for n_job in tnrange(len(composite_files), desc='Jobs:'):\n",
    "    \n",
    "    composite_theta_e = []\n",
    "    composite_theta_e_precision = []\n",
    "    composite_gamma = []\n",
    "    composite_gamma_ext = []\n",
    "    composite_psi_ext = []\n",
    "    composite_reff = []\n",
    "\n",
    "    composite_dphi_AB = []\n",
    "    composite_dphi_AC = []\n",
    "    composite_dphi_AD = []\n",
    "    \n",
    "    composite_invariant_gradient = []\n",
    "    composite_mass2light = []\n",
    "    \n",
    "    num_sample_from_job = int(composite_weights[n_job] * N_sample) #composite_num_param_arrays[n_job])\n",
    "    \n",
    "    td_cosmography = TDCosmography(z_lens=0.230, z_source=0.777, kwargs_model=composite_kwargs_models[n_job])\n",
    "    \n",
    "    lens_model = composite_lens_models[n_job] #lens_analysis.LensModel\n",
    "    lens_analysis = LensProfileAnalysis(composite_lens_models[n_job])\n",
    "    param_class = composite_param_classes[n_job]\n",
    "    \n",
    "    sampled_indices = []\n",
    "    bad_indices = []\n",
    "    \n",
    "    light_model = LightModel(kwargs_model['lens_light_model_list'])\n",
    "    x_grid, y_grid = util.make_grid(numPix=200, deltapix=0.005)\n",
    "    #mask = mask_util.mask_azimuthal(x_grid, y_grid, center_x, center_y, theta_E)\n",
    "    \n",
    "    while len(sampled_indices) < num_sample_from_job:\n",
    "        if len(sampled_indices) + len(bad_indices) >= composite_num_param_arrays[n_job]:\n",
    "            print(len(sampled_indices), len(bad_indices))\n",
    "            break\n",
    "            \n",
    "        try:\n",
    "            sampled_index = np.random.randint(low=0, high=composite_num_param_arrays[n_job])\n",
    "            if sampled_index in sampled_indices or sampled_indices in bad_indices:\n",
    "                continue\n",
    "\n",
    "            #for i in tnrange(len(sampled_indices), desc='Sample from job {:d}:'.format(n_job)): #len(samples_mcmc)):\n",
    "            if True:\n",
    "                param_array = composite_param_arrays[n_job][sampled_index]\n",
    "                #print(param_array)\n",
    "                kwargs_result = param_class.args2kwargs(param_array)\n",
    "                lens_result = kwargs_result['kwargs_lens']\n",
    "                lens_light_result = kwargs_result['kwargs_lens_light']\n",
    "                source_result = kwargs_result['kwargs_source']\n",
    "                ps_result = kwargs_result['kwargs_ps']\n",
    "\n",
    "                model_bool = [False] * len(lens_result)\n",
    "                model_bool[0] = True\n",
    "                model_bool[2] = True # True for composite\n",
    "                model_index = [0, 2] #[0, 2] for composite\n",
    "                \n",
    "                image_model = class_creator.create_im_sim(composite_multi_band_list[n_job], \n",
    "                                                          'multi-linear', \n",
    "                                                          composite_kwargs_models[n_job],\n",
    "                                                          bands_compute=[False, False, True],\n",
    "                                                          likelihood_mask_list=composite_kwargs_likelihoods[n_job]['image_likelihood_mask_list'])\n",
    "\n",
    "                model, error_map, cov_param, param = image_model.image_linear_solve(inv_bool=True, \n",
    "                                                                                    **kwargs_result)\n",
    "                \n",
    "                flux = light_model.surface_brightness(x_grid, y_grid, lens_light_result, k=6)\n",
    "                \n",
    "                m = get_abmag(np.sum(flux) * (0.01)**2, \n",
    "                              PHOTFLAM, PHOTZPT, PHOTPLAM)\n",
    "                \n",
    "                M = m - 5 * np.log10(D_d * 1e6/10)\n",
    "                \n",
    "                light = 10**(-0.4 * (M - 4.83))\n",
    "                \n",
    "                kappa = lens_model.kappa(x_grid, y_grid, lens_result, k=2)\n",
    "                \n",
    "                mass = lens_cosmo.sigma_crit * np.sum(kappa) * (D_d / 206265 * 0.01)**2\n",
    "                \n",
    "                composite_mass2lights.append(mass/light)\n",
    "                composite_Rs.append(lens_result[0]['Rs'])\n",
    "                composite_kappa_0s.append(lens_result[0]['alpha_Rs'] / lens_result[0]['Rs'] / (1 + np.log(0.5)))\n",
    "                \n",
    "                shear_psi, shear_mag = param_util.shear_cartesian2polar(lens_result[1]['gamma1'],\n",
    "                                                                lens_result[1]['gamma2'],\n",
    "                                                               )\n",
    "        \n",
    "                phi, q = param_util.ellipticity2phi_q(lens_result[0]['e1'],\n",
    "                                                      lens_result[0]['e2'])\n",
    "            \n",
    "                composite_phis.append(phi * 180 / np.pi)\n",
    "                composite_qs.append(q)\n",
    "                \n",
    "                composite_gamma_exts.append(shear_mag)\n",
    "                composite_psi_exts.append(shear_psi * 180 / np.pi)\n",
    "                \n",
    "\n",
    "#                 print(mass/light)\n",
    "#                 lens_analysis.mass_fraction_within_radius(lens_result,\n",
    "#                                                                   lens_light_result[0]['center_x'], \n",
    "#                                                                   lens_light_result[0]['center_y'],\n",
    "#                                                                   1.0,\n",
    "#                                                                   )[-1]\n",
    "                sampled_indices.append(sampled_index)\n",
    "        except( ValueError, TypeError): \n",
    "            # there some samples that throws ValueError in the theta/gamma computation\n",
    "            #print('here')\n",
    "            bad_indices.append(sampled_index)\n",
    "    \n",
    "    composite_mass2lights.append(composite_mass2light)\n",
    "#     composite_theta_es.append(np.nan_to_num(composite_theta_e, nan=np.nanmean(composite_theta_e)))\n",
    "#     composite_gammas.append(composite_gamma)\n",
    "#     composite_dphi_ABs.append(composite_dphi_AB)\n",
    "#     composite_dphi_ACs.append(composite_dphi_AC)\n",
    "#     composite_dphi_ADs.append(composite_dphi_AD)\n",
    "#     composite_gamma_exts.append(composite_gamma_ext)\n",
    "#     composite_psi_exts.append(composite_psi_ext)\n",
    "#     composite_invariant_gradients.append(composite_invariant_gradient)"
   ]
  },
  {
   "cell_type": "code",
   "execution_count": 22,
   "id": "impossible-gabriel",
   "metadata": {},
   "outputs": [
    {
     "name": "stdout",
     "output_type": "stream",
     "text": [
      "M2L 2.301778780145509 - 0.178570831799433 + 0.06152160634858017\n",
      "Rs 22.80454254177933 - 3.4722033213761314 + 2.6246802595277003\n",
      "kappa_0 0.16095599206372097 - 0.013993632894054614 + 0.03987577991583524\n",
      "q_m 0.7607852196980798 - 0.0384639437011316 + 0.0686417759215231\n",
      "phi_m -35.736057010319705 - 2.3375478139990378 + 4.1488382469294365\n",
      "gamma_ext 0.12808813659850143 - 0.007662938996180951 + 0.005449191077838339\n",
      "phi_ext -34.64968088388627 - 0.8881743090601759 + 1.6081553327136149\n"
     ]
    }
   ],
   "source": [
    "# flattened_array = []\n",
    "\n",
    "# for a in composite_mass2lights:\n",
    "#     flattened_array += a\n",
    "    \n",
    "composite_phis = np.array(composite_phis)\n",
    "composite_qs = np.array(composite_qs)\n",
    "\n",
    "composite_psi_exts = np.array(composite_psi_exts)\n",
    "composite_gamma_exts = np.array(composite_gamma_exts)\n",
    "\n",
    "composite_phis_clipped = composite_phis[(composite_phis > -58) & (composite_phis < -10)] #np.copy(composite_phis)\n",
    "composite_qs_clipped = composite_qs[(composite_phis > -58) & (composite_phis < -10)] #np.copy(composite_phis)\n",
    "#composite_phis = composite_phis[]\n",
    "\n",
    "composite_psi_exts_clipped = composite_psi_exts[(composite_psi_exts > -45) & (composite_psi_exts < -20)]\n",
    "composite_gamma_exts_clipped = composite_gamma_exts[(composite_psi_exts > -45) & (composite_psi_exts < -20)]\n",
    "    \n",
    "for array, param in zip([composite_mass2lights, composite_Rs, composite_kappa_0s, \n",
    "                         composite_qs_clipped, composite_phis_clipped,\n",
    "                          composite_gamma_exts_clipped, composite_psi_exts_clipped],\n",
    "                         ['M2L', 'Rs', 'kappa_0', 'q_m', 'phi_m', 'gamma_ext', 'phi_ext']\n",
    "                        ):\n",
    "    low, med, hi = np.percentile(array, q=[16, 50, 84])\n",
    "\n",
    "    print(param, med, '-', med-low, '+', hi-med)"
   ]
  },
  {
   "cell_type": "code",
   "execution_count": 14,
   "id": "current-memory",
   "metadata": {},
   "outputs": [
    {
     "data": {
      "text/plain": [
       "[{'Rs': 21.46206306181724,\n",
       "  'alpha_Rs': 1.1774681031096872,\n",
       "  'e1': -0.1300194203845276,\n",
       "  'e2': -0.08414896646340468,\n",
       "  'center_x': -0.20611798166109938,\n",
       "  'center_y': 0.06259510812475481},\n",
       " {'gamma1': -0.028526779107526257,\n",
       "  'gamma2': -0.11078448081789022,\n",
       "  'ra_0': 0,\n",
       "  'dec_0': 0},\n",
       " {'alpha_1': 1.0219129833633527,\n",
       "  'ratio12': 1.0931827774027212,\n",
       "  'ratio13': 14.41798566385715,\n",
       "  'w_c1': 0.07194890279674758,\n",
       "  'w_t1': 0.5071802946275837,\n",
       "  'e11': -0.07775962278436181,\n",
       "  'e21': 0.2677149368374084,\n",
       "  'w_c2': 0.32690864421835136,\n",
       "  'w_t2': 5.19232612122138,\n",
       "  'e12': -0.02397532638161991,\n",
       "  'e22': 0.09279491484733632,\n",
       "  'w_c3': 1.3239951719162701,\n",
       "  'w_t3': 1.6693460096063335,\n",
       "  'e13': -0.09012727811116977,\n",
       "  'e23': 0.31292123839329533,\n",
       "  'center_x': -0.0036444138416338134,\n",
       "  'center_y': -0.007118087795999951}]"
      ]
     },
     "execution_count": 14,
     "metadata": {},
     "output_type": "execute_result"
    }
   ],
   "source": [
    "lens_result"
   ]
  },
  {
   "cell_type": "code",
   "execution_count": 15,
   "id": "female-technician",
   "metadata": {},
   "outputs": [
    {
     "data": {
      "text/plain": [
       "<matplotlib.axes._subplots.AxesSubplot at 0x7fb51d671c88>"
      ]
     },
     "execution_count": 15,
     "metadata": {},
     "output_type": "execute_result"
    },
    {
     "data": {
      "image/png": "[encoded data removed]",
      "text/plain": [
       "<Figure size 432x288 with 1 Axes>"
      ]
     },
     "metadata": {},
     "output_type": "display_data"
    }
   ],
   "source": [
    "import seaborn as sns\n",
    "\n",
    "sns.kdeplot(composite_phis)\n",
    "sns.kdeplot(composite_phis_clipped)"
   ]
  },
  {
   "cell_type": "code",
   "execution_count": 20,
   "id": "compatible-captain",
   "metadata": {},
   "outputs": [
    {
     "data": {
      "text/plain": [
       "<matplotlib.axes._subplots.AxesSubplot at 0x7fb504ea2898>"
      ]
     },
     "execution_count": 20,
     "metadata": {},
     "output_type": "execute_result"
    },
    {
     "data": {
      "image/png": "[encoded data removed]",
      "text/plain": [
       "<Figure size 432x288 with 1 Axes>"
      ]
     },
     "metadata": {},
     "output_type": "display_data"
    }
   ],
   "source": [
    "sns.kdeplot(composite_qs)"
   ]
  },
  {
   "cell_type": "code",
   "execution_count": 21,
   "id": "rational-monday",
   "metadata": {},
   "outputs": [
    {
     "data": {
      "text/plain": [
       "<matplotlib.axes._subplots.AxesSubplot at 0x7fb503c356a0>"
      ]
     },
     "execution_count": 21,
     "metadata": {},
     "output_type": "execute_result"
    },
    {
     "data": {
      "image/png": "[encoded data removed]",
      "text/plain": [
       "<Figure size 432x288 with 1 Axes>"
      ]
     },
     "metadata": {},
     "output_type": "display_data"
    }
   ],
   "source": [
    "sns.kdeplot(composite_psi_exts)"
   ]
  },
  {
   "cell_type": "code",
   "execution_count": null,
   "id": "indonesian-fundamental",
   "metadata": {},
   "outputs": [],
   "source": []
  }
 ],
 "metadata": {
  "kernelspec": {
   "display_name": "Python 3",
   "language": "python",
   "name": "python3"
  },
  "language_info": {
   "codemirror_mode": {
    "name": "ipython",
    "version": 3
   },
   "file_extension": ".py",
   "mimetype": "text/x-python",
   "name": "python",
   "nbconvert_exporter": "python",
   "pygments_lexer": "ipython3",
   "version": "3.7.3"
  }
 },
 "nbformat": 4,
 "nbformat_minor": 5
}
