{
 "cells": [
  {
   "cell_type": "markdown",
   "id": "immediate-impression",
   "metadata": {},
   "source": [
    "## Imports"
   ]
  },
  {
   "cell_type": "code",
   "execution_count": 1,
   "id": "drawn-specification",
   "metadata": {},
   "outputs": [
    {
     "data": {
      "text/plain": [
       "'1.9.3'"
      ]
     },
     "execution_count": 1,
     "metadata": {},
     "output_type": "execute_result"
    }
   ],
   "source": [
    "import lenstronomy\n",
    "\n",
    "lenstronomy.__version__"
   ]
  },
  {
   "cell_type": "code",
   "execution_count": 2,
   "id": "trained-refund",
   "metadata": {},
   "outputs": [
    {
     "name": "stdout",
     "output_type": "stream",
     "text": [
      "Base directory path: /Users/ajshajib/Research/time_delay_cosmography/J2038/WGD2038-4008/lenstronomy_modeling\n"
     ]
    }
   ],
   "source": [
    "import numpy as np\n",
    "import os\n",
    "import pickle\n",
    "import copy\n",
    "import time\n",
    "import h5py\n",
    "from pprint import pprint\n",
    "import joblib\n",
    "import gc\n",
    "from tqdm import tnrange\n",
    "\n",
    "import lenstronomy.Util.util as util\n",
    "from lenstronomy.Workflow.fitting_sequence import FittingSequence\n",
    "from lenstronomy.Plots.model_plot import ModelPlot\n",
    "from lenstronomy.Plots import chain_plot\n",
    "from lenstronomy.Sampling.parameters import Param\n",
    "from lenstronomy.Util import mask_util\n",
    "from lenstronomy.LensModel.lens_model import LensModel\n",
    "from lenstronomy.Data.coord_transforms import Coordinates\n",
    "from lenstronomy.Util.util import array2image\n",
    "from lenstronomy.Cosmo.lens_cosmo import LensCosmo\n",
    "from lenstronomy.Analysis.lens_profile import LensProfileAnalysis\n",
    "\n",
    "cwd = os.getcwd()\n",
    "base_path, _ = os.path.split(cwd)\n",
    "print('Base directory path:', base_path)"
   ]
  },
  {
   "cell_type": "code",
   "execution_count": 3,
   "id": "pursuant-adult",
   "metadata": {},
   "outputs": [],
   "source": [
    "import matplotlib.pyplot as plt\n",
    "import seaborn as sns\n",
    "import paperfig as pf\n",
    "\n",
    "pf.set_fontscale(2.)\n",
    "\n",
    "import sys\n",
    "sys.path.insert(0, './process_output')\n",
    "\n",
    "from output_class import *\n",
    "# to load the custom_log_likelihood function for unpickling\n",
    "\n",
    "savefig = False"
   ]
  },
  {
   "cell_type": "markdown",
   "id": "actual-reservoir",
   "metadata": {},
   "source": [
    "# Load output files"
   ]
  },
  {
   "cell_type": "code",
   "execution_count": 4,
   "id": "available-hydrogen",
   "metadata": {},
   "outputs": [],
   "source": [
    "composite_files = [\n",
    "    '2038_run205_1_0_0_0_0_shortened',\n",
    "    '2038_run205_1_0_1_0_0_shortened',\n",
    "    '2038_run205_1_0_2_0_0_shortened',\n",
    "    '2038_run205_1_1_0_0_0_shortened',\n",
    "    '2038_run205_1_1_1_0_0_shortened',\n",
    "    '2038_run205_1_1_2_0_0_shortened',\n",
    "    \n",
    "    '2038_run206_1_0_0_0_0_shortened',\n",
    "    '2038_run206_1_0_1_0_0_shortened',\n",
    "    '2038_run206_1_0_2_0_0_shortened',\n",
    "    '2038_run206_1_1_0_0_0_shortened',\n",
    "    '2038_run206_1_1_1_0_0_shortened',\n",
    "    '2038_run206_1_1_2_0_0_shortened',\n",
    "    \n",
    "#     '2038_run178_1_0_0_0_0_shortened',\n",
    "#     '2038_run178_1_0_1_0_0_shortened',\n",
    "#     '2038_run178_1_0_2_0_0_shortened',\n",
    "#     '2038_run178_1_1_0_0_0_shortened',\n",
    "#     '2038_run178_1_1_1_0_0_shortened',\n",
    "#     '2038_run178_1_1_2_0_0_shortened',\n",
    "    \n",
    "#     '2038_run179_1_0_0_0_0_shortened',\n",
    "#     '2038_run179_1_0_1_0_0_shortened',\n",
    "#     '2038_run179_1_0_2_0_0_shortened',\n",
    "#     '2038_run179_1_1_0_0_0_shortened',\n",
    "#     '2038_run179_1_1_1_0_0_shortened',\n",
    "#     '2038_run179_1_1_2_0_0_shortened',\n",
    "]"
   ]
  },
  {
   "cell_type": "code",
   "execution_count": 5,
   "id": "available-roots",
   "metadata": {},
   "outputs": [],
   "source": [
    "composite_bics = []\n",
    "composite_param_arrays = []\n",
    "composite_num_param_arrays = []\n",
    "composite_kwargs_models = []\n",
    "composite_kwargs_constraints = []\n",
    "composite_param_classes = []\n",
    "composite_lens_models = []\n",
    "composite_kwargs_likelihoods = []\n",
    "composite_multi_band_list = []\n",
    "\n",
    "for job_name_out in composite_files:\n",
    "    output_temp = os.path.join(base_path, 'temp', job_name_out +'_out.txt')\n",
    "\n",
    "    f = open(output_temp, 'rb')\n",
    "    [input_, output_] = joblib.load(f)\n",
    "    f.close()\n",
    "    fitting_kwargs_list, kwargs_joint, kwargs_model, kwargs_constraints, kwargs_likelihood, kwargs_params, init_samples = input_\n",
    "    kwargs_result, multi_band_list_out, fit_output, _ = output_\n",
    "    multi_band_list = kwargs_joint['multi_band_list']\n",
    "\n",
    "    samples_mcmc = fit_output[-1][1][np.random.randint(0, high=fit_output[-1][1].shape[0], size=10000)]\n",
    "    param_mcmc = fit_output[-1][2]\n",
    "    \n",
    "    param_class = Param(kwargs_model,\n",
    "                        kwargs_params['lens_model'][2], \n",
    "                        kwargs_params['source_model'][2],\n",
    "                        kwargs_params['lens_light_model'][2],\n",
    "                        kwargs_params['point_source_model'][2],\n",
    "                        kwargs_lens_init=kwargs_params['lens_model'][0], #kwargs_result['kwargs_lens'],\n",
    "                        **kwargs_constraints\n",
    "                       )\n",
    "    \n",
    "    lens_model = LensModel(lens_model_list=kwargs_model['lens_model_list'],\n",
    "                           z_lens=0.230, z_source=0.777,\n",
    "                           multi_plane=False, #True, \n",
    "                          )\n",
    "    \n",
    "    num_data = np.sum([np.sum(m) for m in kwargs_likelihood['image_likelihood_mask_list']])\n",
    "    num_param = param_class.num_param()[0] + param_class.num_param_linear()\n",
    "    max_logL = np.max(fit_output[-1][-1])\n",
    "    \n",
    "    bic = compute_BIC(num_data, num_param, max_logL)\n",
    "    \n",
    "    composite_bics.append(bic)\n",
    "    composite_param_arrays.append(np.copy(samples_mcmc))\n",
    "    composite_num_param_arrays.append(len(samples_mcmc))\n",
    "    composite_kwargs_models.append(kwargs_model)\n",
    "    composite_kwargs_constraints.append(kwargs_constraints)\n",
    "    composite_param_classes.append(param_class)\n",
    "    composite_lens_models.append(lens_model)\n",
    "    composite_kwargs_likelihoods.append(kwargs_likelihood)\n",
    "    composite_multi_band_list.append(multi_band_list_out)\n",
    "    \n",
    "    gc.collect()\n",
    "    #break"
   ]
  },
  {
   "cell_type": "markdown",
   "id": "iraqi-magnitude",
   "metadata": {},
   "source": [
    "## Compute BIC weights and combine models"
   ]
  },
  {
   "cell_type": "code",
   "execution_count": 6,
   "id": "graduate-bathroom",
   "metadata": {
    "scrolled": true
   },
   "outputs": [
    {
     "data": {
      "text/plain": [
       "12"
      ]
     },
     "execution_count": 6,
     "metadata": {},
     "output_type": "execute_result"
    }
   ],
   "source": [
    "len(composite_kwargs_models)"
   ]
  },
  {
   "cell_type": "code",
   "execution_count": 7,
   "id": "parallel-panel",
   "metadata": {},
   "outputs": [],
   "source": [
    "# from the notebook \"Fermat potentials and lens model comparisons\"\n",
    "sigma_numeric_bic, sigma_model_bic = 69.05339424569138, 237.25336211795366"
   ]
  },
  {
   "cell_type": "code",
   "execution_count": 8,
   "id": "spanish-marketing",
   "metadata": {},
   "outputs": [],
   "source": [
    "num_sample = 100"
   ]
  },
  {
   "cell_type": "code",
   "execution_count": 9,
   "id": "documentary-music",
   "metadata": {
    "scrolled": false
   },
   "outputs": [
    {
     "name": "stderr",
     "output_type": "stream",
     "text": [
      "/Users/ajshajib/anaconda3/lib/python3.7/site-packages/ipykernel_launcher.py:21: TqdmDeprecationWarning: Please use `tqdm.notebook.trange` instead of `tqdm.tnrange`\n"
     ]
    },
    {
     "data": {
      "application/vnd.jupyter.widget-view+json": {
       "model_id": "41f7cea3a42e4967822cdb743ca4c538",
       "version_major": 2,
       "version_minor": 0
      },
      "text/plain": [
       "Jobs::   0%|          | 0/12 [00:00<?, ?it/s]"
      ]
     },
     "metadata": {},
     "output_type": "display_data"
    },
    {
     "name": "stderr",
     "output_type": "stream",
     "text": [
      "/Users/ajshajib/anaconda3/lib/python3.7/site-packages/ipykernel_launcher.py:34: TqdmDeprecationWarning: Please use `tqdm.notebook.trange` instead of `tqdm.tnrange`\n"
     ]
    },
    {
     "data": {
      "application/vnd.jupyter.widget-view+json": {
       "model_id": "e4ee29229f794ccca94f9b57a23fe8a4",
       "version_major": 2,
       "version_minor": 0
      },
      "text/plain": [
       "Sample from job 0::   0%|          | 0/36 [00:00<?, ?it/s]"
      ]
     },
     "metadata": {},
     "output_type": "display_data"
    },
    {
     "name": "stderr",
     "output_type": "stream",
     "text": [
      "/Users/ajshajib/anaconda3/lib/python3.7/site-packages/scipy/optimize/minpack.py:175: RuntimeWarning: The iteration is not making good progress, as measured by the \n",
      "  improvement from the last five Jacobian evaluations.\n",
      "  warnings.warn(msg, RuntimeWarning)\n",
      "/Users/ajshajib/anaconda3/lib/python3.7/site-packages/scipy/optimize/minpack.py:175: RuntimeWarning: The iteration is not making good progress, as measured by the \n",
      "  improvement from the last ten iterations.\n",
      "  warnings.warn(msg, RuntimeWarning)\n"
     ]
    },
    {
     "data": {
      "application/vnd.jupyter.widget-view+json": {
       "model_id": "e0512774111147e4a7387fd9e11a79ca",
       "version_major": 2,
       "version_minor": 0
      },
      "text/plain": [
       "Sample from job 1::   0%|          | 0/63 [00:00<?, ?it/s]"
      ]
     },
     "metadata": {},
     "output_type": "display_data"
    },
    {
     "name": "stdout",
     "output_type": "stream",
     "text": [
      "\n",
      " NNLS quitting on iteration count.\n",
      "\n",
      " NNLS quitting on iteration count.\n",
      "\n",
      " NNLS quitting on iteration count.\n",
      "\n",
      " NNLS quitting on iteration count.\n",
      "\n",
      " NNLS quitting on iteration count.\n",
      "\n",
      " NNLS quitting on iteration count.\n",
      "\n",
      " NNLS quitting on iteration count.\n",
      "\n",
      " NNLS quitting on iteration count.\n",
      "\n",
      " NNLS quitting on iteration count.\n",
      "\n",
      " NNLS quitting on iteration count.\n",
      "\n",
      " NNLS quitting on iteration count.\n",
      "\n",
      " NNLS quitting on iteration count.\n",
      "\n",
      " NNLS quitting on iteration count.\n",
      "\n",
      " NNLS quitting on iteration count.\n",
      "\n",
      " NNLS quitting on iteration count.\n",
      "\n",
      " NNLS quitting on iteration count.\n",
      "\n",
      " NNLS quitting on iteration count.\n",
      "\n",
      " NNLS quitting on iteration count.\n",
      "\n",
      " NNLS quitting on iteration count.\n",
      "\n",
      " NNLS quitting on iteration count.\n",
      "\n",
      " NNLS quitting on iteration count.\n",
      "\n",
      " NNLS quitting on iteration count.\n",
      "\n",
      " NNLS quitting on iteration count.\n",
      "\n",
      " NNLS quitting on iteration count.\n"
     ]
    },
    {
     "data": {
      "application/vnd.jupyter.widget-view+json": {
       "model_id": "d337a72af1e64128a2178eec9d6e3b98",
       "version_major": 2,
       "version_minor": 0
      },
      "text/plain": [
       "Sample from job 2::   0%|          | 0/100 [00:00<?, ?it/s]"
      ]
     },
     "metadata": {},
     "output_type": "display_data"
    },
    {
     "name": "stdout",
     "output_type": "stream",
     "text": [
      "\n",
      " NNLS quitting on iteration count.\n",
      "\n",
      " NNLS quitting on iteration count.\n",
      "\n",
      " NNLS quitting on iteration count.\n",
      "\n",
      " NNLS quitting on iteration count.\n",
      "\n",
      " NNLS quitting on iteration count.\n",
      "\n",
      " NNLS quitting on iteration count.\n",
      "\n",
      " NNLS quitting on iteration count.\n",
      "\n",
      " NNLS quitting on iteration count.\n",
      "\n",
      " NNLS quitting on iteration count.\n",
      "\n",
      " NNLS quitting on iteration count.\n",
      "\n",
      " NNLS quitting on iteration count.\n",
      "\n",
      " NNLS quitting on iteration count.\n"
     ]
    },
    {
     "data": {
      "application/vnd.jupyter.widget-view+json": {
       "model_id": "69b226af31874330849d48a7eaf309ff",
       "version_major": 2,
       "version_minor": 0
      },
      "text/plain": [
       "Sample from job 3:: 0it [00:00, ?it/s]"
      ]
     },
     "metadata": {},
     "output_type": "display_data"
    },
    {
     "data": {
      "application/vnd.jupyter.widget-view+json": {
       "model_id": "d626e41d9c834c418167b624414d2e4e",
       "version_major": 2,
       "version_minor": 0
      },
      "text/plain": [
       "Sample from job 4:: 0it [00:00, ?it/s]"
      ]
     },
     "metadata": {},
     "output_type": "display_data"
    },
    {
     "data": {
      "application/vnd.jupyter.widget-view+json": {
       "model_id": "d97b4365a8f24cc8a63243958b2bfcda",
       "version_major": 2,
       "version_minor": 0
      },
      "text/plain": [
       "Sample from job 5:: 0it [00:00, ?it/s]"
      ]
     },
     "metadata": {},
     "output_type": "display_data"
    },
    {
     "data": {
      "application/vnd.jupyter.widget-view+json": {
       "model_id": "2bb84e66a6334fd09663837985a4b66a",
       "version_major": 2,
       "version_minor": 0
      },
      "text/plain": [
       "Sample from job 6::   0%|          | 0/31 [00:00<?, ?it/s]"
      ]
     },
     "metadata": {},
     "output_type": "display_data"
    },
    {
     "name": "stdout",
     "output_type": "stream",
     "text": [
      "\n",
      " NNLS quitting on iteration count.\n",
      "\n",
      " NNLS quitting on iteration count.\n",
      "\n",
      " NNLS quitting on iteration count.\n",
      "\n",
      " NNLS quitting on iteration count.\n",
      "\n",
      " NNLS quitting on iteration count.\n",
      "\n",
      " NNLS quitting on iteration count.\n"
     ]
    },
    {
     "data": {
      "application/vnd.jupyter.widget-view+json": {
       "model_id": "6e4551d80d314f70b3e8d7f23de4d65b",
       "version_major": 2,
       "version_minor": 0
      },
      "text/plain": [
       "Sample from job 7::   0%|          | 0/50 [00:00<?, ?it/s]"
      ]
     },
     "metadata": {},
     "output_type": "display_data"
    },
    {
     "data": {
      "application/vnd.jupyter.widget-view+json": {
       "model_id": "9f88dc7af9404f698026d924eaa49d1d",
       "version_major": 2,
       "version_minor": 0
      },
      "text/plain": [
       "Sample from job 8::   0%|          | 0/98 [00:00<?, ?it/s]"
      ]
     },
     "metadata": {},
     "output_type": "display_data"
    },
    {
     "name": "stdout",
     "output_type": "stream",
     "text": [
      "\n",
      " NNLS quitting on iteration count.\n",
      "\n",
      " NNLS quitting on iteration count.\n",
      "\n",
      " NNLS quitting on iteration count.\n",
      "\n",
      " NNLS quitting on iteration count.\n",
      "\n",
      " NNLS quitting on iteration count.\n"
     ]
    },
    {
     "data": {
      "application/vnd.jupyter.widget-view+json": {
       "model_id": "7518ce5f2cd24abeaafe752bde9ff4a7",
       "version_major": 2,
       "version_minor": 0
      },
      "text/plain": [
       "Sample from job 9:: 0it [00:00, ?it/s]"
      ]
     },
     "metadata": {},
     "output_type": "display_data"
    },
    {
     "data": {
      "application/vnd.jupyter.widget-view+json": {
       "model_id": "954e280b85bd43ce82ebe2bc7dc362c1",
       "version_major": 2,
       "version_minor": 0
      },
      "text/plain": [
       "Sample from job 10:: 0it [00:00, ?it/s]"
      ]
     },
     "metadata": {},
     "output_type": "display_data"
    },
    {
     "data": {
      "application/vnd.jupyter.widget-view+json": {
       "model_id": "1ae1f7052fed4267b00eaabf3e444d74",
       "version_major": 2,
       "version_minor": 0
      },
      "text/plain": [
       "Sample from job 11:: 0it [00:00, ?it/s]"
      ]
     },
     "metadata": {},
     "output_type": "display_data"
    }
   ],
   "source": [
    "composite_vel_dis_profiles = []\n",
    "a_anis = []\n",
    "r_effs = []\n",
    "\n",
    "a_ani_min = 0.5\n",
    "a_ani_max = 5\n",
    "\n",
    "rs = np.arange(0., 1.51, 0.1)\n",
    "\n",
    "kwargs_galkin_numerics = {#'sampling_number': 1000,\n",
    "                                       'interpol_grid_num': 1000,\n",
    "                                       'log_integration': True,\n",
    "                                       'max_integrate': 100,\n",
    "                                       'min_integrate': 0.001}\n",
    "\n",
    "lens_cosmo = LensCosmo(z_lens=0.230, z_source=0.777)\n",
    "\n",
    "composite_weights = get_relative_weights(composite_bics, sigma_model_bic, take_std=False, \n",
    "                                  sigma_model=sigma_model_bic)    \n",
    "\n",
    "for n_job in tnrange(len(composite_files), desc='Jobs:'):\n",
    "    \n",
    "    r200s, M200s, c200s = [], [], []\n",
    "    stellar_mass = []\n",
    "    total_mass_within_0p2_arcsec = []\n",
    "    \n",
    "    num_sample_from_job = int(num_sample * composite_weights[n_job])\n",
    "    \n",
    "    sampled_indices = np.random.randint(low=0, high=composite_num_param_arrays[n_job], size=num_sample_from_job)\n",
    "    \n",
    "    lens_model = composite_lens_models[n_job] #lens_analysis.LensModel\n",
    "    lens_analysis = LensProfileAnalysis(composite_lens_models[n_job])\n",
    "    \n",
    "    for i in tnrange(len(sampled_indices), desc='Sample from job {:d}:'.format(n_job)): #len(samples_mcmc)):\n",
    "        param_array = composite_param_arrays[n_job][sampled_indices[i]]\n",
    "\n",
    "        param_class = composite_param_classes[n_job]\n",
    "        \n",
    "        kwargs_result = param_class.args2kwargs(param_array)\n",
    "        lens_result = kwargs_result['kwargs_lens']\n",
    "        lens_light_result = kwargs_result['kwargs_lens_light']\n",
    "        source_result = kwargs_result['kwargs_source']\n",
    "        ps_result = kwargs_result['kwargs_ps']\n",
    "\n",
    "        #_, _, c, r, M = lens_cosmo.nfw_angle2physical(lens_result[0]['Rs'], lens_result[0]['alpha_Rs'])\n",
    "        \n",
    "        #num_samples = self.get_num_samples()\n",
    "\n",
    "        model_velocity_dispersion = []\n",
    "\n",
    "        anisotropy_model = 'isotropic'  # anisotropy model applied\n",
    "        aperture_type = 'IFU_shells'  # type of aperture used\n",
    "\n",
    "        #if num_compute is None:\n",
    "        #    num_compute = num_samples - start_index\n",
    "\n",
    "        n = 0\n",
    "\n",
    "        # source_result = kwargs_result['kwargs_source']\n",
    "        # ps_result = kwargs_result['kwargs_ps']\n",
    "\n",
    "        if False: #self.is_test:\n",
    "            band_index = 0\n",
    "        else:\n",
    "            band_index = 2\n",
    "\n",
    "        kwargs_aperture = {'aperture_type': aperture_type,\n",
    "                           #'length': self.APERTURE_LENGTH[n],\n",
    "                           #'width': self.SLIT_WIDTH[n],\n",
    "                           'center_ra': 0., #lens_light_result[0]['center_x'],\n",
    "                           'center_dec': 0., #lens_light_result[0]['center_y'],\n",
    "                           #'angle': 0\n",
    "                            'r_bins': rs\n",
    "                           }\n",
    "\n",
    "        kwargs_seeing = {'psf_type': 'GAUSSIAN',\n",
    "                         'fwhm': 0.001, #self.PSF_FWHM[n],\n",
    "                         #'moffat_beta': self.MOFFAT_BETA[n]\n",
    "                        }\n",
    "\n",
    "#         light_model_bool = [False] * len(\n",
    "#             kwargs_model['lens_light_model_list'])\n",
    "\n",
    "#         if False:\n",
    "#             light_model_bool[0] = True\n",
    "#         else:\n",
    "#             if False: #self.model_type == \"powerlaw\":\n",
    "#                 # indices: 8, 9, 10\n",
    "#                 light_model_bool[6] = True  # F160W Sersic profile\n",
    "#                 light_model_bool[7] = True\n",
    "#                 light_model_bool[8] = True\n",
    "#             elif True: #self.model_type == \"composite\":\n",
    "#                 light_model_bool[6] = True  # Chameleon profile F160W index: 6\n",
    "#             else:\n",
    "#                 raise NotImplementedError\n",
    "\n",
    "        kwargs_model['lens_light_model_list'] = ['MULTI_GAUSSIAN',\n",
    "                                                      'MULTI_GAUSSIAN',\n",
    "                                                      'MULTI_GAUSSIAN']\n",
    "                                                                            \n",
    "        light_model_bool = [False, False, True]\n",
    "\n",
    "        lens_model_bool = [False] * len(\n",
    "            kwargs_model['lens_model_list'])\n",
    "\n",
    "        if False: #self.model_type == 'powerlaw':  # self.kwargs_model['lens_model_list'][0] == 'SPEMD':\n",
    "            lens_model_bool[0] = True\n",
    "\n",
    "            cGD_light = False\n",
    "            cGD_mass = False\n",
    "        else:\n",
    "            lens_model_bool[0] = True\n",
    "            lens_model_bool[2] = True\n",
    "\n",
    "            cGD_light = False\n",
    "            cGD_mass = True\n",
    "\n",
    "        kinematics_api = KinematicsAPI(z_lens=0.23, \n",
    "                                       z_source=0.777,\n",
    "                                       kwargs_model=kwargs_model,\n",
    "                                       kwargs_aperture=kwargs_aperture,\n",
    "                                       kwargs_seeing=kwargs_seeing,\n",
    "                                       anisotropy_model=anisotropy_model,\n",
    "                                       cosmo=None,\n",
    "                                       lens_model_kinematics_bool=lens_model_bool,\n",
    "                                       light_model_kinematics_bool=light_model_bool,\n",
    "                                       multi_observations=False,\n",
    "                                       kwargs_numerics_galkin=kwargs_galkin_numerics,\n",
    "                                       analytic_kinematics=False,\n",
    "                                       Hernquist_approx=False,\n",
    "                                       MGE_light=cGD_light,\n",
    "                                       MGE_mass=cGD_mass,\n",
    "                                       kwargs_mge_light=None,\n",
    "                                       kwargs_mge_mass=None,\n",
    "                                       sampling_number=1000,\n",
    "                                       num_kin_sampling=2000,\n",
    "                                       num_psf_sampling=500)\n",
    "\n",
    "        for i in range(1): # start_index, start_index+num_compute):\n",
    "#             if print_step is not None:\n",
    "#                 if (i-start_index)%print_step == 0:\n",
    "#                     print('Computing step: {}'.format(i-start_index))\n",
    "\n",
    "#             sample = self.samples_mcmc[i]\n",
    "\n",
    "            #vel_dis_array = []\n",
    "\n",
    "            r_eff_uncertainty_factor = np.random.normal(loc=1., scale=0.03)\n",
    "\n",
    "            if False: #self.is_test:\n",
    "                a_ani = 2\n",
    "            else:\n",
    "                r_eff = 2.4 * r_eff_uncertainty_factor #self.get_r_eff(i)\n",
    "    \n",
    "                     # Jeffrey's prior for a_ani\n",
    "                a_ani = 10**np.random.uniform(np.log10(a_ani_min),\n",
    "                                              np.log10(a_ani_max))\n",
    "\n",
    "            a_anis.append(a_ani)\n",
    "            r_effs.append(r_eff)\n",
    "\n",
    "            #kwargs_result = self.param_class.args2kwargs(sample)\n",
    "\n",
    "            # set the anisotropy radius. r_eff is pre-computed half-light\n",
    "            # radius of the lens light\n",
    "            kwargs_anisotropy = {} #'r_ani': a_ani * r_eff}\n",
    "\n",
    "            kwargs_gaussian_light = [{\n",
    "                'center_x': lens_light_result[0]['center_x'],\n",
    "                'center_y': lens_light_result[0]['center_y'],\n",
    "                # these values are from the isophote model -> MGE fit in F814W\n",
    "                'amp': np.array([28.8552871 , 136.50077782, 165.79432709, 326.27644665,\n",
    "        471.53423998, 809.66654098]),\n",
    "                'sigma': np. array([0.08652982, 0.25408345, 0.51528969, 0.68861029, 1.86218783,\n",
    "        2.67014751]) * r_eff_uncertainty_factor\n",
    "            }] * 3\n",
    "\n",
    "            # compute the velocity disperson in a pre-specified cosmology\n",
    "            # (see lenstronomy function)\n",
    "            vel_dis = kinematics_api.velocity_dispersion_map(\n",
    "                kwargs_result['kwargs_lens'],\n",
    "                kwargs_gaussian_light,\n",
    "                #kwargs_result['kwargs_lens_light'],\n",
    "                kwargs_anisotropy\n",
    "            )\n",
    "    \n",
    "            #print(vel_dis)\n",
    "            composite_vel_dis_profiles.append(vel_dis)\n",
    "\n",
    "        \n",
    "        "
   ]
  },
  {
   "cell_type": "code",
   "execution_count": 12,
   "id": "optical-casino",
   "metadata": {},
   "outputs": [
    {
     "data": {
      "image/png": "[encoded data removed]",
      "text/plain": [
       "<Figure size 432x288 with 1 Axes>"
      ]
     },
     "metadata": {},
     "output_type": "display_data"
    }
   ],
   "source": [
    "vel_dis_upper_quantile, vel_dis_med_quantile, vel_dis_lower_quantile  = np.percentile(composite_vel_dis_profiles, q=[84, 50, 16], axis=0)\n",
    "\n",
    "_rs = np.arange(0.05, 1.5, 0.1)\n",
    "\n",
    "fig = plt.figure()\n",
    "ax = fig.add_subplot(111)\n",
    "\n",
    "for v in composite_vel_dis_profiles:\n",
    "    ax.plot(_rs, vel_dis_med_quantile, c=pf.cb_blue)\n",
    "    ax.fill_between(_rs, vel_dis_upper_quantile, vel_dis_lower_quantile, alpha=0.4, color=pf.cb_blue)\n",
    "    ax.set_xlabel(r'$R$ (arcsec)')\n",
    "    \n",
    "    ax.set_ylabel(r'$\\sigma_{\\rm los}$ (km s$^{-1}$)')"
   ]
  },
  {
   "cell_type": "markdown",
   "id": "tutorial-assault",
   "metadata": {},
   "source": [
    "### powerlaw profiles"
   ]
  },
  {
   "cell_type": "code",
   "execution_count": 13,
   "id": "recovered-community",
   "metadata": {},
   "outputs": [],
   "source": [
    "powerlaw_files = [\n",
    "    '2038_run145_0_0_0_0_0_shortened',\n",
    "    '2038_run145_0_0_1_0_0_shortened',\n",
    "    '2038_run145_0_0_2_0_0_shortened',\n",
    "    '2038_run145_0_1_0_0_0_shortened',\n",
    "    '2038_run145_0_1_1_0_0_shortened',\n",
    "    '2038_run145_0_1_2_0_0_shortened',\n",
    "    \n",
    "    '2038_run146_0_0_0_0_0_shortened',\n",
    "    '2038_run146_0_0_1_0_0_shortened',\n",
    "    '2038_run146_0_0_2_0_0_shortened',\n",
    "    '2038_run146_0_1_0_0_0_shortened',\n",
    "    '2038_run146_0_1_1_0_0_shortened',\n",
    "    '2038_run146_0_1_2_0_0_shortened',\n",
    "]"
   ]
  },
  {
   "cell_type": "code",
   "execution_count": 14,
   "id": "stunning-sentence",
   "metadata": {},
   "outputs": [],
   "source": [
    "powerlaw_bics = []\n",
    "powerlaw_param_arrays = []\n",
    "powerlaw_num_param_arrays = []\n",
    "powerlaw_kwargs_models = []\n",
    "powerlaw_kwargs_constraints = []\n",
    "powerlaw_param_classes = []\n",
    "powerlaw_lens_models = []\n",
    "powerlaw_kwargs_likelihoods = []\n",
    "powerlaw_multi_band_list = []\n",
    "powerlaw_kwargs_joint = []\n",
    "\n",
    "for job_name_out in powerlaw_files:\n",
    "    output_temp = os.path.join(base_path, 'temp', job_name_out +'_out.txt')\n",
    "\n",
    "    f = open(output_temp, 'rb')\n",
    "    [input_, output_] = joblib.load(f)\n",
    "    f.close()\n",
    "    fitting_kwargs_list, kwargs_joint, kwargs_model, kwargs_constraints, kwargs_likelihood, kwargs_params, init_samples = input_\n",
    "  \n",
    "    kwargs_result, multi_band_list_out, fit_output, _ = output_\n",
    "    multi_band_list = kwargs_joint['multi_band_list']\n",
    "\n",
    "    samples_mcmc = fit_output[-1][1] #[np.random.randint(0, high=fit_output[-1][1].shape[0], size=N_sample)]\n",
    "    param_mcmc = fit_output[-1][2]\n",
    "    \n",
    "    param_class = Param(kwargs_model,\n",
    "                        kwargs_params['lens_model'][2], \n",
    "                        kwargs_params['source_model'][2],\n",
    "                        kwargs_params['lens_light_model'][2],\n",
    "                        kwargs_params['point_source_model'][2],\n",
    "                        kwargs_lens_init=kwargs_params['lens_model'][0], #kwargs_result['kwargs_lens'],\n",
    "                        **kwargs_constraints\n",
    "                       )\n",
    "    \n",
    "    lens_model = LensModel(lens_model_list=kwargs_model['lens_model_list'],\n",
    "                           z_lens=0.230, z_source=0.777,\n",
    "                           multi_plane=False, #True, \n",
    "                          )\n",
    "    \n",
    "    num_data = np.sum([np.sum(m) for m in kwargs_likelihood['image_likelihood_mask_list']])\n",
    "    num_param = param_class.num_param()[0] + param_class.num_param_linear()\n",
    "    max_logL = np.max(fit_output[-1][-1])\n",
    "    \n",
    "    bic = compute_BIC(num_data, num_param, max_logL)\n",
    "    \n",
    "    powerlaw_bics.append(bic)\n",
    "    powerlaw_param_arrays.append(np.copy(samples_mcmc))\n",
    "    powerlaw_num_param_arrays.append(len(samples_mcmc))\n",
    "    powerlaw_kwargs_models.append(kwargs_model)\n",
    "    powerlaw_kwargs_constraints.append(kwargs_constraints)\n",
    "    powerlaw_param_classes.append(param_class)\n",
    "    powerlaw_lens_models.append(lens_model)\n",
    "    powerlaw_kwargs_likelihoods.append(kwargs_likelihood)\n",
    "    powerlaw_multi_band_list.append(multi_band_list_out)\n",
    "    powerlaw_kwargs_joint.append(kwargs_joint)\n",
    "    \n",
    "    gc.collect()\n",
    "    #break"
   ]
  },
  {
   "cell_type": "code",
   "execution_count": 15,
   "id": "divine-might",
   "metadata": {},
   "outputs": [
    {
     "name": "stderr",
     "output_type": "stream",
     "text": [
      "/Users/ajshajib/anaconda3/lib/python3.7/site-packages/ipykernel_launcher.py:18: TqdmDeprecationWarning: Please use `tqdm.notebook.trange` instead of `tqdm.tnrange`\n"
     ]
    },
    {
     "data": {
      "application/vnd.jupyter.widget-view+json": {
       "model_id": "1cc0995e696b4a42ad8c0849ae84522d",
       "version_major": 2,
       "version_minor": 0
      },
      "text/plain": [
       "Jobs::   0%|          | 0/12 [00:00<?, ?it/s]"
      ]
     },
     "metadata": {},
     "output_type": "display_data"
    },
    {
     "name": "stderr",
     "output_type": "stream",
     "text": [
      "/Users/ajshajib/anaconda3/lib/python3.7/site-packages/ipykernel_launcher.py:34: TqdmDeprecationWarning: Please use `tqdm.notebook.trange` instead of `tqdm.tnrange`\n"
     ]
    },
    {
     "data": {
      "application/vnd.jupyter.widget-view+json": {
       "model_id": "b82dd1aa91cc4ed4834554d81751e41a",
       "version_major": 2,
       "version_minor": 0
      },
      "text/plain": [
       "Sample from job 0::   0%|          | 0/27 [00:00<?, ?it/s]"
      ]
     },
     "metadata": {},
     "output_type": "display_data"
    },
    {
     "data": {
      "application/vnd.jupyter.widget-view+json": {
       "model_id": "240353315b324fda926f1bcd7832831b",
       "version_major": 2,
       "version_minor": 0
      },
      "text/plain": [
       "Sample from job 1::   0%|          | 0/72 [00:00<?, ?it/s]"
      ]
     },
     "metadata": {},
     "output_type": "display_data"
    },
    {
     "data": {
      "application/vnd.jupyter.widget-view+json": {
       "model_id": "a2b2cefc734d46c897bf2b23c6e36324",
       "version_major": 2,
       "version_minor": 0
      },
      "text/plain": [
       "Sample from job 2::   0%|          | 0/94 [00:00<?, ?it/s]"
      ]
     },
     "metadata": {},
     "output_type": "display_data"
    },
    {
     "data": {
      "application/vnd.jupyter.widget-view+json": {
       "model_id": "334dce7e69a7425e81d397e786d9be06",
       "version_major": 2,
       "version_minor": 0
      },
      "text/plain": [
       "Sample from job 3:: 0it [00:00, ?it/s]"
      ]
     },
     "metadata": {},
     "output_type": "display_data"
    },
    {
     "data": {
      "application/vnd.jupyter.widget-view+json": {
       "model_id": "beddbc99e5b045988074d539cf1de815",
       "version_major": 2,
       "version_minor": 0
      },
      "text/plain": [
       "Sample from job 4:: 0it [00:00, ?it/s]"
      ]
     },
     "metadata": {},
     "output_type": "display_data"
    },
    {
     "data": {
      "application/vnd.jupyter.widget-view+json": {
       "model_id": "336a98b10b1047a99697033edac2ab0c",
       "version_major": 2,
       "version_minor": 0
      },
      "text/plain": [
       "Sample from job 5:: 0it [00:00, ?it/s]"
      ]
     },
     "metadata": {},
     "output_type": "display_data"
    },
    {
     "data": {
      "application/vnd.jupyter.widget-view+json": {
       "model_id": "9866921908d2473cab712be49e6a87ca",
       "version_major": 2,
       "version_minor": 0
      },
      "text/plain": [
       "Sample from job 6::   0%|          | 0/36 [00:00<?, ?it/s]"
      ]
     },
     "metadata": {},
     "output_type": "display_data"
    },
    {
     "data": {
      "application/vnd.jupyter.widget-view+json": {
       "model_id": "08fc0d97ce9a4396ba7297e713446d30",
       "version_major": 2,
       "version_minor": 0
      },
      "text/plain": [
       "Sample from job 7::   0%|          | 0/75 [00:00<?, ?it/s]"
      ]
     },
     "metadata": {},
     "output_type": "display_data"
    },
    {
     "data": {
      "application/vnd.jupyter.widget-view+json": {
       "model_id": "074f3d52b95849be8f24e7ec7870935a",
       "version_major": 2,
       "version_minor": 0
      },
      "text/plain": [
       "Sample from job 8::   0%|          | 0/100 [00:00<?, ?it/s]"
      ]
     },
     "metadata": {},
     "output_type": "display_data"
    },
    {
     "data": {
      "application/vnd.jupyter.widget-view+json": {
       "model_id": "b3283a9f36e34dd29b49893319573d23",
       "version_major": 2,
       "version_minor": 0
      },
      "text/plain": [
       "Sample from job 9:: 0it [00:00, ?it/s]"
      ]
     },
     "metadata": {},
     "output_type": "display_data"
    },
    {
     "data": {
      "application/vnd.jupyter.widget-view+json": {
       "model_id": "c0726c163fa248daa219445a91a0f109",
       "version_major": 2,
       "version_minor": 0
      },
      "text/plain": [
       "Sample from job 10:: 0it [00:00, ?it/s]"
      ]
     },
     "metadata": {},
     "output_type": "display_data"
    },
    {
     "data": {
      "application/vnd.jupyter.widget-view+json": {
       "model_id": "f8c237281fb748dcbbdbc9a56ce18d90",
       "version_major": 2,
       "version_minor": 0
      },
      "text/plain": [
       "Sample from job 11:: 0it [00:00, ?it/s]"
      ]
     },
     "metadata": {},
     "output_type": "display_data"
    }
   ],
   "source": [
    "from lenstronomy.Analysis.lens_profile import LensProfileAnalysis\n",
    "from lenstronomy.Analysis.light_profile import LightProfileAnalysis\n",
    "from lenstronomy.LightModel.light_model import LightModel\n",
    "import lenstronomy.Util.class_creator as class_creator\n",
    "\n",
    "\n",
    "pl_vel_dis_profiles = []\n",
    "\n",
    "lens_cosmo = LensCosmo(z_lens=0.230, z_source=0.777)\n",
    "\n",
    "powerlaw_weights = get_relative_weights(powerlaw_bics, sigma_model_bic, take_std=False, \n",
    "                                  sigma_model=sigma_model_bic)    \n",
    "\n",
    "powerlaw_profiles = []\n",
    "sersic_profiles = []\n",
    "\n",
    "\n",
    "for n_job in tnrange(len(composite_files), desc='Jobs:'):\n",
    "    num_sample_from_job = int(num_sample * powerlaw_weights[n_job])\n",
    "    \n",
    "    sampled_indices = np.random.randint(low=0, high=powerlaw_num_param_arrays[n_job], size=num_sample_from_job)\n",
    "    \n",
    "    lens_model = powerlaw_lens_models[n_job] #lens_analysis.LensModel\n",
    "    lens_analysis = LensProfileAnalysis(powerlaw_lens_models[n_job])\n",
    "\n",
    "    lens_profile = LensProfileAnalysis(lens_model)\n",
    "    \n",
    "    kwargs_model = powerlaw_kwargs_models[n_job]\n",
    "    \n",
    "    light_model = LightModel(kwargs_model['lens_light_model_list'])\n",
    "    light_analysis = LightProfileAnalysis(light_model)\n",
    "    \n",
    "    \n",
    "    for i in tnrange(len(sampled_indices), desc='Sample from job {:d}:'.format(n_job)): #len(samples_mcmc)):\n",
    "        r = np.logspace(-2, 1, 100)\n",
    "        \n",
    "        param_array = powerlaw_param_arrays[n_job][sampled_indices[i]]\n",
    "\n",
    "        param_class = powerlaw_param_classes[n_job]\n",
    "        \n",
    "        kwargs_result = param_class.args2kwargs(param_array)\n",
    "        lens_result = kwargs_result['kwargs_lens']\n",
    "        lens_light_result = kwargs_result['kwargs_lens_light']\n",
    "        source_result = kwargs_result['kwargs_source']\n",
    "        ps_result = kwargs_result['kwargs_ps']\n",
    "\n",
    "        #_, _, c, r, M = lens_cosmo.nfw_angle2physical(lens_result[0]['Rs'], lens_result[0]['alpha_Rs'])\n",
    "        \n",
    "        #num_samples = self.get_num_samples()\n",
    "\n",
    "        model_velocity_dispersion = []\n",
    "\n",
    "        anisotropy_model = 'isotropic'  # anisotropy model applied\n",
    "        aperture_type = 'IFU_shells'  # type of aperture used\n",
    "\n",
    "        #if num_compute is None:\n",
    "        #    num_compute = num_samples - start_index\n",
    "\n",
    "        n = 0\n",
    "\n",
    "        # source_result = kwargs_result['kwargs_source']\n",
    "        # ps_result = kwargs_result['kwargs_ps']\n",
    "\n",
    "        if False: #self.is_test:\n",
    "            band_index = 0\n",
    "        else:\n",
    "            band_index = 2\n",
    "\n",
    "        kwargs_aperture = {'aperture_type': aperture_type,\n",
    "                           #'length': self.APERTURE_LENGTH[n],\n",
    "                           #'width': self.SLIT_WIDTH[n],\n",
    "                           'center_ra': 0., #lens_light_result[0]['center_x'],\n",
    "                           'center_dec': 0., #lens_light_result[0]['center_y'],\n",
    "                           #'angle': 0\n",
    "                            'r_bins': rs\n",
    "                           }\n",
    "\n",
    "        kwargs_seeing = {'psf_type': 'GAUSSIAN',\n",
    "                         'fwhm': 0.001, #self.PSF_FWHM[n],\n",
    "                         #'moffat_beta': self.MOFFAT_BETA[n]\n",
    "                        }\n",
    "\n",
    "#         light_model_bool = [False] * len(\n",
    "#             kwargs_model['lens_light_model_list'])\n",
    "\n",
    "#         if False:\n",
    "#             light_model_bool[0] = True\n",
    "#         else:\n",
    "#             if False: #self.model_type == \"powerlaw\":\n",
    "#                 # indices: 8, 9, 10\n",
    "#                 light_model_bool[6] = True  # F160W Sersic profile\n",
    "#                 light_model_bool[7] = True\n",
    "#                 light_model_bool[8] = True\n",
    "#             elif True: #self.model_type == \"composite\":\n",
    "#                 light_model_bool[6] = True  # Chameleon profile F160W index: 6\n",
    "#             else:\n",
    "#                 raise NotImplementedError\n",
    "\n",
    "        kwargs_model['lens_light_model_list'] = ['MULTI_GAUSSIAN',\n",
    "                                                      'MULTI_GAUSSIAN',\n",
    "                                                      'MULTI_GAUSSIAN']\n",
    "                                                                            \n",
    "        light_model_bool = [False, False, True]\n",
    "\n",
    "        lens_model_bool = [False] * len(\n",
    "            kwargs_model['lens_model_list'])\n",
    "\n",
    "        if True: #self.model_type == 'powerlaw':  # self.kwargs_model['lens_model_list'][0] == 'SPEMD':\n",
    "            lens_model_bool[0] = True\n",
    "\n",
    "            cGD_light = False\n",
    "            cGD_mass = False\n",
    "        else:\n",
    "            lens_model_bool[0] = True\n",
    "            lens_model_bool[2] = True\n",
    "\n",
    "            cGD_light = False\n",
    "            cGD_mass = True\n",
    "\n",
    "        kinematics_api = KinematicsAPI(z_lens=0.23, \n",
    "                                       z_source=0.777,\n",
    "                                       kwargs_model=kwargs_model,\n",
    "                                       kwargs_aperture=kwargs_aperture,\n",
    "                                       kwargs_seeing=kwargs_seeing,\n",
    "                                       anisotropy_model=anisotropy_model,\n",
    "                                       cosmo=None,\n",
    "                                       lens_model_kinematics_bool=lens_model_bool,\n",
    "                                       light_model_kinematics_bool=light_model_bool,\n",
    "                                       multi_observations=False,\n",
    "                                       kwargs_numerics_galkin=kwargs_galkin_numerics,\n",
    "                                       analytic_kinematics=False,\n",
    "                                       Hernquist_approx=False,\n",
    "                                       MGE_light=cGD_light,\n",
    "                                       MGE_mass=cGD_mass,\n",
    "                                       kwargs_mge_light=None,\n",
    "                                       kwargs_mge_mass=None,\n",
    "                                       sampling_number=1000,\n",
    "                                       num_kin_sampling=2000,\n",
    "                                       num_psf_sampling=500)\n",
    "\n",
    "        for i in range(1): # start_index, start_index+num_compute):\n",
    "#             if print_step is not None:\n",
    "#                 if (i-start_index)%print_step == 0:\n",
    "#                     print('Computing step: {}'.format(i-start_index))\n",
    "\n",
    "#             sample = self.samples_mcmc[i]\n",
    "\n",
    "            #vel_dis_array = []\n",
    "\n",
    "            r_eff_uncertainty_factor = np.random.normal(loc=1., scale=0.03)\n",
    "\n",
    "            if False: #self.is_test:\n",
    "                a_ani = 2\n",
    "            else:\n",
    "                r_eff = 2.4 * r_eff_uncertainty_factor #self.get_r_eff(i)\n",
    "    \n",
    "                     # Jeffrey's prior for a_ani\n",
    "                a_ani = 10**np.random.uniform(np.log10(a_ani_min),\n",
    "                                              np.log10(a_ani_max))\n",
    "\n",
    "            a_anis.append(a_ani)\n",
    "            r_effs.append(r_eff)\n",
    "\n",
    "            #kwargs_result = self.param_class.args2kwargs(sample)\n",
    "\n",
    "            # set the anisotropy radius. r_eff is pre-computed half-light\n",
    "            # radius of the lens light\n",
    "            kwargs_anisotropy = {} #'r_ani': a_ani * r_eff}\n",
    "\n",
    "            kwargs_gaussian_light = [{\n",
    "                'center_x': lens_light_result[0]['center_x'],\n",
    "                'center_y': lens_light_result[0]['center_y'],\n",
    "                # these values are from the isophote model -> MGE fit in F814W\n",
    "                'amp': np.array([28.8552871 , 136.50077782, 165.79432709, 326.27644665,\n",
    "        471.53423998, 809.66654098]),\n",
    "                'sigma': np. array([0.08652982, 0.25408345, 0.51528969, 0.68861029, 1.86218783,\n",
    "        2.67014751]) * r_eff_uncertainty_factor\n",
    "            }] * 3\n",
    "\n",
    "            # compute the velocity disperson in a pre-specified cosmology\n",
    "            # (see lenstronomy function)\n",
    "            vel_dis = kinematics_api.velocity_dispersion_map(\n",
    "                kwargs_result['kwargs_lens'],\n",
    "                kwargs_gaussian_light,\n",
    "                #kwargs_result['kwargs_lens_light'],\n",
    "                kwargs_anisotropy\n",
    "            )\n",
    "    \n",
    "            #print(vel_dis)\n",
    "            pl_vel_dis_profiles.append(vel_dis)\n",
    "\n",
    "        \n",
    "        "
   ]
  },
  {
   "cell_type": "code",
   "execution_count": 16,
   "id": "adjacent-grace",
   "metadata": {},
   "outputs": [],
   "source": [
    "composite_vel_dis_upper_quantile, composite_vel_dis_med_quantile, composite_vel_dis_lower_quantile  = np.percentile(composite_vel_dis_profiles, q=[84, 50, 16], axis=0)\n",
    "powerlaw_vel_dis_upper_quantile, powerlaw_vel_dis_med_quantile, powerlaw_vel_dis_lower_quantile  = np.percentile(pl_vel_dis_profiles, q=[84, 50, 16], axis=0)\n",
    "\n",
    "_rs = np.arange(0.05, 1.5, 0.1)"
   ]
  },
  {
   "cell_type": "code",
   "execution_count": 19,
   "id": "authorized-enough",
   "metadata": {},
   "outputs": [
    {
     "data": {
      "image/png": "[encoded data removed]",
      "text/plain": [
       "<Figure size 432x288 with 1 Axes>"
      ]
     },
     "metadata": {},
     "output_type": "display_data"
    }
   ],
   "source": [
    "fig = plt.figure()\n",
    "ax = fig.add_subplot(111)\n",
    "\n",
    "\n",
    "ax.plot(_rs, powerlaw_vel_dis_med_quantile, c=pf.cb_red, label='Power law')\n",
    "ax.plot(_rs, composite_vel_dis_med_quantile, c=pf.cb_blue, label='Composite')\n",
    "\n",
    "ax.fill_between(_rs, powerlaw_vel_dis_upper_quantile, powerlaw_vel_dis_lower_quantile, alpha=0.4, color=pf.cb_red)\n",
    "ax.fill_between(_rs, composite_vel_dis_upper_quantile, composite_vel_dis_lower_quantile, alpha=0.4, color=pf.cb_blue)\n",
    "ax.set_xlabel(r'$R$ (${\\prime\\prime}$)')\n",
    "ax.set_xlim(0.1, 1.45)\n",
    "ax.legend()\n",
    "ax.set_ylabel(r'$\\sigma_{\\rm los}$ (km s$^{-1}$)')\n",
    "\n",
    "fig.savefig('/Users/ajshajib/Dropbox/Papers_Proposals/2038_model/figures/velocity_dispersion_profile_lenstronomy.pdf',\n",
    "            bbox_inches='tight')"
   ]
  },
  {
   "cell_type": "code",
   "execution_count": null,
   "id": "empty-copyright",
   "metadata": {},
   "outputs": [],
   "source": []
  }
 ],
 "metadata": {
  "kernelspec": {
   "display_name": "Python 3 (ipykernel)",
   "language": "python",
   "name": "python3"
  },
  "language_info": {
   "codemirror_mode": {
    "name": "ipython",
    "version": 3
   },
   "file_extension": ".py",
   "mimetype": "text/x-python",
   "name": "python",
   "nbconvert_exporter": "python",
   "pygments_lexer": "ipython3",
   "version": "3.7.3"
  }
 },
 "nbformat": 4,
 "nbformat_minor": 5
}
