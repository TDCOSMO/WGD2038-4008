{
 "cells": [
  {
   "cell_type": "markdown",
   "id": "communist-personality",
   "metadata": {},
   "source": [
    "## Imports"
   ]
  },
  {
   "cell_type": "code",
   "execution_count": 1,
   "id": "about-thousand",
   "metadata": {},
   "outputs": [
    {
     "data": {
      "text/plain": [
       "'1.9.3'"
      ]
     },
     "execution_count": 1,
     "metadata": {},
     "output_type": "execute_result"
    }
   ],
   "source": [
    "import lenstronomy\n",
    "\n",
    "lenstronomy.__version__"
   ]
  },
  {
   "cell_type": "code",
   "execution_count": 2,
   "id": "about-pound",
   "metadata": {},
   "outputs": [
    {
     "name": "stdout",
     "output_type": "stream",
     "text": [
      "Base directory path: /Users/ajshajib/Research/time_delay_cosmography/J2038/WGD2038-4008/lenstronomy_modeling\n"
     ]
    }
   ],
   "source": [
    "import numpy as np\n",
    "import os\n",
    "import pickle\n",
    "import copy\n",
    "import time\n",
    "import h5py\n",
    "from pprint import pprint\n",
    "import joblib\n",
    "import gc\n",
    "from tqdm import tnrange\n",
    "\n",
    "import lenstronomy.Util.util as util\n",
    "from lenstronomy.Workflow.fitting_sequence import FittingSequence\n",
    "from lenstronomy.Plots.model_plot import ModelPlot\n",
    "from lenstronomy.Plots import chain_plot\n",
    "from lenstronomy.Sampling.parameters import Param\n",
    "from lenstronomy.Util import mask_util\n",
    "from lenstronomy.LensModel.lens_model import LensModel\n",
    "from lenstronomy.Data.coord_transforms import Coordinates\n",
    "from lenstronomy.Util.util import array2image\n",
    "from lenstronomy.Cosmo.lens_cosmo import LensCosmo\n",
    "from lenstronomy.Analysis.lens_profile import LensProfileAnalysis\n",
    "\n",
    "cwd = os.getcwd()\n",
    "base_path, _ = os.path.split(cwd)\n",
    "print('Base directory path:', base_path)"
   ]
  },
  {
   "cell_type": "code",
   "execution_count": 3,
   "id": "respiratory-child",
   "metadata": {},
   "outputs": [],
   "source": [
    "import matplotlib.pyplot as plt\n",
    "import seaborn as sns\n",
    "import paperfig as pf\n",
    "\n",
    "pf.set_fontscale(2.)\n",
    "\n",
    "import sys\n",
    "sys.path.insert(0, './process_output')\n",
    "\n",
    "from output_class import *\n",
    "# to load the custom_log_likelihood function for unpickling\n",
    "\n",
    "savefig = False"
   ]
  },
  {
   "cell_type": "markdown",
   "id": "regular-satellite",
   "metadata": {},
   "source": [
    "# Load output files"
   ]
  },
  {
   "cell_type": "code",
   "execution_count": 4,
   "id": "genetic-guess",
   "metadata": {},
   "outputs": [],
   "source": [
    "composite_files = [\n",
    "    '2038_run205_1_0_0_0_0_shortened',\n",
    "    '2038_run205_1_0_1_0_0_shortened',\n",
    "    '2038_run205_1_0_2_0_0_shortened',\n",
    "    '2038_run205_1_1_0_0_0_shortened',\n",
    "    '2038_run205_1_1_1_0_0_shortened',\n",
    "    '2038_run205_1_1_2_0_0_shortened',\n",
    "    \n",
    "    '2038_run206_1_0_0_0_0_shortened',\n",
    "    '2038_run206_1_0_1_0_0_shortened',\n",
    "    '2038_run206_1_0_2_0_0_shortened',\n",
    "    '2038_run206_1_1_0_0_0_shortened',\n",
    "    '2038_run206_1_1_1_0_0_shortened',\n",
    "    '2038_run206_1_1_2_0_0_shortened',\n",
    "    \n",
    "#     '2038_run178_1_0_0_0_0_shortened',\n",
    "#     '2038_run178_1_0_1_0_0_shortened',\n",
    "#     '2038_run178_1_0_2_0_0_shortened',\n",
    "#     '2038_run178_1_1_0_0_0_shortened',\n",
    "#     '2038_run178_1_1_1_0_0_shortened',\n",
    "#     '2038_run178_1_1_2_0_0_shortened',\n",
    "    \n",
    "#     '2038_run179_1_0_0_0_0_shortened',\n",
    "#     '2038_run179_1_0_1_0_0_shortened',\n",
    "#     '2038_run179_1_0_2_0_0_shortened',\n",
    "#     '2038_run179_1_1_0_0_0_shortened',\n",
    "#     '2038_run179_1_1_1_0_0_shortened',\n",
    "#     '2038_run179_1_1_2_0_0_shortened',\n",
    "]"
   ]
  },
  {
   "cell_type": "code",
   "execution_count": 5,
   "id": "coastal-wrong",
   "metadata": {},
   "outputs": [],
   "source": [
    "composite_bics = []\n",
    "composite_param_arrays = []\n",
    "composite_num_param_arrays = []\n",
    "composite_kwargs_models = []\n",
    "composite_kwargs_constraints = []\n",
    "composite_param_classes = []\n",
    "composite_lens_models = []\n",
    "composite_kwargs_likelihoods = []\n",
    "composite_multi_band_list = []\n",
    "\n",
    "for job_name_out in composite_files:\n",
    "    output_temp = os.path.join(base_path, 'temp', job_name_out +'_out.txt')\n",
    "\n",
    "    f = open(output_temp, 'rb')\n",
    "    [input_, output_] = joblib.load(f)\n",
    "    f.close()\n",
    "    fitting_kwargs_list, kwargs_joint, kwargs_model, kwargs_constraints, kwargs_likelihood, kwargs_params, init_samples = input_\n",
    "    kwargs_result, multi_band_list_out, fit_output, _ = output_\n",
    "    multi_band_list = kwargs_joint['multi_band_list']\n",
    "\n",
    "    samples_mcmc = fit_output[-1][1][np.random.randint(0, high=fit_output[-1][1].shape[0], size=10000)]\n",
    "    param_mcmc = fit_output[-1][2]\n",
    "    \n",
    "    param_class = Param(kwargs_model,\n",
    "                        kwargs_params['lens_model'][2], \n",
    "                        kwargs_params['source_model'][2],\n",
    "                        kwargs_params['lens_light_model'][2],\n",
    "                        kwargs_params['point_source_model'][2],\n",
    "                        kwargs_lens_init=kwargs_params['lens_model'][0], #kwargs_result['kwargs_lens'],\n",
    "                        **kwargs_constraints\n",
    "                       )\n",
    "    \n",
    "    lens_model = LensModel(lens_model_list=kwargs_model['lens_model_list'],\n",
    "                           z_lens=0.230, z_source=0.777,\n",
    "                           multi_plane=False, #True, \n",
    "                          )\n",
    "    \n",
    "    num_data = np.sum([np.sum(m) for m in kwargs_likelihood['image_likelihood_mask_list']])\n",
    "    num_param = param_class.num_param()[0] + param_class.num_param_linear()\n",
    "    max_logL = np.max(fit_output[-1][-1])\n",
    "    \n",
    "    bic = compute_BIC(num_data, num_param, max_logL)\n",
    "    \n",
    "    composite_bics.append(bic)\n",
    "    composite_param_arrays.append(np.copy(samples_mcmc))\n",
    "    composite_num_param_arrays.append(len(samples_mcmc))\n",
    "    composite_kwargs_models.append(kwargs_model)\n",
    "    composite_kwargs_constraints.append(kwargs_constraints)\n",
    "    composite_param_classes.append(param_class)\n",
    "    composite_lens_models.append(lens_model)\n",
    "    composite_kwargs_likelihoods.append(kwargs_likelihood)\n",
    "    composite_multi_band_list.append(multi_band_list_out)\n",
    "    \n",
    "    gc.collect()\n",
    "    #break"
   ]
  },
  {
   "cell_type": "markdown",
   "id": "choice-dream",
   "metadata": {},
   "source": [
    "## Compute BIC weights and combine models"
   ]
  },
  {
   "cell_type": "code",
   "execution_count": 6,
   "id": "senior-tissue",
   "metadata": {
    "scrolled": true
   },
   "outputs": [
    {
     "data": {
      "text/plain": [
       "12"
      ]
     },
     "execution_count": 6,
     "metadata": {},
     "output_type": "execute_result"
    }
   ],
   "source": [
    "len(composite_kwargs_models)"
   ]
  },
  {
   "cell_type": "code",
   "execution_count": 7,
   "id": "reverse-transparency",
   "metadata": {},
   "outputs": [],
   "source": [
    "# from the notebook \"Fermat potentials and lens model comparisons\"\n",
    "sigma_numeric_bic, sigma_model_bic = 69.05339424569138, 237.25336211795366"
   ]
  },
  {
   "cell_type": "code",
   "execution_count": 8,
   "id": "referenced-produce",
   "metadata": {},
   "outputs": [],
   "source": [
    "num_sample = 500"
   ]
  },
  {
   "cell_type": "code",
   "execution_count": 9,
   "id": "chief-priority",
   "metadata": {},
   "outputs": [
    {
     "name": "stderr",
     "output_type": "stream",
     "text": [
      "/var/folders/ry/23z2z0bd7_d814t1jlq8ydlw0000gn/T/ipykernel_47891/1987961454.py:15: TqdmDeprecationWarning: Please use `tqdm.notebook.trange` instead of `tqdm.tnrange`\n",
      "  for n_job in tnrange(len(composite_files), desc='Jobs:'):\n"
     ]
    },
    {
     "data": {
      "application/vnd.jupyter.widget-view+json": {
       "model_id": "0381d2e5a9064b1f8d06631165b8fd20",
       "version_major": 2,
       "version_minor": 0
      },
      "text/plain": [
       "Jobs::   0%|          | 0/12 [00:00<?, ?it/s]"
      ]
     },
     "metadata": {},
     "output_type": "display_data"
    },
    {
     "name": "stderr",
     "output_type": "stream",
     "text": [
      "/var/folders/ry/23z2z0bd7_d814t1jlq8ydlw0000gn/T/ipykernel_47891/1987961454.py:28: TqdmDeprecationWarning: Please use `tqdm.notebook.trange` instead of `tqdm.tnrange`\n",
      "  for i in tnrange(len(sampled_indices), desc='Sample from job {:d}:'.format(n_job)): #len(samples_mcmc)):\n"
     ]
    },
    {
     "data": {
      "application/vnd.jupyter.widget-view+json": {
       "model_id": "661992d8612845e9b1e1ced3abc88bc7",
       "version_major": 2,
       "version_minor": 0
      },
      "text/plain": [
       "Sample from job 0::   0%|          | 0/183 [00:00<?, ?it/s]"
      ]
     },
     "metadata": {},
     "output_type": "display_data"
    },
    {
     "name": "stderr",
     "output_type": "stream",
     "text": [
      "/Users/ajshajib/miniforge3/lib/python3.9/site-packages/scipy/optimize/_minpack_py.py:175: RuntimeWarning: The iteration is not making good progress, as measured by the \n",
      "  improvement from the last five Jacobian evaluations.\n",
      "  warnings.warn(msg, RuntimeWarning)\n",
      "/Users/ajshajib/miniforge3/lib/python3.9/site-packages/scipy/optimize/_minpack_py.py:175: RuntimeWarning: The iteration is not making good progress, as measured by the \n",
      "  improvement from the last ten iterations.\n",
      "  warnings.warn(msg, RuntimeWarning)\n"
     ]
    },
    {
     "data": {
      "application/vnd.jupyter.widget-view+json": {
       "model_id": "ab59c7f5630040ef87d1f8c14e56854f",
       "version_major": 2,
       "version_minor": 0
      },
      "text/plain": [
       "Sample from job 1::   0%|          | 0/317 [00:00<?, ?it/s]"
      ]
     },
     "metadata": {},
     "output_type": "display_data"
    },
    {
     "data": {
      "application/vnd.jupyter.widget-view+json": {
       "model_id": "6dedeaf1e6c9438584c91e9733919cad",
       "version_major": 2,
       "version_minor": 0
      },
      "text/plain": [
       "Sample from job 2::   0%|          | 0/500 [00:00<?, ?it/s]"
      ]
     },
     "metadata": {},
     "output_type": "display_data"
    },
    {
     "data": {
      "application/vnd.jupyter.widget-view+json": {
       "model_id": "3e4c05ec567c42a99db77accd7ac088d",
       "version_major": 2,
       "version_minor": 0
      },
      "text/plain": [
       "Sample from job 3:: 0it [00:00, ?it/s]"
      ]
     },
     "metadata": {},
     "output_type": "display_data"
    },
    {
     "data": {
      "application/vnd.jupyter.widget-view+json": {
       "model_id": "941543f608914e5995d0b76086342fd1",
       "version_major": 2,
       "version_minor": 0
      },
      "text/plain": [
       "Sample from job 4:: 0it [00:00, ?it/s]"
      ]
     },
     "metadata": {},
     "output_type": "display_data"
    },
    {
     "data": {
      "application/vnd.jupyter.widget-view+json": {
       "model_id": "d8337150925a459185d323163360ea77",
       "version_major": 2,
       "version_minor": 0
      },
      "text/plain": [
       "Sample from job 5:: 0it [00:00, ?it/s]"
      ]
     },
     "metadata": {},
     "output_type": "display_data"
    },
    {
     "data": {
      "application/vnd.jupyter.widget-view+json": {
       "model_id": "018d73355ad344598e151ec9f8a678ff",
       "version_major": 2,
       "version_minor": 0
      },
      "text/plain": [
       "Sample from job 6::   0%|          | 0/157 [00:00<?, ?it/s]"
      ]
     },
     "metadata": {},
     "output_type": "display_data"
    },
    {
     "data": {
      "application/vnd.jupyter.widget-view+json": {
       "model_id": "5c071b93bd5544ffa00530d8c5788de4",
       "version_major": 2,
       "version_minor": 0
      },
      "text/plain": [
       "Sample from job 7::   0%|          | 0/250 [00:00<?, ?it/s]"
      ]
     },
     "metadata": {},
     "output_type": "display_data"
    },
    {
     "data": {
      "application/vnd.jupyter.widget-view+json": {
       "model_id": "157103425c3448f6b61ba5199d669037",
       "version_major": 2,
       "version_minor": 0
      },
      "text/plain": [
       "Sample from job 8::   0%|          | 0/492 [00:00<?, ?it/s]"
      ]
     },
     "metadata": {},
     "output_type": "display_data"
    },
    {
     "data": {
      "application/vnd.jupyter.widget-view+json": {
       "model_id": "afa85cf446b14a729f005b112d1e90ae",
       "version_major": 2,
       "version_minor": 0
      },
      "text/plain": [
       "Sample from job 9:: 0it [00:00, ?it/s]"
      ]
     },
     "metadata": {},
     "output_type": "display_data"
    },
    {
     "data": {
      "application/vnd.jupyter.widget-view+json": {
       "model_id": "c2265a345c95446c96d494f711b944b3",
       "version_major": 2,
       "version_minor": 0
      },
      "text/plain": [
       "Sample from job 10:: 0it [00:00, ?it/s]"
      ]
     },
     "metadata": {},
     "output_type": "display_data"
    },
    {
     "data": {
      "application/vnd.jupyter.widget-view+json": {
       "model_id": "d484d042bce846408bf757af9d64c86d",
       "version_major": 2,
       "version_minor": 0
      },
      "text/plain": [
       "Sample from job 11::   0%|          | 0/1 [00:00<?, ?it/s]"
      ]
     },
     "metadata": {},
     "output_type": "display_data"
    }
   ],
   "source": [
    "composite_r200s = []\n",
    "composite_M200s = []\n",
    "composite_c200s = []\n",
    "\n",
    "stellar_masses = []\n",
    "dm_fraction = []\n",
    "\n",
    "total_masses_within_0p2_arcsec = []\n",
    "\n",
    "lens_cosmo = LensCosmo(z_lens=0.230, z_source=0.777)\n",
    "\n",
    "composite_weights = get_relative_weights(composite_bics, sigma_model_bic, take_std=False, \n",
    "                                  sigma_model=sigma_model_bic)    \n",
    "\n",
    "for n_job in tnrange(len(composite_files), desc='Jobs:'):\n",
    "    \n",
    "    r200s, M200s, c200s = [], [], []\n",
    "    stellar_mass = []\n",
    "    total_mass_within_0p2_arcsec = []\n",
    "    \n",
    "    num_sample_from_job = int(num_sample * composite_weights[n_job])\n",
    "    \n",
    "    sampled_indices = np.random.randint(low=0, high=composite_num_param_arrays[n_job], size=num_sample_from_job)\n",
    "    \n",
    "    lens_model = composite_lens_models[n_job] #lens_analysis.LensModel\n",
    "    lens_analysis = LensProfileAnalysis(composite_lens_models[n_job])\n",
    "    \n",
    "    for i in tnrange(len(sampled_indices), desc='Sample from job {:d}:'.format(n_job)): #len(samples_mcmc)):\n",
    "        param_array = composite_param_arrays[n_job][sampled_indices[i]]\n",
    "\n",
    "        param_class = composite_param_classes[n_job]\n",
    "        \n",
    "        kwargs_result = param_class.args2kwargs(param_array)\n",
    "        lens_result = kwargs_result['kwargs_lens']\n",
    "        lens_light_result = kwargs_result['kwargs_lens_light']\n",
    "        source_result = kwargs_result['kwargs_source']\n",
    "        ps_result = kwargs_result['kwargs_ps']\n",
    "\n",
    "        _, _, c, r, M = lens_cosmo.nfw_angle2physical(lens_result[0]['Rs'], lens_result[0]['alpha_Rs'])\n",
    "        \n",
    "        r = c * lens_result[0]['Rs']\n",
    "        \n",
    "        # stellar mass\n",
    "        r_half_light = 3.2\n",
    "        mean_convergence = lens_analysis.mass_fraction_within_radius(lens_result, \n",
    "                                                                 lens_result[0]['center_x'], \n",
    "                                                                 lens_result[0]['center_y'], \n",
    "                                                                 r_half_light, numPix=320) # using half-light radius\n",
    "        \n",
    "        stellar_mass.append(np.log10(2 * mean_convergence[2] * np.pi \n",
    "                              * (r_half_light/206265 * lens_cosmo.dd)**2 * lens_cosmo.sigma_crit))\n",
    "\n",
    "        \n",
    "        theta_E = lens_analysis.effective_einstein_radius(lens_result, verbose=False)\n",
    "        \n",
    "        ## dm_fraction\n",
    "        mass_fraction = lens_analysis.mass_fraction_within_radius(lens_result, \n",
    "                                                                 lens_result[0]['center_x'], \n",
    "                                                                 lens_result[0]['center_y'], \n",
    "                                                                 theta_E, numPix=320) # using half-light radius\n",
    "        \n",
    "        dm_fraction.append(mass_fraction[0] / (mass_fraction[0] + mass_fraction[2]))\n",
    "        \n",
    "        # total mass in the central 0.2\"\n",
    "        _r = 0.2\n",
    "        _mean_convergence = lens_analysis.mass_fraction_within_radius(lens_result, \n",
    "                                                                 lens_result[0]['center_x'], \n",
    "                                                                 lens_result[0]['center_y'], \n",
    "                                                                 _r, numPix=100)\n",
    "       \n",
    "        \n",
    "        \n",
    "        total_mass_within_0p2_arcsec.append(np.log10((_mean_convergence[0]+_mean_convergence[2]) * np.pi \n",
    "                                      * (_r/206265 * lens_cosmo.dd)**2 * lens_cosmo.sigma_crit))\n",
    "        \n",
    "        \n",
    "        \n",
    "        r200s.append(r)\n",
    "        M200s.append(M)\n",
    "        c200s.append(c)\n",
    "        \n",
    "\n",
    "    composite_r200s += r200s\n",
    "    composite_M200s += M200s\n",
    "    composite_c200s += c200s\n",
    "    stellar_masses += stellar_mass\n",
    "    total_masses_within_0p2_arcsec += total_mass_within_0p2_arcsec"
   ]
  },
  {
   "cell_type": "code",
   "execution_count": 10,
   "id": "saved-bracket",
   "metadata": {},
   "outputs": [
    {
     "name": "stdout",
     "output_type": "stream",
     "text": [
      "dm fraction: 0.24+0.06-0.02\n"
     ]
    },
    {
     "data": {
      "image/png": "[encoded data removed]",
      "text/plain": [
       "<Figure size 432x288 with 1 Axes>"
      ]
     },
     "metadata": {
      "needs_background": "light"
     },
     "output_type": "display_data"
    }
   ],
   "source": [
    "%matplotlib inline \n",
    "\n",
    "l, m, h = np.percentile(dm_fraction, q=[16, 50, 84])\n",
    "print('dm fraction: {:.2f}+{:.2f}-{:.2f}'.format(m, h-m, m-l))\n",
    "\n",
    "sns.kdeplot(dm_fraction)\n",
    "plt.xlabel(r'$f_{\\rm dm}$')\n",
    "plt.show()"
   ]
  },
  {
   "cell_type": "markdown",
   "id": "seventh-republic",
   "metadata": {},
   "source": [
    "### NFW ellipticities"
   ]
  },
  {
   "cell_type": "code",
   "execution_count": 11,
   "id": "tribal-option",
   "metadata": {},
   "outputs": [
    {
     "data": {
      "text/plain": [
       "{'Rs': 22.53365614848879,\n",
       " 'alpha_Rs': 1.0116550570809484,\n",
       " 'e1': -0.17743366441342115,\n",
       " 'e2': -0.07188417759686229,\n",
       " 'center_x': -0.22539903007747178,\n",
       " 'center_y': -0.04576942102128357}"
      ]
     },
     "execution_count": 11,
     "metadata": {},
     "output_type": "execute_result"
    }
   ],
   "source": [
    "lens_result[0]"
   ]
  },
  {
   "cell_type": "code",
   "execution_count": 61,
   "id": "increasing-nigeria",
   "metadata": {},
   "outputs": [
    {
     "name": "stderr",
     "output_type": "stream",
     "text": [
      "/var/folders/ry/23z2z0bd7_d814t1jlq8ydlw0000gn/T/ipykernel_47891/4269664818.py:6: TqdmDeprecationWarning: Please use `tqdm.notebook.trange` instead of `tqdm.tnrange`\n",
      "  for n_job in tnrange(len(composite_files), desc='Jobs:'):\n"
     ]
    },
    {
     "data": {
      "application/vnd.jupyter.widget-view+json": {
       "model_id": "075aaad03a054085b5e481d6a03cf930",
       "version_major": 2,
       "version_minor": 0
      },
      "text/plain": [
       "Jobs::   0%|          | 0/12 [00:00<?, ?it/s]"
      ]
     },
     "metadata": {},
     "output_type": "display_data"
    },
    {
     "name": "stderr",
     "output_type": "stream",
     "text": [
      "/var/folders/ry/23z2z0bd7_d814t1jlq8ydlw0000gn/T/ipykernel_47891/4269664818.py:13: TqdmDeprecationWarning: Please use `tqdm.notebook.trange` instead of `tqdm.tnrange`\n",
      "  for i in tnrange(len(sampled_indices), desc='Sample from job {:d}:'.format(n_job)): #len(samples_mcmc)):\n"
     ]
    },
    {
     "data": {
      "application/vnd.jupyter.widget-view+json": {
       "model_id": "f1b05a20c74c4236b597f040010e82a8",
       "version_major": 2,
       "version_minor": 0
      },
      "text/plain": [
       "Sample from job 0::   0%|          | 0/183 [00:00<?, ?it/s]"
      ]
     },
     "metadata": {},
     "output_type": "display_data"
    },
    {
     "name": "stderr",
     "output_type": "stream",
     "text": [
      "/Users/ajshajib/miniforge3/lib/python3.9/site-packages/scipy/optimize/_minpack_py.py:175: RuntimeWarning: The iteration is not making good progress, as measured by the \n",
      "  improvement from the last five Jacobian evaluations.\n",
      "  warnings.warn(msg, RuntimeWarning)\n"
     ]
    },
    {
     "data": {
      "application/vnd.jupyter.widget-view+json": {
       "model_id": "32280004e0944449800635c4c8784084",
       "version_major": 2,
       "version_minor": 0
      },
      "text/plain": [
       "Sample from job 1::   0%|          | 0/317 [00:00<?, ?it/s]"
      ]
     },
     "metadata": {},
     "output_type": "display_data"
    },
    {
     "name": "stderr",
     "output_type": "stream",
     "text": [
      "/Users/ajshajib/miniforge3/lib/python3.9/site-packages/scipy/optimize/_minpack_py.py:175: RuntimeWarning: The iteration is not making good progress, as measured by the \n",
      "  improvement from the last ten iterations.\n",
      "  warnings.warn(msg, RuntimeWarning)\n"
     ]
    },
    {
     "data": {
      "application/vnd.jupyter.widget-view+json": {
       "model_id": "64243b0eb0ae489fb6ff3d9e9c684b19",
       "version_major": 2,
       "version_minor": 0
      },
      "text/plain": [
       "Sample from job 2::   0%|          | 0/500 [00:00<?, ?it/s]"
      ]
     },
     "metadata": {},
     "output_type": "display_data"
    },
    {
     "data": {
      "application/vnd.jupyter.widget-view+json": {
       "model_id": "cc2e91dbbc4243428a9a2b485ff893d1",
       "version_major": 2,
       "version_minor": 0
      },
      "text/plain": [
       "Sample from job 3:: 0it [00:00, ?it/s]"
      ]
     },
     "metadata": {},
     "output_type": "display_data"
    },
    {
     "data": {
      "application/vnd.jupyter.widget-view+json": {
       "model_id": "45ab6e6ef0054b7ead3aa0bb8337a099",
       "version_major": 2,
       "version_minor": 0
      },
      "text/plain": [
       "Sample from job 4:: 0it [00:00, ?it/s]"
      ]
     },
     "metadata": {},
     "output_type": "display_data"
    },
    {
     "data": {
      "application/vnd.jupyter.widget-view+json": {
       "model_id": "07fa60f4b0ed406fa94e55b31a90abad",
       "version_major": 2,
       "version_minor": 0
      },
      "text/plain": [
       "Sample from job 5:: 0it [00:00, ?it/s]"
      ]
     },
     "metadata": {},
     "output_type": "display_data"
    },
    {
     "data": {
      "application/vnd.jupyter.widget-view+json": {
       "model_id": "93b53cdccef9478e916607cb687cd786",
       "version_major": 2,
       "version_minor": 0
      },
      "text/plain": [
       "Sample from job 6::   0%|          | 0/157 [00:00<?, ?it/s]"
      ]
     },
     "metadata": {},
     "output_type": "display_data"
    },
    {
     "data": {
      "application/vnd.jupyter.widget-view+json": {
       "model_id": "dec81589136f4f7287abead449e233f3",
       "version_major": 2,
       "version_minor": 0
      },
      "text/plain": [
       "Sample from job 7::   0%|          | 0/250 [00:00<?, ?it/s]"
      ]
     },
     "metadata": {},
     "output_type": "display_data"
    },
    {
     "data": {
      "application/vnd.jupyter.widget-view+json": {
       "model_id": "7b94b7c405d34edba1945718148ca7bb",
       "version_major": 2,
       "version_minor": 0
      },
      "text/plain": [
       "Sample from job 8::   0%|          | 0/492 [00:00<?, ?it/s]"
      ]
     },
     "metadata": {},
     "output_type": "display_data"
    },
    {
     "data": {
      "application/vnd.jupyter.widget-view+json": {
       "model_id": "9db080d862b04f6782ca06db6be8b89d",
       "version_major": 2,
       "version_minor": 0
      },
      "text/plain": [
       "Sample from job 9:: 0it [00:00, ?it/s]"
      ]
     },
     "metadata": {},
     "output_type": "display_data"
    },
    {
     "data": {
      "application/vnd.jupyter.widget-view+json": {
       "model_id": "6aa66d16d31a478d87b20f670f2aa916",
       "version_major": 2,
       "version_minor": 0
      },
      "text/plain": [
       "Sample from job 10:: 0it [00:00, ?it/s]"
      ]
     },
     "metadata": {},
     "output_type": "display_data"
    },
    {
     "data": {
      "application/vnd.jupyter.widget-view+json": {
       "model_id": "e88aa17ef25742cc9cf4c25a5772a493",
       "version_major": 2,
       "version_minor": 0
      },
      "text/plain": [
       "Sample from job 11::   0%|          | 0/1 [00:00<?, ?it/s]"
      ]
     },
     "metadata": {},
     "output_type": "display_data"
    }
   ],
   "source": [
    "e1s, e2s = [], []\n",
    "Rss, alpha_Rss = [], []\n",
    "\n",
    "g1s, g2s = [], []\n",
    "\n",
    "for n_job in tnrange(len(composite_files), desc='Jobs:'):\n",
    "    num_sample_from_job = int(num_sample * composite_weights[n_job])\n",
    "    sampled_indices = np.random.randint(low=0, high=composite_num_param_arrays[n_job], size=num_sample_from_job)\n",
    "    \n",
    "    lens_model = composite_lens_models[n_job] #lens_analysis.LensModel\n",
    "    lens_analysis = LensProfileAnalysis(composite_lens_models[n_job])\n",
    "\n",
    "    for i in tnrange(len(sampled_indices), desc='Sample from job {:d}:'.format(n_job)): #len(samples_mcmc)):\n",
    "        param_array = composite_param_arrays[n_job][sampled_indices[i]]\n",
    "\n",
    "        param_class = composite_param_classes[n_job]\n",
    "        \n",
    "        kwargs_result = param_class.args2kwargs(param_array)\n",
    "        lens_result = kwargs_result['kwargs_lens']\n",
    "        lens_light_result = kwargs_result['kwargs_lens_light']\n",
    "        source_result = kwargs_result['kwargs_source']\n",
    "        ps_result = kwargs_result['kwargs_ps']\n",
    "\n",
    "        e1s.append(lens_result[0]['e1'])\n",
    "        e2s.append(lens_result[0]['e2'])\n",
    "        \n",
    "        g1s.append(lens_result[1]['gamma1'])\n",
    "        g2s.append(lens_result[1]['gamma2'])\n",
    "        \n",
    "        Rss.append(lens_result[0]['Rs'])\n",
    "        alpha_Rss.append(lens_result[0]['alpha_Rs'])"
   ]
  },
  {
   "cell_type": "code",
   "execution_count": 13,
   "id": "special-career",
   "metadata": {},
   "outputs": [
    {
     "name": "stdout",
     "output_type": "stream",
     "text": [
      "[0.72253629 0.76033679 0.78369734]\n"
     ]
    },
    {
     "data": {
      "text/plain": [
       "<AxesSubplot:ylabel='Density'>"
      ]
     },
     "execution_count": 13,
     "metadata": {},
     "output_type": "execute_result"
    },
    {
     "data": {
      "image/png": "[encoded data removed]",
      "text/plain": [
       "<Figure size 432x288 with 1 Axes>"
      ]
     },
     "metadata": {
      "needs_background": "light"
     },
     "output_type": "display_data"
    }
   ],
   "source": [
    "from lenstronomy.Util.param_util import ellipticity2phi_q\n",
    "\n",
    "phis, qs = ellipticity2phi_q(np.array(e1s), np.array(e2s))\n",
    "\n",
    "print(np.percentile(qs, q=[16, 50, 84]))\n",
    "sns.kdeplot(qs)"
   ]
  },
  {
   "cell_type": "code",
   "execution_count": 14,
   "id": "offshore-romantic",
   "metadata": {},
   "outputs": [
    {
     "data": {
      "text/plain": [
       "Text(0.5, 1.0, 'NFW convergence')"
      ]
     },
     "execution_count": 14,
     "metadata": {},
     "output_type": "execute_result"
    },
    {
     "data": {
      "image/png": "[encoded data removed]",
      "text/plain": [
       "<Figure size 432x288 with 1 Axes>"
      ]
     },
     "metadata": {
      "needs_background": "light"
     },
     "output_type": "display_data"
    }
   ],
   "source": [
    "from lenstronomy.LensModel.lens_model import LensModel\n",
    "\n",
    "lens_model = LensModel(['NFW_ELLIPSE'])\n",
    "\n",
    "w = 2\n",
    "x = np.linspace(-w, w, 100)\n",
    "y = np.linspace(-w, w, 100)\n",
    "\n",
    "xx, yy = np.meshgrid(x, y)\n",
    "\n",
    "kwargs = [{\n",
    "    'e1': np.median(e1s),\n",
    "    'e2': np.median(e2s),\n",
    "    'Rs': np.median(Rss),\n",
    "    'alpha_Rs': np.median(alpha_Rss),\n",
    "    'center_x': 0., 'center_y': 0.\n",
    "}]\n",
    "\n",
    "convergence = lens_model.kappa(xx, yy, kwargs)\n",
    "\n",
    "plt.imshow(np.log10(convergence), origin='lower', cmap='cubehelix')\n",
    "plt.title('NFW convergence')"
   ]
  },
  {
   "cell_type": "code",
   "execution_count": 29,
   "id": "checked-flour",
   "metadata": {},
   "outputs": [
    {
     "data": {
      "text/plain": [
       "(0.13815665820231107, 0.0)"
      ]
     },
     "execution_count": 29,
     "metadata": {},
     "output_type": "execute_result"
    }
   ],
   "source": [
    "ellipticity2phi_q(np.median(e1s), np.median(e2s))\n",
    "\n",
    "from lenstronomy.Util.param_util import phi_q2_ellipticity, ellipticity2phi_q, shear_cartesian2polar\n",
    "\n",
    "phi_q2_ellipticity(0, 0.7572273426392357)"
   ]
  },
  {
   "cell_type": "code",
   "execution_count": 64,
   "id": "10680ed8",
   "metadata": {},
   "outputs": [
    {
     "data": {
      "image/png": "[encoded data removed]",
      "text/plain": [
       "<Figure size 432x288 with 1 Axes>"
      ]
     },
     "metadata": {
      "needs_background": "light"
     },
     "output_type": "display_data"
    },
    {
     "name": "stdout",
     "output_type": "stream",
     "text": [
      "$-35.8^{+3.4}_{2.3}$\n"
     ]
    },
    {
     "data": {
      "image/png": "[encoded data removed]",
      "text/plain": [
       "<Figure size 432x288 with 1 Axes>"
      ]
     },
     "metadata": {
      "needs_background": "light"
     },
     "output_type": "display_data"
    },
    {
     "name": "stdout",
     "output_type": "stream",
     "text": [
      "$-55.3^{+0.9}_{-1.4}$\n"
     ]
    }
   ],
   "source": [
    "phis, qs = ellipticity2phi_q(np.array(e1s), np.array(e2s))\n",
    "phis *= 180 / np.pi\n",
    "\n",
    "sns.kdeplot(phis)\n",
    "plt.show()\n",
    "\n",
    "phis  = phis[(phis < -15) & (phis > -55)]\n",
    "l, m, h = np.percentile(phis, q=[16, 50, 84])\n",
    "print('${:.1f}^{{+{:.1f}}}_{{{:.1f}}}$'.format(m, h-m, m-l))\n",
    "\n",
    "\n",
    "phis, qs = shear_cartesian2polar(np.array(g1s), np.array(g2s))\n",
    "phis *= 180 / np.pi\n",
    "\n",
    "sns.kdeplot(phis)\n",
    "plt.show()\n",
    "\n",
    "phis  = phis[(phis < -20) & (phis > -48)]\n",
    "l, m, h = np.percentile(-phis - 90, q=[16, 50, 84])\n",
    "print('${:.1f}^{{+{:.1f}}}_{{-{:.1f}}}$'.format(m, h-m, m-l))\n"
   ]
  },
  {
   "cell_type": "code",
   "execution_count": 32,
   "id": "c9aae2b8",
   "metadata": {},
   "outputs": [
    {
     "data": {
      "text/plain": [
       "<AxesSubplot:ylabel='Density'>"
      ]
     },
     "execution_count": 32,
     "metadata": {},
     "output_type": "execute_result"
    },
    {
     "data": {
      "image/png": "[encoded data removed]",
      "text/plain": [
       "<Figure size 432x288 with 1 Axes>"
      ]
     },
     "metadata": {
      "needs_background": "light"
     },
     "output_type": "display_data"
    }
   ],
   "source": [
    "sns.kdeplot(phis*180/np.pi)"
   ]
  },
  {
   "cell_type": "markdown",
   "id": "enormous-execution",
   "metadata": {},
   "source": [
    "\n",
    "# Plot"
   ]
  },
  {
   "cell_type": "code",
   "execution_count": 16,
   "id": "dressed-connectivity",
   "metadata": {
    "scrolled": false
   },
   "outputs": [
    {
     "name": "stdout",
     "output_type": "stream",
     "text": [
      "Cosmology \"my_cosmo\" \n",
      "    flat = True, Om0 = 0.3000, Ode0 = 0.6999, Ob0 = 0.0500, H0 = 70.00, sigma8 = 0.8230, ns = 0.9600\n",
      "    de_model = lambda, relspecies = True, Tcmb0 = 2.7255, Neff = 3.0460, powerlaw = False\n",
      "Removed no burn in\n"
     ]
    },
    {
     "data": {
      "image/png": "[encoded data removed]",
      "text/plain": [
       "<Figure size 432x324 with 1 Axes>"
      ]
     },
     "metadata": {
      "needs_background": "light"
     },
     "output_type": "display_data"
    }
   ],
   "source": [
    "from colossus.cosmology import cosmology\n",
    "from colossus.halo import concentration\n",
    "from chainconsumer import ChainConsumer\n",
    "\n",
    "from getdist import plots\n",
    "from getdist import MCSamples\n",
    "\n",
    "#cosmology.setCosmology('planck15');\n",
    "\n",
    "#my_cosmo = {'flat': True, 'H0': 67.8, 'Om0': 0.3, 'Ob0': 0.05, 'sigma8': 0.823, 'ns': 0.96} # cosmo to match with Behroozi et al. 2019\n",
    "my_cosmo = {'flat': True, 'H0': 70., 'Om0': 0.3, 'Ob0': 0.05, 'sigma8': 0.823, 'ns': 0.96} # fiducial cosmo\n",
    "my_cosmo = cosmology.setCosmology('my_cosmo', my_cosmo)\n",
    "\n",
    "print(my_cosmo)\n",
    "#print(cosmo)\n",
    "\n",
    "z_l = 0.23\n",
    "z_s = 0.777\n",
    "\n",
    "#rho0, Rs, c, r200, M200 = lens_cosmo.nfw_angle2physical(samples_mcmc[:, 4], samples_mcmc[:, 5])\n",
    "\n",
    "Ms = np.logspace(12., 14.6, 200)\n",
    "c200_th = concentration.concentration(Ms*my_cosmo.h, '200c', z_l, model='diemer19')\n",
    "\n",
    "mc_samples = MCSamples(samples=[np.log10(composite_M200s).flatten(), \n",
    "                                np.squeeze(composite_c200s).flatten()], \n",
    "                       names=['M200', 'c200'], \n",
    "                       labels=['\\\\log_{10} (M_{200}/M_{\\odot})', 'c_{200}'])\n",
    "mc_samples.updateSettings({'smooth_scale_2D': 0.6})\n",
    "\n",
    "g = plots.getSinglePlotter()\n",
    "#mc_samples.updateSettings({'contours': [0.3934693, 0.8646647, 0.9888910, 0.9996645, 0.9999963]})\n",
    "mc_samples.updateSettings({'contours': [0.68, 0.95, 0.99]})\n",
    "\n",
    "g.settings.num_plot_contours = 2\n",
    "g.settings.axes_fontsize = 20\n",
    "g.settings.lab_fontsize = 24\n",
    "\n",
    "g.plot_2d(mc_samples, 'M200', 'c200', shaded=False, filled=True,\n",
    "          line_args=[{'ls':'-', 'color': pf.cb_blue}]\n",
    "         );\n",
    "\n",
    "ax = g.fig.gca()\n",
    "\n",
    "# g.fig.tight_layout()\n",
    "\n",
    "ax.plot(np.log10(Ms), c200_th, color=pf.cb_grey, label='Diemer & Joyce (2019)', alpha=0.8, lw=2)\n",
    "ax.fill_between(np.log10(Ms), 10**(np.log10(c200_th)+0.16), 10**(np.log10(c200_th)-0.16), alpha=0.1,  \n",
    "                 color=pf.cb_grey)\n",
    "\n",
    "\n",
    "    \n",
    "ax.set_xlabel(r'$\\log_{10}\\ (M_{200}/M_{\\odot})$')\n",
    "ax.set_xlim(12.4, 13.8)\n",
    "ax.set_ylim(2, 12)\n",
    "ax.set_ylabel(r'$c$')\n",
    "#ax.set_title('Central deflector\\'s $M$-$c$ relation')\n",
    "ax.legend()\n",
    "\n",
    "if savefig:\n",
    "    g.fig.savefig('/Users/ajshajib/Dropbox/Papers_Proposals/2038_model/figures/m_c_relation.pdf', bbox_inches='tight')\n",
    "\n",
    "g.fig;"
   ]
  },
  {
   "cell_type": "code",
   "execution_count": 17,
   "id": "photographic-detection",
   "metadata": {},
   "outputs": [
    {
     "data": {
      "image/png": "[encoded data removed]",
      "text/plain": [
       "<Figure size 432x288 with 1 Axes>"
      ]
     },
     "metadata": {
      "needs_background": "light"
     },
     "output_type": "display_data"
    }
   ],
   "source": [
    "fig = plt.figure()\n",
    "ax = fig.add_subplot(111)\n",
    "\n",
    "sns.kdeplot(stellar_masses, ax=ax)\n",
    "ax.set_xlabel('$\\log_{10} (M_{\\star}/M_{\\odot})$')\n",
    "\n",
    "fig;"
   ]
  },
  {
   "cell_type": "code",
   "execution_count": 18,
   "id": "affiliated-packet",
   "metadata": {},
   "outputs": [
    {
     "name": "stdout",
     "output_type": "stream",
     "text": [
      "11.860435067759013 + 0.011240491355328786 - 0.03382917369870775\n"
     ]
    }
   ],
   "source": [
    "low, med, hi = np.percentile(stellar_masses, q=[16, 50, 84])\n",
    "\n",
    "print(med, '+', hi-med, '-', med-low)"
   ]
  },
  {
   "cell_type": "code",
   "execution_count": 19,
   "id": "contained-notion",
   "metadata": {},
   "outputs": [
    {
     "name": "stdout",
     "output_type": "stream",
     "text": [
      "13.090074912397817 + 0.12227111450683381 - 0.12970101946079282\n"
     ]
    }
   ],
   "source": [
    "low, med, hi = np.percentile(np.log10(composite_M200s).flatten(), q=[16, 50, 84])\n",
    "\n",
    "print(med, '+', hi-med, '-', med-low)"
   ]
  },
  {
   "cell_type": "code",
   "execution_count": 20,
   "id": "grateful-naples",
   "metadata": {},
   "outputs": [
    {
     "name": "stdout",
     "output_type": "stream",
     "text": [
      "0.05846136354576034 + 0.022604709270137593 - 0.01672938721655535\n"
     ]
    }
   ],
   "source": [
    "low, med, hi = np.percentile(10**np.array(stellar_masses)/np.array(composite_M200s).flatten(), q=[16, 50, 84])\n",
    "\n",
    "print(med, '+', hi-med, '-', med-low)"
   ]
  },
  {
   "cell_type": "markdown",
   "id": "agreed-prior",
   "metadata": {},
   "source": [
    "## Radial profile of NFW and stellar mass"
   ]
  },
  {
   "cell_type": "code",
   "execution_count": 21,
   "id": "extensive-rochester",
   "metadata": {
    "scrolled": false
   },
   "outputs": [
    {
     "name": "stderr",
     "output_type": "stream",
     "text": [
      "/Users/ajshajib/anaconda3/lib/python3.7/site-packages/ipykernel_launcher.py:12: TqdmDeprecationWarning: Please use `tqdm.notebook.trange` instead of `tqdm.tnrange`\n",
      "  if sys.path[0] == '':\n"
     ]
    },
    {
     "data": {
      "application/vnd.jupyter.widget-view+json": {
       "model_id": "460d7cf372674ff6b2f31415e81865aa",
       "version_major": 2,
       "version_minor": 0
      },
      "text/plain": [
       "Jobs::   0%|          | 0/12 [00:00<?, ?it/s]"
      ]
     },
     "metadata": {},
     "output_type": "display_data"
    },
    {
     "name": "stderr",
     "output_type": "stream",
     "text": [
      "/Users/ajshajib/anaconda3/lib/python3.7/site-packages/ipykernel_launcher.py:22: TqdmDeprecationWarning: Please use `tqdm.notebook.trange` instead of `tqdm.tnrange`\n"
     ]
    },
    {
     "data": {
      "application/vnd.jupyter.widget-view+json": {
       "model_id": "de6de8dbdc6c4f7b95fa49d61a4d7364",
       "version_major": 2,
       "version_minor": 0
      },
      "text/plain": [
       "Sample from job 0::   0%|          | 0/183 [00:00<?, ?it/s]"
      ]
     },
     "metadata": {},
     "output_type": "display_data"
    },
    {
     "name": "stderr",
     "output_type": "stream",
     "text": [
      "/Users/ajshajib/anaconda3/lib/python3.7/site-packages/scipy/optimize/minpack.py:175: RuntimeWarning: The iteration is not making good progress, as measured by the \n",
      "  improvement from the last five Jacobian evaluations.\n",
      "  warnings.warn(msg, RuntimeWarning)\n",
      "/Users/ajshajib/anaconda3/lib/python3.7/site-packages/scipy/optimize/minpack.py:175: RuntimeWarning: The iteration is not making good progress, as measured by the \n",
      "  improvement from the last ten iterations.\n",
      "  warnings.warn(msg, RuntimeWarning)\n"
     ]
    },
    {
     "data": {
      "application/vnd.jupyter.widget-view+json": {
       "model_id": "41864b2a7ef24e838d963b56289c861e",
       "version_major": 2,
       "version_minor": 0
      },
      "text/plain": [
       "Sample from job 1::   0%|          | 0/318 [00:00<?, ?it/s]"
      ]
     },
     "metadata": {},
     "output_type": "display_data"
    },
    {
     "data": {
      "application/vnd.jupyter.widget-view+json": {
       "model_id": "398bb5ce82bc46d5a149852f17a04940",
       "version_major": 2,
       "version_minor": 0
      },
      "text/plain": [
       "Sample from job 2::   0%|          | 0/500 [00:00<?, ?it/s]"
      ]
     },
     "metadata": {},
     "output_type": "display_data"
    },
    {
     "data": {
      "application/vnd.jupyter.widget-view+json": {
       "model_id": "d9aea4e9e9834c7dbeb450f192cf6c19",
       "version_major": 2,
       "version_minor": 0
      },
      "text/plain": [
       "Sample from job 3:: 0it [00:00, ?it/s]"
      ]
     },
     "metadata": {},
     "output_type": "display_data"
    },
    {
     "data": {
      "application/vnd.jupyter.widget-view+json": {
       "model_id": "b0160c7a93714b9fad8e104cf8ea524a",
       "version_major": 2,
       "version_minor": 0
      },
      "text/plain": [
       "Sample from job 4:: 0it [00:00, ?it/s]"
      ]
     },
     "metadata": {},
     "output_type": "display_data"
    },
    {
     "data": {
      "application/vnd.jupyter.widget-view+json": {
       "model_id": "e794e5f6545f4c0eb05f38e4fb075a9e",
       "version_major": 2,
       "version_minor": 0
      },
      "text/plain": [
       "Sample from job 5:: 0it [00:00, ?it/s]"
      ]
     },
     "metadata": {},
     "output_type": "display_data"
    },
    {
     "data": {
      "application/vnd.jupyter.widget-view+json": {
       "model_id": "987303dca2264b8a8019a420fba0775b",
       "version_major": 2,
       "version_minor": 0
      },
      "text/plain": [
       "Sample from job 6::   0%|          | 0/157 [00:00<?, ?it/s]"
      ]
     },
     "metadata": {},
     "output_type": "display_data"
    },
    {
     "data": {
      "application/vnd.jupyter.widget-view+json": {
       "model_id": "17bbec6b848c43cd825732f3d20109c4",
       "version_major": 2,
       "version_minor": 0
      },
      "text/plain": [
       "Sample from job 7::   0%|          | 0/252 [00:00<?, ?it/s]"
      ]
     },
     "metadata": {},
     "output_type": "display_data"
    },
    {
     "data": {
      "application/vnd.jupyter.widget-view+json": {
       "model_id": "d5893cbb1fb54bffa48d5482545724a0",
       "version_major": 2,
       "version_minor": 0
      },
      "text/plain": [
       "Sample from job 8::   0%|          | 0/493 [00:00<?, ?it/s]"
      ]
     },
     "metadata": {},
     "output_type": "display_data"
    },
    {
     "data": {
      "application/vnd.jupyter.widget-view+json": {
       "model_id": "fd62cc10de9045249612dc340891b6a1",
       "version_major": 2,
       "version_minor": 0
      },
      "text/plain": [
       "Sample from job 9:: 0it [00:00, ?it/s]"
      ]
     },
     "metadata": {},
     "output_type": "display_data"
    },
    {
     "data": {
      "application/vnd.jupyter.widget-view+json": {
       "model_id": "fa0759e346a0404c9ddd7411d26e8c46",
       "version_major": 2,
       "version_minor": 0
      },
      "text/plain": [
       "Sample from job 10:: 0it [00:00, ?it/s]"
      ]
     },
     "metadata": {},
     "output_type": "display_data"
    },
    {
     "data": {
      "application/vnd.jupyter.widget-view+json": {
       "model_id": "bd194a6053104fb69cec36c955dff983",
       "version_major": 2,
       "version_minor": 0
      },
      "text/plain": [
       "Sample from job 11::   0%|          | 0/1 [00:00<?, ?it/s]"
      ]
     },
     "metadata": {},
     "output_type": "display_data"
    }
   ],
   "source": [
    "from lenstronomy.Analysis.lens_profile import LensProfileAnalysis\n",
    "\n",
    "\n",
    "lens_cosmo = LensCosmo(z_lens=0.230, z_source=0.777)\n",
    "\n",
    "composite_weights = get_relative_weights(composite_bics, sigma_model_bic, take_std=False, \n",
    "                                  sigma_model=sigma_model_bic)    \n",
    "\n",
    "dark_mass_profiles = []\n",
    "light_mass_profiles = []\n",
    "\n",
    "for n_job in tnrange(len(composite_files), desc='Jobs:'):\n",
    "    num_sample_from_job = int(num_sample * composite_weights[n_job])\n",
    "    \n",
    "    sampled_indices = np.random.randint(low=0, high=composite_num_param_arrays[n_job], size=num_sample_from_job)\n",
    "    \n",
    "    lens_model = composite_lens_models[n_job] #lens_analysis.LensModel\n",
    "    lens_analysis = LensProfileAnalysis(composite_lens_models[n_job])\n",
    "    \n",
    "    lens_profile = LensProfileAnalysis(lens_model)\n",
    "    \n",
    "    for i in tnrange(len(sampled_indices), desc='Sample from job {:d}:'.format(n_job)): #len(samples_mcmc)):\n",
    "        r = np.logspace(-2, 1, 100)\n",
    "        \n",
    "        param_array = composite_param_arrays[n_job][sampled_indices[i]]\n",
    "\n",
    "        param_class = composite_param_classes[n_job]\n",
    "        \n",
    "        kwargs_result = param_class.args2kwargs(param_array)\n",
    "        lens_result = kwargs_result['kwargs_lens']\n",
    "        lens_light_result = kwargs_result['kwargs_lens_light']\n",
    "        source_result = kwargs_result['kwargs_source']\n",
    "        ps_result = kwargs_result['kwargs_ps']\n",
    "        \n",
    "        dark_mass, light_mass = [], []\n",
    "        \n",
    "        center_x, center_y = lens_result[0]['center_x'], lens_result[0]['center_y']\n",
    "        \n",
    "        for _r in r:\n",
    "            dm, _, lm = lens_profile.mass_fraction_within_radius(lens_result, center_x, center_y, _r)\n",
    "            dark_mass.append(dm)\n",
    "            light_mass.append(lm)\n",
    "        \n",
    "        dark_mass_profiles.append(dark_mass) #lens_profile.radial_lens_profile(r, lens_result, model_bool_list=[0]))\n",
    "        light_mass_profiles.append(light_mass) #lens_profile.radial_lens_profile(r, lens_result, model_bool_list=[2]))\n",
    "        "
   ]
  },
  {
   "cell_type": "raw",
   "id": "supreme-barrel",
   "metadata": {},
   "source": [
    "fig = plt.figure()\n",
    "ax = fig.add_subplot(111)\n",
    "\n",
    "dark_upper_quantile, dark_lower_quantile  = np.percentile(dark_mass_profiles, q=[84, 16], axis=0)\n",
    "light_upper_quantile, light_lower_quantile  = np.percentile(light_mass_profiles, q=[84, 16], axis=0)\n",
    "\n",
    "total_upper_quantile, total_lower_quantile  = np.percentile(\n",
    "    np.array(dark_mass_profiles) + np.array(light_mass_profiles), \n",
    "    q=[84, 16], axis=0)\n",
    "\n",
    "ax.fill_between(r, dark_upper_quantile, dark_lower_quantile, alpha=0.4, color=pf.cb_grey)\n",
    "ax.fill_between(r, light_upper_quantile, light_lower_quantile, alpha=0.4, color=sns.xkcd_rgb['teal blue'])\n",
    "\n",
    "ax.fill_between(r, total_upper_quantile, total_lower_quantile, alpha=0.4, color=pf.cb_blue)\n",
    "\n",
    "ax.set_xscale('log')\n",
    "ax.set_yscale('log')\n",
    "\n",
    "fig"
   ]
  },
  {
   "cell_type": "markdown",
   "id": "portuguese-pocket",
   "metadata": {},
   "source": [
    "### powerlaw profiles"
   ]
  },
  {
   "cell_type": "code",
   "execution_count": 22,
   "id": "conservative-completion",
   "metadata": {},
   "outputs": [],
   "source": [
    "powerlaw_files = [\n",
    "    '2038_run145_0_0_0_0_0_shortened',\n",
    "    '2038_run145_0_0_1_0_0_shortened',\n",
    "    '2038_run145_0_0_2_0_0_shortened',\n",
    "    '2038_run145_0_1_0_0_0_shortened',\n",
    "    '2038_run145_0_1_1_0_0_shortened',\n",
    "    '2038_run145_0_1_2_0_0_shortened',\n",
    "    \n",
    "    '2038_run146_0_0_0_0_0_shortened',\n",
    "    '2038_run146_0_0_1_0_0_shortened',\n",
    "    '2038_run146_0_0_2_0_0_shortened',\n",
    "    '2038_run146_0_1_0_0_0_shortened',\n",
    "    '2038_run146_0_1_1_0_0_shortened',\n",
    "    '2038_run146_0_1_2_0_0_shortened',\n",
    "]"
   ]
  },
  {
   "cell_type": "code",
   "execution_count": 23,
   "id": "independent-percentage",
   "metadata": {},
   "outputs": [],
   "source": [
    "powerlaw_bics = []\n",
    "powerlaw_param_arrays = []\n",
    "powerlaw_num_param_arrays = []\n",
    "powerlaw_kwargs_models = []\n",
    "powerlaw_kwargs_constraints = []\n",
    "powerlaw_param_classes = []\n",
    "powerlaw_lens_models = []\n",
    "powerlaw_kwargs_likelihoods = []\n",
    "powerlaw_multi_band_list = []\n",
    "powerlaw_kwargs_joint = []\n",
    "\n",
    "for job_name_out in powerlaw_files:\n",
    "    output_temp = os.path.join(base_path, 'temp', job_name_out +'_out.txt')\n",
    "\n",
    "    f = open(output_temp, 'rb')\n",
    "    [input_, output_] = joblib.load(f)\n",
    "    f.close()\n",
    "    fitting_kwargs_list, kwargs_joint, kwargs_model, kwargs_constraints, kwargs_likelihood, kwargs_params, init_samples = input_\n",
    "  \n",
    "    kwargs_result, multi_band_list_out, fit_output, _ = output_\n",
    "    multi_band_list = kwargs_joint['multi_band_list']\n",
    "\n",
    "    samples_mcmc = fit_output[-1][1] #[np.random.randint(0, high=fit_output[-1][1].shape[0], size=N_sample)]\n",
    "    param_mcmc = fit_output[-1][2]\n",
    "    \n",
    "    param_class = Param(kwargs_model,\n",
    "                        kwargs_params['lens_model'][2], \n",
    "                        kwargs_params['source_model'][2],\n",
    "                        kwargs_params['lens_light_model'][2],\n",
    "                        kwargs_params['point_source_model'][2],\n",
    "                        kwargs_lens_init=kwargs_params['lens_model'][0], #kwargs_result['kwargs_lens'],\n",
    "                        **kwargs_constraints\n",
    "                       )\n",
    "    \n",
    "    lens_model = LensModel(lens_model_list=kwargs_model['lens_model_list'],\n",
    "                           z_lens=0.230, z_source=0.777,\n",
    "                           multi_plane=False, #True, \n",
    "                          )\n",
    "    \n",
    "    num_data = np.sum([np.sum(m) for m in kwargs_likelihood['image_likelihood_mask_list']])\n",
    "    num_param = param_class.num_param()[0] + param_class.num_param_linear()\n",
    "    max_logL = np.max(fit_output[-1][-1])\n",
    "    \n",
    "    bic = compute_BIC(num_data, num_param, max_logL)\n",
    "    \n",
    "    powerlaw_bics.append(bic)\n",
    "    powerlaw_param_arrays.append(np.copy(samples_mcmc))\n",
    "    powerlaw_num_param_arrays.append(len(samples_mcmc))\n",
    "    powerlaw_kwargs_models.append(kwargs_model)\n",
    "    powerlaw_kwargs_constraints.append(kwargs_constraints)\n",
    "    powerlaw_param_classes.append(param_class)\n",
    "    powerlaw_lens_models.append(lens_model)\n",
    "    powerlaw_kwargs_likelihoods.append(kwargs_likelihood)\n",
    "    powerlaw_multi_band_list.append(multi_band_list_out)\n",
    "    powerlaw_kwargs_joint.append(kwargs_joint)\n",
    "    \n",
    "    gc.collect()\n",
    "    #break"
   ]
  },
  {
   "cell_type": "code",
   "execution_count": 24,
   "id": "established-partnership",
   "metadata": {},
   "outputs": [
    {
     "data": {
      "text/plain": [
       "[{'Rs': 23.52537708099213,\n",
       "  'alpha_Rs': 1.0141572103779926,\n",
       "  'e1': 0.05782180408194992,\n",
       "  'e2': -0.049763023078383116,\n",
       "  'center_x': -0.19636965111755,\n",
       "  'center_y': -0.22901435653003088},\n",
       " {'gamma1': 0.05599281518285005,\n",
       "  'gamma2': -0.08912851782365613,\n",
       "  'ra_0': 0,\n",
       "  'dec_0': 0},\n",
       " {'alpha_1': 1.0899043113245634,\n",
       "  'ratio12': 0.9373686339645158,\n",
       "  'ratio13': 10.798209430841915,\n",
       "  'w_c1': 0.06867231437552884,\n",
       "  'w_t1': 0.5029342108591024,\n",
       "  'e11': -0.08250726501488445,\n",
       "  'e21': 0.2761880655993909,\n",
       "  'w_c2': 0.26627750659214744,\n",
       "  'w_t2': 4.928664072061259,\n",
       "  'e12': -0.006147893418925653,\n",
       "  'e22': 0.08636027694270323,\n",
       "  'w_c3': 1.462790939246777,\n",
       "  'w_t3': 1.9102619306260873,\n",
       "  'e13': -0.12866585551283513,\n",
       "  'e23': 0.2722296142257001,\n",
       "  'center_x': -0.004837870390506768,\n",
       "  'center_y': -0.006977465945277211}]"
      ]
     },
     "execution_count": 24,
     "metadata": {},
     "output_type": "execute_result"
    }
   ],
   "source": [
    "lens_result"
   ]
  },
  {
   "cell_type": "markdown",
   "id": "level-company",
   "metadata": {},
   "source": [
    "### Mass difference between PL and composite within 0.2 arcsec"
   ]
  },
  {
   "cell_type": "code",
   "execution_count": 25,
   "id": "impressed-landscape",
   "metadata": {
    "scrolled": false
   },
   "outputs": [
    {
     "name": "stderr",
     "output_type": "stream",
     "text": [
      "/Users/ajshajib/anaconda3/lib/python3.7/site-packages/ipykernel_launcher.py:9: TqdmDeprecationWarning: Please use `tqdm.notebook.trange` instead of `tqdm.tnrange`\n",
      "  if __name__ == '__main__':\n"
     ]
    },
    {
     "data": {
      "application/vnd.jupyter.widget-view+json": {
       "model_id": "2a9d4cee5b6a47c6adb2689a80883c14",
       "version_major": 2,
       "version_minor": 0
      },
      "text/plain": [
       "Jobs::   0%|          | 0/12 [00:00<?, ?it/s]"
      ]
     },
     "metadata": {},
     "output_type": "display_data"
    },
    {
     "name": "stderr",
     "output_type": "stream",
     "text": [
      "/Users/ajshajib/anaconda3/lib/python3.7/site-packages/ipykernel_launcher.py:21: TqdmDeprecationWarning: Please use `tqdm.notebook.trange` instead of `tqdm.tnrange`\n"
     ]
    },
    {
     "data": {
      "application/vnd.jupyter.widget-view+json": {
       "model_id": "ed2a201cd437462fbefb6117a049519f",
       "version_major": 2,
       "version_minor": 0
      },
      "text/plain": [
       "Sample from job 0::   0%|          | 0/139 [00:00<?, ?it/s]"
      ]
     },
     "metadata": {},
     "output_type": "display_data"
    },
    {
     "data": {
      "application/vnd.jupyter.widget-view+json": {
       "model_id": "0437f45d2860413db68eba9635c66144",
       "version_major": 2,
       "version_minor": 0
      },
      "text/plain": [
       "Sample from job 1::   0%|          | 0/363 [00:00<?, ?it/s]"
      ]
     },
     "metadata": {},
     "output_type": "display_data"
    },
    {
     "data": {
      "application/vnd.jupyter.widget-view+json": {
       "model_id": "d91f7629fa6d4e6e9122f26b43bac83f",
       "version_major": 2,
       "version_minor": 0
      },
      "text/plain": [
       "Sample from job 2::   0%|          | 0/473 [00:00<?, ?it/s]"
      ]
     },
     "metadata": {},
     "output_type": "display_data"
    },
    {
     "data": {
      "application/vnd.jupyter.widget-view+json": {
       "model_id": "23cd85383dfa443a8efa44dc666fbb65",
       "version_major": 2,
       "version_minor": 0
      },
      "text/plain": [
       "Sample from job 3:: 0it [00:00, ?it/s]"
      ]
     },
     "metadata": {},
     "output_type": "display_data"
    },
    {
     "data": {
      "application/vnd.jupyter.widget-view+json": {
       "model_id": "5381cda24ecd4fbd97cae4871bf90e6e",
       "version_major": 2,
       "version_minor": 0
      },
      "text/plain": [
       "Sample from job 4:: 0it [00:00, ?it/s]"
      ]
     },
     "metadata": {},
     "output_type": "display_data"
    },
    {
     "data": {
      "application/vnd.jupyter.widget-view+json": {
       "model_id": "8077f34009a6441292fedbe36a9237dd",
       "version_major": 2,
       "version_minor": 0
      },
      "text/plain": [
       "Sample from job 5:: 0it [00:00, ?it/s]"
      ]
     },
     "metadata": {},
     "output_type": "display_data"
    },
    {
     "data": {
      "application/vnd.jupyter.widget-view+json": {
       "model_id": "04bc4eef452643edba86b7ad9630e0da",
       "version_major": 2,
       "version_minor": 0
      },
      "text/plain": [
       "Sample from job 6::   0%|          | 0/184 [00:00<?, ?it/s]"
      ]
     },
     "metadata": {},
     "output_type": "display_data"
    },
    {
     "data": {
      "application/vnd.jupyter.widget-view+json": {
       "model_id": "5104395c65664a3783ca98ad1e680d09",
       "version_major": 2,
       "version_minor": 0
      },
      "text/plain": [
       "Sample from job 7::   0%|          | 0/377 [00:00<?, ?it/s]"
      ]
     },
     "metadata": {},
     "output_type": "display_data"
    },
    {
     "data": {
      "application/vnd.jupyter.widget-view+json": {
       "model_id": "207dc245004d4c7488770836ea68994e",
       "version_major": 2,
       "version_minor": 0
      },
      "text/plain": [
       "Sample from job 8::   0%|          | 0/500 [00:00<?, ?it/s]"
      ]
     },
     "metadata": {},
     "output_type": "display_data"
    },
    {
     "data": {
      "application/vnd.jupyter.widget-view+json": {
       "model_id": "d4e7410a177e46d198bf1815c12e2347",
       "version_major": 2,
       "version_minor": 0
      },
      "text/plain": [
       "Sample from job 9:: 0it [00:00, ?it/s]"
      ]
     },
     "metadata": {},
     "output_type": "display_data"
    },
    {
     "data": {
      "application/vnd.jupyter.widget-view+json": {
       "model_id": "aed74a62014f48faaba9bc2eaa5fa997",
       "version_major": 2,
       "version_minor": 0
      },
      "text/plain": [
       "Sample from job 10:: 0it [00:00, ?it/s]"
      ]
     },
     "metadata": {},
     "output_type": "display_data"
    },
    {
     "data": {
      "application/vnd.jupyter.widget-view+json": {
       "model_id": "b615f0b9de8c4479a4ede7f261c059bb",
       "version_major": 2,
       "version_minor": 0
      },
      "text/plain": [
       "Sample from job 11:: 0it [00:00, ?it/s]"
      ]
     },
     "metadata": {},
     "output_type": "display_data"
    }
   ],
   "source": [
    "pl_masses_0p2_arcsec = []\n",
    "#dm_fraction = []\n",
    "\n",
    "lens_cosmo = LensCosmo(z_lens=0.230, z_source=0.777)\n",
    "\n",
    "pl_weights = get_relative_weights(powerlaw_bics, sigma_model_bic, take_std=False, \n",
    "                                  sigma_model=sigma_model_bic)    \n",
    "\n",
    "for n_job in tnrange(len(powerlaw_files), desc='Jobs:'):\n",
    "    \n",
    "    r200s, M200s, c200s = [], [], []\n",
    "    pl_mass = []\n",
    "    \n",
    "    num_sample_from_job = int(num_sample * pl_weights[n_job])\n",
    "    \n",
    "    sampled_indices = np.random.randint(low=0, high=powerlaw_num_param_arrays[n_job], size=num_sample_from_job)\n",
    "    \n",
    "    lens_model = powerlaw_lens_models[n_job] #lens_analysis.LensModel\n",
    "    lens_analysis = LensProfileAnalysis(powerlaw_lens_models[n_job])\n",
    "    \n",
    "    for i in tnrange(len(sampled_indices), desc='Sample from job {:d}:'.format(n_job)): #len(samples_mcmc)):\n",
    "        param_array = powerlaw_param_arrays[n_job][sampled_indices[i]]\n",
    "\n",
    "        param_class = powerlaw_param_classes[n_job]\n",
    "        \n",
    "        kwargs_result = param_class.args2kwargs(param_array)\n",
    "        lens_result = kwargs_result['kwargs_lens']\n",
    "        lens_light_result = kwargs_result['kwargs_lens_light']\n",
    "        source_result = kwargs_result['kwargs_source']\n",
    "        ps_result = kwargs_result['kwargs_ps']\n",
    "\n",
    "#         _, _, c, r, M = lens_cosmo.nfw_angle2physical(lens_result[0]['Rs'], lens_result[0]['alpha_Rs'])\n",
    "        \n",
    "#         r = c * lens_result[0]['Rs']\n",
    "        \n",
    "#         mean_convergence = lens_analysis.mass_fraction_within_radius(lens_result, \n",
    "#                                                                  lens_result[0]['center_x'], \n",
    "#                                                                  lens_result[0]['center_y'], \n",
    "#                                                                  3.2, numPix=320) # using half-light radius\n",
    "        \n",
    "#         theta_E = lens_analysis.effective_einstein_radius(lens_result, verbose=False)\n",
    "        _r = 0.2\n",
    "        _mean_convergence = lens_analysis.mass_fraction_within_radius(lens_result, \n",
    "                                                                 lens_result[0]['center_x'], \n",
    "                                                                 lens_result[0]['center_y'], \n",
    "                                                                 _r, numPix=100)\n",
    "       \n",
    "        \n",
    "        #dm_fraction.append(mass_fraction[0] / (mass_fraction[0] + mass_fraction[2]))\n",
    "        \n",
    "        \n",
    "        pl_mass.append(np.log10((_mean_convergence[0] + _mean_convergence[1]) * np.pi \n",
    "                                      * (_r/206265 * lens_cosmo.dd)**2 * lens_cosmo.sigma_crit))\n",
    "        \n",
    "        #print(mean_convergence)\n",
    "        \n",
    "        \n",
    "#         r200s.append(r)\n",
    "#         M200s.append(M)\n",
    "#         c200s.append(c)\n",
    "        \n",
    "\n",
    "#     composite_r200s += r200s\n",
    "#     composite_M200s += M200s\n",
    "#     composite_c200s += c200s\n",
    "    pl_masses_0p2_arcsec += pl_mass"
   ]
  },
  {
   "cell_type": "code",
   "execution_count": 26,
   "id": "saved-upper",
   "metadata": {
    "scrolled": false
   },
   "outputs": [
    {
     "data": {
      "text/plain": [
       "10.580844751402065"
      ]
     },
     "execution_count": 26,
     "metadata": {},
     "output_type": "execute_result"
    }
   ],
   "source": [
    "_len = min(len(pl_masses_0p2_arcsec), len(total_masses_within_0p2_arcsec))\n",
    "\n",
    "np.log10(np.mean(10**(np.array(pl_masses_0p2_arcsec[:_len])) - (10**(np.array(total_masses_within_0p2_arcsec[:_len]) ))))"
   ]
  },
  {
   "cell_type": "code",
   "execution_count": 27,
   "id": "oriental-positive",
   "metadata": {},
   "outputs": [
    {
     "data": {
      "text/plain": [
       "3.806237019550362"
      ]
     },
     "execution_count": 27,
     "metadata": {},
     "output_type": "execute_result"
    }
   ],
   "source": [
    "10**.580495828900494"
   ]
  },
  {
   "cell_type": "code",
   "execution_count": 28,
   "id": "seasonal-arrangement",
   "metadata": {},
   "outputs": [
    {
     "name": "stderr",
     "output_type": "stream",
     "text": [
      "/Users/ajshajib/anaconda3/lib/python3.7/site-packages/ipykernel_launcher.py:16: TqdmDeprecationWarning: Please use `tqdm.notebook.trange` instead of `tqdm.tnrange`\n",
      "  app.launch_new_instance()\n"
     ]
    },
    {
     "data": {
      "application/vnd.jupyter.widget-view+json": {
       "model_id": "a8d9b1ec82744d638ed11dcc1bd0c96c",
       "version_major": 2,
       "version_minor": 0
      },
      "text/plain": [
       "Jobs::   0%|          | 0/12 [00:00<?, ?it/s]"
      ]
     },
     "metadata": {},
     "output_type": "display_data"
    },
    {
     "name": "stderr",
     "output_type": "stream",
     "text": [
      "/Users/ajshajib/anaconda3/lib/python3.7/site-packages/ipykernel_launcher.py:32: TqdmDeprecationWarning: Please use `tqdm.notebook.trange` instead of `tqdm.tnrange`\n"
     ]
    },
    {
     "data": {
      "application/vnd.jupyter.widget-view+json": {
       "model_id": "9a1071d5377740b799f71aeadbd5d1b3",
       "version_major": 2,
       "version_minor": 0
      },
      "text/plain": [
       "Sample from job 0::   0%|          | 0/140 [00:00<?, ?it/s]"
      ]
     },
     "metadata": {},
     "output_type": "display_data"
    },
    {
     "data": {
      "application/vnd.jupyter.widget-view+json": {
       "model_id": "f3b0b60e13934ab98f21dbffd6942b36",
       "version_major": 2,
       "version_minor": 0
      },
      "text/plain": [
       "Sample from job 1::   0%|          | 0/362 [00:00<?, ?it/s]"
      ]
     },
     "metadata": {},
     "output_type": "display_data"
    },
    {
     "data": {
      "application/vnd.jupyter.widget-view+json": {
       "model_id": "c2df3a09a995441092a844a2fab894ea",
       "version_major": 2,
       "version_minor": 0
      },
      "text/plain": [
       "Sample from job 2::   0%|          | 0/474 [00:00<?, ?it/s]"
      ]
     },
     "metadata": {},
     "output_type": "display_data"
    },
    {
     "data": {
      "application/vnd.jupyter.widget-view+json": {
       "model_id": "a3077a2d16a94e2c80d670b346d43d66",
       "version_major": 2,
       "version_minor": 0
      },
      "text/plain": [
       "Sample from job 3:: 0it [00:00, ?it/s]"
      ]
     },
     "metadata": {},
     "output_type": "display_data"
    },
    {
     "data": {
      "application/vnd.jupyter.widget-view+json": {
       "model_id": "e2192831db354386b0b4aaf697c0ee1b",
       "version_major": 2,
       "version_minor": 0
      },
      "text/plain": [
       "Sample from job 4:: 0it [00:00, ?it/s]"
      ]
     },
     "metadata": {},
     "output_type": "display_data"
    },
    {
     "data": {
      "application/vnd.jupyter.widget-view+json": {
       "model_id": "3ea4cedbe7bf44cd9557bf29a738c7f3",
       "version_major": 2,
       "version_minor": 0
      },
      "text/plain": [
       "Sample from job 5:: 0it [00:00, ?it/s]"
      ]
     },
     "metadata": {},
     "output_type": "display_data"
    },
    {
     "data": {
      "application/vnd.jupyter.widget-view+json": {
       "model_id": "6f4319f7bb544b76b522b71d6e35bfaf",
       "version_major": 2,
       "version_minor": 0
      },
      "text/plain": [
       "Sample from job 6::   0%|          | 0/183 [00:00<?, ?it/s]"
      ]
     },
     "metadata": {},
     "output_type": "display_data"
    },
    {
     "data": {
      "application/vnd.jupyter.widget-view+json": {
       "model_id": "447a7dbaf656450f830e4917d5033d51",
       "version_major": 2,
       "version_minor": 0
      },
      "text/plain": [
       "Sample from job 7::   0%|          | 0/378 [00:00<?, ?it/s]"
      ]
     },
     "metadata": {},
     "output_type": "display_data"
    },
    {
     "data": {
      "application/vnd.jupyter.widget-view+json": {
       "model_id": "e2752a9ae5f94fb0b1c7faefac96273e",
       "version_major": 2,
       "version_minor": 0
      },
      "text/plain": [
       "Sample from job 8::   0%|          | 0/500 [00:00<?, ?it/s]"
      ]
     },
     "metadata": {},
     "output_type": "display_data"
    },
    {
     "data": {
      "application/vnd.jupyter.widget-view+json": {
       "model_id": "33ae7da58bd7440799e7830694b81e50",
       "version_major": 2,
       "version_minor": 0
      },
      "text/plain": [
       "Sample from job 9:: 0it [00:00, ?it/s]"
      ]
     },
     "metadata": {},
     "output_type": "display_data"
    },
    {
     "data": {
      "application/vnd.jupyter.widget-view+json": {
       "model_id": "869cfff32bf44bf1951bacc748881d76",
       "version_major": 2,
       "version_minor": 0
      },
      "text/plain": [
       "Sample from job 10:: 0it [00:00, ?it/s]"
      ]
     },
     "metadata": {},
     "output_type": "display_data"
    },
    {
     "data": {
      "application/vnd.jupyter.widget-view+json": {
       "model_id": "85047cfb40874e148ba0643fc3e2ed44",
       "version_major": 2,
       "version_minor": 0
      },
      "text/plain": [
       "Sample from job 11:: 0it [00:00, ?it/s]"
      ]
     },
     "metadata": {},
     "output_type": "display_data"
    }
   ],
   "source": [
    "from lenstronomy.Analysis.lens_profile import LensProfileAnalysis\n",
    "from lenstronomy.Analysis.light_profile import LightProfileAnalysis\n",
    "from lenstronomy.LightModel.light_model import LightModel\n",
    "import lenstronomy.Util.class_creator as class_creator\n",
    "\n",
    "\n",
    "lens_cosmo = LensCosmo(z_lens=0.230, z_source=0.777)\n",
    "\n",
    "powerlaw_weights = get_relative_weights(powerlaw_bics, sigma_model_bic, take_std=False, \n",
    "                                  sigma_model=sigma_model_bic)    \n",
    "\n",
    "powerlaw_profiles = []\n",
    "sersic_profiles = []\n",
    "\n",
    "\n",
    "for n_job in tnrange(len(composite_files), desc='Jobs:'):\n",
    "    num_sample_from_job = int(num_sample * powerlaw_weights[n_job])\n",
    "    \n",
    "    sampled_indices = np.random.randint(low=0, high=powerlaw_num_param_arrays[n_job], size=num_sample_from_job)\n",
    "    \n",
    "    lens_model = powerlaw_lens_models[n_job] #lens_analysis.LensModel\n",
    "    lens_analysis = LensProfileAnalysis(powerlaw_lens_models[n_job])\n",
    "\n",
    "    lens_profile = LensProfileAnalysis(lens_model)\n",
    "    \n",
    "    kwargs_model = powerlaw_kwargs_models[n_job]\n",
    "    \n",
    "    light_model = LightModel(kwargs_model['lens_light_model_list'])\n",
    "    light_analysis = LightProfileAnalysis(light_model)\n",
    "    \n",
    "    \n",
    "    for i in tnrange(len(sampled_indices), desc='Sample from job {:d}:'.format(n_job)): #len(samples_mcmc)):\n",
    "        r = np.logspace(-2, 1, 100)\n",
    "        \n",
    "        param_array = powerlaw_param_arrays[n_job][sampled_indices[i]]\n",
    "\n",
    "        param_class = powerlaw_param_classes[n_job]\n",
    "        \n",
    "        kwargs_result = param_class.args2kwargs(param_array)\n",
    "        lens_result = kwargs_result['kwargs_lens']\n",
    "        lens_light_result = kwargs_result['kwargs_lens_light']\n",
    "        source_result = kwargs_result['kwargs_source']\n",
    "        ps_result = kwargs_result['kwargs_ps']\n",
    "        \n",
    "        mass = []\n",
    "        \n",
    "        center_x, center_y = lens_result[0]['center_x'], lens_result[0]['center_y']\n",
    "        \n",
    "        for _r in r:\n",
    "            m = lens_profile.mass_fraction_within_radius(lens_result, center_x, center_y, _r)[0]\n",
    "            mass.append(m)\n",
    "            \n",
    "        powerlaw_profiles.append(mass) #lens_profile.radial_lens_profile(r, lens_result, model_bool_list=[0]))\n",
    "        \n",
    "        #print(powerlaw_kwargs_joint)\n",
    "        ## linear-solve light profiles\n",
    "#         image_model = class_creator.create_im_sim(powerlaw_multi_band_list[n_job],\n",
    "#                                                   powerlaw_kwargs_joint[n_job]['multi_band_type'],\n",
    "#                                                   powerlaw_kwargs_models[n_job],\n",
    "#                                                   bands_compute=None,\n",
    "#                                                   likelihood_mask_list=powerlaw_kwargs_likelihoods[n_job][\n",
    "#                                                         'image_likelihood_mask_list'],\n",
    "#                                                   band_index=2)\n",
    "\n",
    "#         model, error_map, cov_param, param = image_model.image_linear_solve(\n",
    "#                                                                     inv_bool=True,\n",
    "#                                                                     **kwargs_result)\n",
    "        \n",
    "#         sersic_profiles.append(light_analysis.radial_light_profile(r, kwargs_result['kwargs_lens_light'], \n",
    "#                                                                 model_bool_list=[6, 7, 8]))\n",
    "        "
   ]
  },
  {
   "cell_type": "code",
   "execution_count": 29,
   "id": "fancy-roots",
   "metadata": {},
   "outputs": [],
   "source": [
    "amps = np.array([ 109.71266358,  794.93301916, 1532.92674307, 2512.27225728,\n",
    "         802.3082921 , 1541.40433211, 2247.26031178, 3461.27666923,\n",
    "        1438.18065661])\n",
    "sigmas = np.array([ 0.11148307,  0.2444676 ,  0.52249641,  1.04108547,  2.20575275,\n",
    "         2.21091594,  3.72653489,  8.49165874, 10.99787672])\n",
    "    \n",
    "mge_profile = 0.\n",
    "\n",
    "xs = np.logspace(-2.5, 1.5, 1000)\n",
    "\n",
    "for a, s in zip(amps, sigmas):\n",
    "    mge_profile += a / (2*np.pi) / s**2 * np.exp(-xs**2/2./s**2) * 0.08**2\n",
    "\n",
    "#amp = interp1d(xs, mge_profile)(3.2) * 8.\n",
    "\n",
    "isophote_intensity = np.array([2.81674395e+01, 2.80241003e+01, 2.79376548e+01, 2.76640070e+01,\n",
    "       2.73205135e+01, 2.69109445e+01, 2.65524359e+01, 2.63234559e+01,\n",
    "       2.61003984e+01, 2.57406847e+01, 2.53513680e+01, 2.48909097e+01,\n",
    "       2.43021945e+01, 2.36588153e+01, 2.29707524e+01, 2.22451540e+01,\n",
    "       2.15400730e+01, 2.07415821e+01, 1.99374879e+01, 1.88695315e+01,\n",
    "       1.77770359e+01, 1.66502970e+01, 1.56436536e+01, 1.44859412e+01,\n",
    "       1.33254826e+01, 1.21847738e+01, 1.10139487e+01, 9.99849327e+00,\n",
    "       8.97374038e+00, 8.03202159e+00, 7.10128401e+00, 6.18937208e+00,\n",
    "       5.41697295e+00, 4.70240938e+00, 4.03017982e+00, 3.42997255e+00,\n",
    "       3.04799056e+00, 3.00171312e+00, 2.44105927e+00, 1.80370421e+00,\n",
    "       1.54964383e+00, 1.36756897e+00, 1.13430798e+00, 9.84463155e-01,\n",
    "       8.27425112e-01, 6.94655303e-01, 5.82004736e-01, 4.86960530e-01,\n",
    "       4.08075673e-01, 3.37802253e-01, 2.85625896e-01, 2.40198604e-01,\n",
    "       2.09867513e-01, 1.82181829e-01, 1.52603805e-01, 1.19826501e-01,\n",
    "       9.70260012e-02, 7.95500478e-02, 6.81121601e-02, 6.00368136e-02,\n",
    "       5.03291831e-02, 3.85513013e-02, 3.32596003e-02, 2.90814516e-02,\n",
    "       2.23873108e-02, 1.77987097e-02, 1.39330881e-02, 1.00113482e-02,\n",
    "       7.01918292e-03, 5.42133087e-03, 4.19826941e-03])\n",
    "\n",
    "isophote_intensity_error = np.array([0., 0.00574245, 0.01188524, 0.03156116, 0.04193748,\n",
    "       0.0536408 , 0.04996095, 0.05266414, 0.07238149, 0.06346388,\n",
    "       0.06492183, 0.06970633, 0.0636235 , 0.06418433, 0.06599174,\n",
    "       0.05704632, 0.05398294, 0.0515921 , 0.04574281, 0.02288327,\n",
    "       0.02000093, 0.02303395, 0.02613524, 0.02107169, 0.02213201,\n",
    "       0.02157028, 0.01916878, 0.01388   , 0.01319626, 0.01111101,\n",
    "       0.00981156, 0.01179084, 0.00655008, 0.00820663, 0.00967259,\n",
    "       0.01268297, 0.02594064, 0.06587547, 0.03746649, 0.01448655,\n",
    "       0.02300083, 0.0180416 , 0.00799866, 0.00764895, 0.0050912 ,\n",
    "       0.00396138, 0.00306038, 0.00203216, 0.001653  , 0.00144987,\n",
    "       0.00118027, 0.00112279, 0.00127357, 0.0008839 , 0.00081083,\n",
    "       0.00053862, 0.000557  , 0.00047287, 0.00044553, 0.00044298,\n",
    "       0.0005861 , 0.000408  , 0.00052336, 0.00061238, 0.00035364,\n",
    "       0.00026787, 0.00020575, 0.00021654, 0.00019584, 0.00019115,\n",
    "       0.00017079])\n",
    "\n",
    "isophote_r = np.array([0.00000001e+00, 1.86065920e-01, 2.37295337e-01, 3.67813481e-01,\n",
    "       5.03628292e-01, 6.43280489e-01, 7.48321392e-01, 8.21033465e-01,\n",
    "       8.89143806e-01, 9.76371434e-01, 1.06646489e+00, 1.16832942e+00,\n",
    "       1.28849135e+00, 1.42064486e+00, 1.56197937e+00, 1.70767846e+00,\n",
    "       1.86021302e+00, 2.03406115e+00, 2.20326176e+00, 2.42183240e+00,\n",
    "       2.65492841e+00, 2.90810204e+00, 3.16905497e+00, 3.47181721e+00,\n",
    "       3.81280580e+00, 4.18338109e+00, 4.59438003e+00, 5.01392427e+00,\n",
    "       5.49652467e+00, 6.01711387e+00, 6.59932646e+00, 7.27461282e+00,\n",
    "       8.02031940e+00, 8.87208933e+00, 9.82524169e+00, 1.09336657e+01,\n",
    "       1.19017311e+01, 1.24267750e+01, 1.40392760e+01, 1.64870054e+01,\n",
    "       1.81357060e+01, 1.99492766e+01, 2.19590749e+01, 2.39588680e+01,\n",
    "       2.64394268e+01, 2.90708671e+01, 3.19779538e+01, 3.50589844e+01,\n",
    "       3.83696540e+01, 4.24385775e+01, 4.63596062e+01, 5.11263215e+01,\n",
    "       5.56717815e+01, 6.04209085e+01, 6.62256080e+01, 7.36358778e+01,\n",
    "       8.09080359e+01, 8.77657241e+01, 9.52988370e+01, 1.02375723e+02,\n",
    "       1.12063918e+02, 1.24029703e+02, 1.34567850e+02, 1.46001962e+02,\n",
    "       1.58627003e+02, 1.72303813e+02, 1.87616130e+02, 2.09023959e+02,\n",
    "       2.34113805e+02, 2.54179001e+02, 2.72434313e+02]) * 0.08"
   ]
  },
  {
   "cell_type": "code",
   "execution_count": 30,
   "id": "52b69e9b",
   "metadata": {},
   "outputs": [],
   "source": [
    "r_diff = np.diff(isophote_r)"
   ]
  },
  {
   "cell_type": "code",
   "execution_count": 31,
   "id": "13b12aed",
   "metadata": {},
   "outputs": [],
   "source": [
    "r_diff = np.append([0.00000001e+00], r_diff)"
   ]
  },
  {
   "cell_type": "code",
   "execution_count": 32,
   "id": "be9f858a",
   "metadata": {},
   "outputs": [
    {
     "data": {
      "text/plain": [
       "array([1.00000000e-08, 1.48852728e-02, 4.09835336e-03, 1.04414515e-02,\n",
       "       1.08651849e-02, 1.11721758e-02, 8.40327224e-03, 5.81696584e-03,\n",
       "       5.44882728e-03, 6.97821024e-03, 7.20747648e-03, 8.14916240e-03,\n",
       "       9.61295440e-03, 1.05722808e-02, 1.13067608e-02, 1.16559272e-02,\n",
       "       1.22027648e-02, 1.39078504e-02, 1.35360488e-02, 1.74856512e-02,\n",
       "       1.86476808e-02, 2.02538904e-02, 2.08762344e-02, 2.42209792e-02,\n",
       "       2.72790872e-02, 2.96460232e-02, 3.28799152e-02, 3.35635392e-02,\n",
       "       3.86080320e-02, 4.16471360e-02, 4.65770072e-02, 5.40229088e-02,\n",
       "       5.96565264e-02, 6.81415944e-02, 7.62521888e-02, 8.86739208e-02,\n",
       "       7.74452320e-02, 4.20035120e-02, 1.29000080e-01, 1.95818352e-01,\n",
       "       1.31896048e-01, 1.45085648e-01, 1.60783864e-01, 1.59983448e-01,\n",
       "       1.98444704e-01, 2.10515224e-01, 2.32566936e-01, 2.46482448e-01,\n",
       "       2.64853568e-01, 3.25513880e-01, 3.13682296e-01, 3.81337224e-01,\n",
       "       3.63636800e-01, 3.79930160e-01, 4.64375960e-01, 5.92821584e-01,\n",
       "       5.81772648e-01, 5.48615056e-01, 6.02649032e-01, 5.66150880e-01,\n",
       "       7.75055600e-01, 9.57262800e-01, 8.43051760e-01, 9.14728960e-01,\n",
       "       1.01000328e+00, 1.09414480e+00, 1.22498536e+00, 1.71262632e+00,\n",
       "       2.00718768e+00, 1.60521568e+00, 1.46042496e+00])"
      ]
     },
     "execution_count": 32,
     "metadata": {},
     "output_type": "execute_result"
    }
   ],
   "source": [
    "r_diff"
   ]
  },
  {
   "cell_type": "code",
   "execution_count": 33,
   "id": "0f5f8ddc",
   "metadata": {},
   "outputs": [],
   "source": [
    "isophote_enclosed_flux = []\n",
    "\n",
    "for i in range(len(isophote_r)):\n",
    "    isophote_enclosed_flux.append(np.sum(2*np.pi * isophote_intensity[:i] * isophote_r[:i] * r_diff[:i]) / (2*np.pi*isophote_r[i]**2))    \n",
    "    \n",
    "    "
   ]
  },
  {
   "cell_type": "code",
   "execution_count": 34,
   "id": "reported-construction",
   "metadata": {
    "scrolled": false
   },
   "outputs": [
    {
     "name": "stderr",
     "output_type": "stream",
     "text": [
      "/Users/ajshajib/anaconda3/lib/python3.7/site-packages/numpy/core/fromnumeric.py:3420: RuntimeWarning: Mean of empty slice.\n",
      "  out=out, **kwargs)\n",
      "/Users/ajshajib/anaconda3/lib/python3.7/site-packages/numpy/core/_methods.py:188: RuntimeWarning: invalid value encountered in double_scalars\n",
      "  ret = ret.dtype.type(ret / rcount)\n"
     ]
    },
    {
     "data": {
      "image/png": "[encoded data removed]",
      "text/plain": [
       "<Figure size 478.207x591.097 with 2 Axes>"
      ]
     },
     "metadata": {},
     "output_type": "display_data"
    }
   ],
   "source": [
    "pf.set_fontscale(2)\n",
    "\n",
    "fig = plt.figure(figsize=pf.get_fig_size(width=pf.mnras_colwidth*2, height_ratio=pf.golden_ratio*2))\n",
    "ax = fig.add_subplot(211)\n",
    "\n",
    "dark_upper_quantile, dark_median, dark_lower_quantile  = np.percentile(dark_mass_profiles, q=[84, 50, 16], axis=0)\n",
    "light_upper_quantile, light_median, light_lower_quantile  = np.percentile(light_mass_profiles, q=[84, 50, 16], axis=0)\n",
    "\n",
    "from scipy.interpolate import interp1d\n",
    "\n",
    "kappa_light_amp_at_theta_E = interp1d(r, light_median)(1.3617)\n",
    "#light_amp_at_theta_E = interp1d(isophote_r, isophote_intensity)(1.3617)\n",
    "light_amp_at_theta_E = interp1d(isophote_r, isophote_enclosed_flux)(1.3617)\n",
    "\n",
    "#isophote_intensity *= kappa_light_amp_at_theta_E / light_amp_at_theta_E\n",
    "isophote_enclosed_flux = np.array(isophote_enclosed_flux) * kappa_light_amp_at_theta_E / light_amp_at_theta_E\n",
    "isophote_intensity_error *= kappa_light_amp_at_theta_E / light_amp_at_theta_E\n",
    "\n",
    "composite_upper_quantile, composite_lower_quantile  = np.percentile(\n",
    "    np.array(dark_mass_profiles) + np.array(light_mass_profiles), \n",
    "    q=[84, 16], axis=0)\n",
    "\n",
    "powerlaw_upper_quantile, powerlaw_median, powerlaw_lower_quantile  = np.percentile(powerlaw_profiles, q=[84, 50, 16], axis=0)\n",
    "# sersic_upper_quantile, sersic_median, sersic_lower_quantile  = np.percentile(sersic_profiles, q=[84, 50, 16], \n",
    "#                                                                              axis=0)\n",
    "\n",
    "ax.fill_between(r, dark_upper_quantile, dark_lower_quantile, alpha=0.4, color=pf.cb_grey, label='Dark matter')\n",
    "ax.fill_between(r, light_upper_quantile, light_lower_quantile, alpha=0.4, \n",
    "                color=sns.xkcd_rgb['teal green'], #pf.cb_purple, \n",
    "                label='Stars')\n",
    "\n",
    "ax.fill_between(r, composite_upper_quantile, composite_lower_quantile, alpha=0.7, color=pf.cb_blue, label='Total composite')\n",
    "ax.fill_between(r, powerlaw_upper_quantile, powerlaw_lower_quantile, alpha=0.7, color=pf.cb_red, label='Power law')\n",
    "\n",
    "factor = (np.median(sersic_profiles, axis=0) / np.median(light_mass_profiles, axis=0))[np.argwhere(r >= 3.1)[0]]\n",
    "\n",
    "# ax.fill_between(r, sersic_upper_quantile/factor, sersic_lower_quantile/factor, alpha=0.8, color=pf.emerald, label='Sersic fit')\n",
    "# ax.plot(r, sersic_median/factor, alpha=0.8, color=sns.xkcd_rgb['teal green'], \n",
    "#         ls='--', label=r'Triple S${\\rm \\'e}$rsic fit')\n",
    "\n",
    "ax.axvline(x=0.08, ls='--', c='k')\n",
    "ax.text(0.08 + 0.01, 0.1, 'F160W pixel size', rotation=90)\n",
    "\n",
    "ax.axvline(x=1.3617, ls='--', c='k')\n",
    "ax.text(1.3617+0.1, 0.1, r'$\\theta_{\\rm E}$', rotation=90)\n",
    "\n",
    "#ax.plot(xs, mge_profile*2e-1, c='k', ls='--', lw=2, label='Isophote fitting')\n",
    "# ax.errorbar(isophote_r, isophote_intensity, yerr=isophote_intensity_error, c='grey', ls='None', \n",
    "#             marker='o', markersize=4, label='Isophotal fit', zorder=-10)\n",
    "ax.plot(isophote_r[2:], isophote_enclosed_flux[2:], \n",
    "        #yerr=isophote_intensity_error, \n",
    "        c='grey', ls='None',\n",
    "        marker='o', markersize=4, label='Isophotal fit', zorder=-10)\n",
    "\n",
    "\n",
    "ax.set_xscale('log')\n",
    "ax.set_yscale('log')\n",
    "\n",
    "ax.set_xlim(0.06, 5)\n",
    "ax.set_ylim(0.05, 320)\n",
    "\n",
    "#ax.set_xlabel(r'$R$ (arcsec)')\n",
    "ax.set_ylabel(r'$\\left\\langle \\kappa (< R) \\right\\rangle$')\n",
    "\n",
    "ax.legend(loc='upper right')\n",
    "\n",
    "## deviation plot\n",
    "\n",
    "ax2 = fig.add_subplot(212, sharex=ax)\n",
    "\n",
    "num_profiles = min(np.array(dark_mass_profiles).shape[0], np.array(powerlaw_files).shape[0])\n",
    "composite_deviation_upper_quantile, composite_deviation_lower_quantile  = np.percentile(\n",
    "    (np.array(dark_mass_profiles) + np.array(light_mass_profiles))[:num_profiles, :] / np.array(powerlaw_profiles)[:num_profiles, :] - 1., \n",
    "    q=[84, 16], axis=0)\n",
    "\n",
    "\n",
    "ax2.fill_between(r, composite_deviation_upper_quantile+1, composite_deviation_lower_quantile+1, alpha=0.7, color=pf.cb_blue, label='Total composite')\n",
    "\n",
    "# factor = (np.median(sersic_profiles, axis=0) / np.median(light_mass_profiles, axis=0))[np.argwhere(r >= 3.1)[0]]\n",
    "\n",
    "# ax.fill_between(r, sersic_upper_quantile/factor, sersic_lower_quantile/factor, alpha=0.8, color=pf.emerald, label='Sersic fit')\n",
    "# ax.plot(r, sersic_median/factor, alpha=0.8, color=sns.xkcd_rgb['teal green'], \n",
    "#         ls='--', label=r'Triple S${\\rm \\'e}$rsic fit')\n",
    "\n",
    "ax2.axvline(x=0.08, ls='--', c='k')\n",
    "# ax.text(0.08 - 0.015, 0.1, 'F160W pixel size', rotation=90)\n",
    "\n",
    "ax2.axvline(x=1.3617, ls='--', c='k')\n",
    "# ax.text(1.3617-0.35, 0.1, r'$\\theta_{\\rm E}$', rotation=90)\n",
    "\n",
    "ax2.axhline(y=1., ls=':', c='k')\n",
    "#ax.plot(xs, mge_profile*2e-1, c='k', ls='--', lw=2, label='Isophote fitting')\n",
    "# ax.errorbar(isophote_r, isophote_intensity, yerr=isophote_intensity_error, c='grey', ls='None', \n",
    "#             marker='o', markersize=4, label='Isophotal fit', zorder=-10)\n",
    "\n",
    "ax2.set_xscale('log')\n",
    "#ax.set_yscale('log')\n",
    "\n",
    "ax2.set_xlim(0.06, 5)\n",
    "#ax2.set_ylim(0.0, 320)\n",
    "\n",
    "ax2.set_xlabel(r'$R$ ($\\prime\\prime$)')\n",
    "ax2.set_ylabel(r'$ \\left\\langle \\kappa (<R)\\right\\rangle_{\\rm comp}\\ /\\ \\left\\langle \\kappa (<R) \\right\\rangle_{\\rm PL} $')\n",
    "\n",
    "#ax.legend(loc='upper right')\n",
    "plt.subplots_adjust(wspace=0, hspace=0)\n",
    "\n",
    "if True:\n",
    "    fig.savefig('/Users/ajshajib/Dropbox/Papers_Proposals/2038_model/figures/lenstronomy_radial_convergence_profile.pdf', bbox_inches='tight')\n",
    "#fig.savefig('/Users/ajshajib/Desktop/lenstronomy_radial_convergence_profile.pdf', bbox_inches='tight')"
   ]
  },
  {
   "cell_type": "code",
   "execution_count": 39,
   "id": "hungarian-paraguay",
   "metadata": {},
   "outputs": [
    {
     "name": "stderr",
     "output_type": "stream",
     "text": [
      "/Users/ajshajib/anaconda3/lib/python3.7/site-packages/ipykernel_launcher.py:1: RuntimeWarning: invalid value encountered in log\n",
      "  \"\"\"Entry point for launching an IPython kernel.\n"
     ]
    },
    {
     "data": {
      "text/plain": [
       "Text(0, 0.5, 'required M/L gradient exponent')"
      ]
     },
     "execution_count": 39,
     "metadata": {},
     "output_type": "execute_result"
    },
    {
     "data": {
      "image/png": "[encoded data removed]",
      "text/plain": [
       "<Figure size 432x288 with 1 Axes>"
      ]
     },
     "metadata": {},
     "output_type": "display_data"
    }
   ],
   "source": [
    "plt.plot(r, -(np.log((powerlaw_median - dark_median) / light_median) / np.log(r/3.2)))\n",
    "plt.ylim(-1, 1)\n",
    "plt.xlim(0., 0.3)\n",
    "plt.xlabel('R (arcsec)')\n",
    "plt.ylabel('required M/L gradient exponent')"
   ]
  },
  {
   "cell_type": "code",
   "execution_count": 77,
   "id": "parallel-greensboro",
   "metadata": {},
   "outputs": [
    {
     "name": "stdout",
     "output_type": "stream",
     "text": [
      "mean M/L gradient exponent upto 0.20 arcsec: 0.26890414325356615\n"
     ]
    },
    {
     "name": "stderr",
     "output_type": "stream",
     "text": [
      "/Users/ajshajib/anaconda3/lib/python3.7/site-packages/ipykernel_launcher.py:1: RuntimeWarning: invalid value encountered in log\n",
      "  \"\"\"Entry point for launching an IPython kernel.\n"
     ]
    }
   ],
   "source": [
    "print('mean M/L gradient exponent upto {:.2f} arcsec:'.format(r[43]), np.sum(-(r*(np.log((powerlaw_median - dark_median) / light_median) / np.log(r/3.2)))[:44]) / np.sum(r[:44]))"
   ]
  },
  {
   "cell_type": "code",
   "execution_count": 22,
   "id": "entire-anthropology",
   "metadata": {},
   "outputs": [
    {
     "data": {
      "text/plain": [
       "array([0.00000000e+00, 9.99539018e-04, 2.06876179e-03, 5.49358042e-03,\n",
       "       7.29969744e-03, 9.33679397e-03, 8.69627404e-03, 9.16679514e-03,\n",
       "       1.25988251e-02, 1.10466133e-02, 1.13003861e-02, 1.21331830e-02,\n",
       "       1.10743969e-02, 1.11720158e-02, 1.14866162e-02, 9.92956363e-03,\n",
       "       9.39634735e-03, 8.98019433e-03, 7.96205859e-03, 3.98309454e-03,\n",
       "       3.48139033e-03, 4.00932211e-03, 4.54913706e-03, 3.66776834e-03,\n",
       "       3.85232915e-03, 3.75455363e-03, 3.33654512e-03, 2.41597255e-03,\n",
       "       2.29695979e-03, 1.93399821e-03, 1.70781409e-03, 2.05233039e-03,\n",
       "       1.14011624e-03, 1.42845769e-03, 1.68362478e-03, 2.20761580e-03,\n",
       "       4.51526471e-03, 1.14663780e-02, 6.52147056e-03, 2.52154950e-03,\n",
       "       4.00355720e-03, 3.14034657e-03, 1.39225814e-03, 1.33138712e-03,\n",
       "       8.86181516e-04, 6.89523439e-04, 5.32694097e-04, 3.53720661e-04,\n",
       "       2.87723532e-04, 2.52366435e-04, 2.05439476e-04, 1.95434425e-04,\n",
       "       2.21679406e-04, 1.53852892e-04, 1.41134223e-04, 9.37529636e-05,\n",
       "       9.69522125e-05, 8.23084250e-05, 7.75495857e-05, 7.71057291e-05,\n",
       "       1.02017400e-04, 7.10170605e-05, 9.10967863e-05, 1.06591734e-04,\n",
       "       6.15550816e-05, 4.66258333e-05, 3.58131377e-05, 3.76912605e-05,\n",
       "       3.40881890e-05, 3.32718410e-05, 2.97279504e-05])"
      ]
     },
     "execution_count": 22,
     "metadata": {},
     "output_type": "execute_result"
    }
   ],
   "source": [
    "isophote_intensity_error"
   ]
  },
  {
   "cell_type": "code",
   "execution_count": 23,
   "id": "current-happiness",
   "metadata": {},
   "outputs": [
    {
     "name": "stdout",
     "output_type": "stream",
     "text": [
      "75775.80421448589\n"
     ]
    },
    {
     "data": {
      "image/png": "[encoded data removed]",
      "text/plain": [
       "<Figure size 432x288 with 1 Axes>"
      ]
     },
     "metadata": {},
     "output_type": "display_data"
    }
   ],
   "source": [
    "## fit core sersic\n",
    "\n",
    "def core_sersic(R, R_b, alpha, gamma, R_e, n):\n",
    "    \"\"\"\n",
    "    Definition from Dullo et al. 2019 eq. (2)\n",
    "    \"\"\"\n",
    "    b = 1.9992*n - 0.3271\n",
    "    I_ = 2**(-gamma/alpha) * np.exp(b * (2**(1/alpha) * R_b / R_e)**(1/n))\n",
    "    \n",
    "    I = I_ * (1 + (R_b/R)**alpha)**(gamma/alpha) * np.exp(-b * ((R**alpha + R_b**alpha)/R_e**alpha)**(1/alpha/n))\n",
    "    \n",
    "    return I\n",
    "\n",
    "def plot_model(params):\n",
    "    \"\"\"\n",
    "    \"\"\"\n",
    "    R_b, alpha, gamma, R_e, n = params\n",
    "    model = core_sersic(isophote_r[1:], R_b, alpha, gamma, R_e, n)\n",
    "        \n",
    "    amp = np.sum(model * isophote_intensity[1:] / isophote_intensity_error[1:]**2) / np.sum(model**2 / isophote_intensity_error[1:]**2)\n",
    "    \n",
    "    plt.loglog(isophote_r[1:], amp * model, label='model')\n",
    "    plt.loglog(isophote_r, isophote_intensity, label='isophote intensity profile')\n",
    "    \n",
    "    plt.xlabel(r'$R$ (arcsec)')\n",
    "    plt.ylabel('Flux')\n",
    "\n",
    "def chi2(params):\n",
    "    \"\"\"\n",
    "    \"\"\"\n",
    "    R_b, alpha, gamma, R_e, n = params\n",
    "    model = core_sersic(isophote_r[1:], R_b, alpha, gamma, R_e, n)\n",
    "        \n",
    "    amp = np.sum(model * isophote_intensity[1:] / isophote_intensity_error[1:]**2) / np.sum(model**2 / isophote_intensity_error[1:]**2)\n",
    "    #print(amp)\n",
    "    return np.sum(0.5 * (isophote_intensity[1:] - amp * model)**2 / isophote_intensity_error[1:]**2)\n",
    "\n",
    "\n",
    "# test the functions\n",
    "print(chi2([.15, 5, 0.1, 3.2, 4]))\n",
    "plot_model([.15, 5, 0.1, 3.2, 4])"
   ]
  },
  {
   "cell_type": "code",
   "execution_count": 24,
   "id": "fatty-chancellor",
   "metadata": {
    "scrolled": false
   },
   "outputs": [
    {
     "data": {
      "image/png": "[encoded data removed]",
      "text/plain": [
       "<Figure size 432x288 with 1 Axes>"
      ]
     },
     "metadata": {},
     "output_type": "display_data"
    }
   ],
   "source": [
    "from scipy.optimize import minimize\n",
    "\n",
    "res = minimize(chi2, [.15, 5, 0.1, 3.2, 4], method=\"Nelder-Mead\", tol=1e-4, )\n",
    "\n",
    "plot_model(res.x)"
   ]
  },
  {
   "cell_type": "code",
   "execution_count": 25,
   "id": "senior-scout",
   "metadata": {},
   "outputs": [
    {
     "data": {
      "text/plain": [
       "array([0.21173607, 2.1855336 , 0.01552691, 4.1391336 , 7.0638438 ])"
      ]
     },
     "execution_count": 25,
     "metadata": {},
     "output_type": "execute_result"
    }
   ],
   "source": [
    "#res.x[0] = 42.\n",
    "res.x"
   ]
  },
  {
   "cell_type": "code",
   "execution_count": 26,
   "id": "handmade-translation",
   "metadata": {},
   "outputs": [],
   "source": [
    "import emcee\n",
    "\n",
    "def log_probability(params):\n",
    "    return -chi2(params)\n",
    "\n",
    "pos = res.x + 1e-4 * np.random.randn(len(res.x)*10, len(res.x))\n",
    "nwalkers, ndim = pos.shape\n",
    "\n",
    "sampler = emcee.EnsembleSampler(\n",
    "    nwalkers, ndim, log_probability\n",
    ")\n"
   ]
  },
  {
   "cell_type": "code",
   "execution_count": 27,
   "id": "experienced-dodge",
   "metadata": {},
   "outputs": [
    {
     "name": "stderr",
     "output_type": "stream",
     "text": [
      "100%|██████████| 2000/2000 [00:21<00:00, 94.46it/s] \n"
     ]
    }
   ],
   "source": [
    "sampler.run_mcmc(pos, 2000, progress=True);"
   ]
  },
  {
   "cell_type": "code",
   "execution_count": 28,
   "id": "french-command",
   "metadata": {},
   "outputs": [
    {
     "data": {
      "image/png": "[encoded data removed]",
      "text/plain": [
       "<Figure size 720x504 with 5 Axes>"
      ]
     },
     "metadata": {},
     "output_type": "display_data"
    }
   ],
   "source": [
    "fig, axes = plt.subplots(ndim, figsize=(10, 7), sharex=True)\n",
    "samples = sampler.get_chain()\n",
    "labels = [r\"$R_{\\rm b}$\", r\"$\\alpha$\", r\"$\\gamma$\", r\"$R_{\\rm e}$\", r\"$n$\"]\n",
    "\n",
    "for i in range(ndim):\n",
    "    ax = axes[i]\n",
    "    ax.plot(samples[:, :, i], \"k\", alpha=0.3)\n",
    "    ax.set_xlim(0, len(samples))\n",
    "    ax.set_ylabel(labels[i])\n",
    "    ax.yaxis.set_label_coords(-0.1, 0.5)\n",
    "\n",
    "axes[-1].set_xlabel(\"step number\");"
   ]
  },
  {
   "cell_type": "code",
   "execution_count": 29,
   "id": "generous-breakfast",
   "metadata": {},
   "outputs": [
    {
     "data": {
      "text/plain": [
       "(0.21071972174160108, 0.21156393312518523, 0.2124635669493723)"
      ]
     },
     "execution_count": 29,
     "metadata": {},
     "output_type": "execute_result"
    }
   ],
   "source": [
    "# R_b from chain\n",
    "low, med, high = np.percentile(samples[-250:, ::50, 0], q=[16, 50, 84])\n",
    "\n",
    "low, med, high # arcsecond"
   ]
  },
  {
   "cell_type": "code",
   "execution_count": 30,
   "id": "whole-footwear",
   "metadata": {},
   "outputs": [
    {
     "data": {
      "text/plain": [
       "array([0.77424855, 0.77735044, 0.78065597])"
      ]
     },
     "execution_count": 30,
     "metadata": {},
     "output_type": "execute_result"
    }
   ],
   "source": [
    "from astropy.cosmology import FlatLambdaCDM\n",
    "\n",
    "cosmo = FlatLambdaCDM(70, 0.3)\n",
    "\n",
    "# print R_b in kpc\n",
    "cosmo.angular_diameter_distance(0.23).value * 1e3 * np.array([low, med, high])/206265"
   ]
  },
  {
   "cell_type": "markdown",
   "id": "hispanic-shopping",
   "metadata": {},
   "source": [
    "## Magnification of images including central image in the composite model"
   ]
  },
  {
   "cell_type": "code",
   "execution_count": 31,
   "id": "dependent-venture",
   "metadata": {
    "scrolled": false
   },
   "outputs": [
    {
     "name": "stderr",
     "output_type": "stream",
     "text": [
      "/Users/ajshajib/anaconda3/lib/python3.7/site-packages/ipykernel_launcher.py:12: TqdmDeprecationWarning: Please use `tqdm.notebook.trange` instead of `tqdm.tnrange`\n",
      "  if sys.path[0] == '':\n"
     ]
    },
    {
     "data": {
      "application/vnd.jupyter.widget-view+json": {
       "model_id": "1a9b3d0f10bb4f39a92e2ba841d963f6",
       "version_major": 2,
       "version_minor": 0
      },
      "text/plain": [
       "Jobs::   0%|          | 0/12 [00:00<?, ?it/s]"
      ]
     },
     "metadata": {},
     "output_type": "display_data"
    },
    {
     "name": "stderr",
     "output_type": "stream",
     "text": [
      "/Users/ajshajib/anaconda3/lib/python3.7/site-packages/ipykernel_launcher.py:28: TqdmDeprecationWarning: Please use `tqdm.notebook.trange` instead of `tqdm.tnrange`\n"
     ]
    },
    {
     "data": {
      "application/vnd.jupyter.widget-view+json": {
       "model_id": "9da153d1141c43ba87d8726f16932911",
       "version_major": 2,
       "version_minor": 0
      },
      "text/plain": [
       "Sample from job 0::   0%|          | 0/185 [00:00<?, ?it/s]"
      ]
     },
     "metadata": {},
     "output_type": "display_data"
    },
    {
     "name": "stderr",
     "output_type": "stream",
     "text": [
      "/Users/ajshajib/anaconda3/lib/python3.7/site-packages/scipy/optimize/minpack.py:162: RuntimeWarning: The iteration is not making good progress, as measured by the \n",
      "  improvement from the last five Jacobian evaluations.\n",
      "  warnings.warn(msg, RuntimeWarning)\n",
      "/Users/ajshajib/anaconda3/lib/python3.7/site-packages/scipy/optimize/minpack.py:162: RuntimeWarning: The iteration is not making good progress, as measured by the \n",
      "  improvement from the last ten iterations.\n",
      "  warnings.warn(msg, RuntimeWarning)\n"
     ]
    },
    {
     "data": {
      "application/vnd.jupyter.widget-view+json": {
       "model_id": "4ddf9221177f4c02a1934432519fd926",
       "version_major": 2,
       "version_minor": 0
      },
      "text/plain": [
       "Sample from job 1::   0%|          | 0/319 [00:00<?, ?it/s]"
      ]
     },
     "metadata": {},
     "output_type": "display_data"
    },
    {
     "data": {
      "application/vnd.jupyter.widget-view+json": {
       "model_id": "9dee30a76bdc4adea76eec3b70f71345",
       "version_major": 2,
       "version_minor": 0
      },
      "text/plain": [
       "Sample from job 2::   0%|          | 0/500 [00:00<?, ?it/s]"
      ]
     },
     "metadata": {},
     "output_type": "display_data"
    },
    {
     "data": {
      "application/vnd.jupyter.widget-view+json": {
       "model_id": "df397de9abcc4d88b646e0575ae4367d",
       "version_major": 2,
       "version_minor": 0
      },
      "text/plain": [
       "Sample from job 3:: 0it [00:00, ?it/s]"
      ]
     },
     "metadata": {},
     "output_type": "display_data"
    },
    {
     "data": {
      "application/vnd.jupyter.widget-view+json": {
       "model_id": "54b0b97a7d6e4229a9f753f80c8f7c18",
       "version_major": 2,
       "version_minor": 0
      },
      "text/plain": [
       "Sample from job 4:: 0it [00:00, ?it/s]"
      ]
     },
     "metadata": {},
     "output_type": "display_data"
    },
    {
     "data": {
      "application/vnd.jupyter.widget-view+json": {
       "model_id": "ec71ebce2373476cb0e45d1cf078af29",
       "version_major": 2,
       "version_minor": 0
      },
      "text/plain": [
       "Sample from job 5:: 0it [00:00, ?it/s]"
      ]
     },
     "metadata": {},
     "output_type": "display_data"
    },
    {
     "data": {
      "application/vnd.jupyter.widget-view+json": {
       "model_id": "1fa93f3fd41f4aeabfc351b7ef3d59fc",
       "version_major": 2,
       "version_minor": 0
      },
      "text/plain": [
       "Sample from job 6::   0%|          | 0/157 [00:00<?, ?it/s]"
      ]
     },
     "metadata": {},
     "output_type": "display_data"
    },
    {
     "data": {
      "application/vnd.jupyter.widget-view+json": {
       "model_id": "40885548057c4cfd92c42d6226d3124b",
       "version_major": 2,
       "version_minor": 0
      },
      "text/plain": [
       "Sample from job 7::   0%|          | 0/251 [00:00<?, ?it/s]"
      ]
     },
     "metadata": {},
     "output_type": "display_data"
    },
    {
     "data": {
      "application/vnd.jupyter.widget-view+json": {
       "model_id": "bd7813ccc13149e68f0fae540e8edff6",
       "version_major": 2,
       "version_minor": 0
      },
      "text/plain": [
       "Sample from job 8::   0%|          | 0/494 [00:00<?, ?it/s]"
      ]
     },
     "metadata": {},
     "output_type": "display_data"
    },
    {
     "data": {
      "application/vnd.jupyter.widget-view+json": {
       "model_id": "eccfdcd946f1459bb3b9dcaf51f80d57",
       "version_major": 2,
       "version_minor": 0
      },
      "text/plain": [
       "Sample from job 9:: 0it [00:00, ?it/s]"
      ]
     },
     "metadata": {},
     "output_type": "display_data"
    },
    {
     "data": {
      "application/vnd.jupyter.widget-view+json": {
       "model_id": "6274e9a0c8484b559ab6dfd9eb3170ee",
       "version_major": 2,
       "version_minor": 0
      },
      "text/plain": [
       "Sample from job 10:: 0it [00:00, ?it/s]"
      ]
     },
     "metadata": {},
     "output_type": "display_data"
    },
    {
     "data": {
      "application/vnd.jupyter.widget-view+json": {
       "model_id": "268db6d72595423bbc6f1e0949ab4bed",
       "version_major": 2,
       "version_minor": 0
      },
      "text/plain": [
       "Sample from job 11::   0%|          | 0/1 [00:00<?, ?it/s]"
      ]
     },
     "metadata": {},
     "output_type": "display_data"
    }
   ],
   "source": [
    "import copy\n",
    "from lenstronomy.LensModel.lens_model import LensModel\n",
    "from lenstronomy.LensModel.Solver.lens_equation_solver import LensEquationSolver\n",
    "\n",
    "lens_cosmo = LensCosmo(z_lens=0.230, z_source=0.777)\n",
    "\n",
    "composite_weights = get_relative_weights(composite_bics, sigma_model_bic, take_std=False, \n",
    "                                  sigma_model=sigma_model_bic)    \n",
    "\n",
    "magnifications = []\n",
    "\n",
    "for n_job in tnrange(len(composite_files), desc='Jobs:'):\n",
    "    num_sample_from_job = int(num_sample * composite_weights[n_job])\n",
    "    \n",
    "    sampled_indices = np.random.randint(low=0, high=composite_num_param_arrays[n_job], size=num_sample_from_job)\n",
    "    \n",
    "    kwargs_model = copy.deepcopy(composite_kwargs_models[n_job])\n",
    "    kwargs_model['additional_images_list'] = [True]\n",
    "    \n",
    "    lens_model = composite_lens_models[n_job] #lens_analysis.LensModel\n",
    "    lens_analysis = LensProfileAnalysis(composite_lens_models[n_job])\n",
    "    \n",
    "    lens_profile = LensProfileAnalysis(lens_model)\n",
    "    \n",
    "    multi_band_list_out = composite_multi_band_list[n_job]\n",
    "    kwargs_likelihood = composite_kwargs_likelihoods[n_job]\n",
    "    \n",
    "    for i in tnrange(len(sampled_indices), desc='Sample from job {:d}:'.format(n_job)): #len(samples_mcmc)):        \n",
    "        param_array = composite_param_arrays[n_job][sampled_indices[i]]\n",
    "\n",
    "        param_class = composite_param_classes[n_job]\n",
    "        \n",
    "        kwargs_result = param_class.args2kwargs(param_array)\n",
    "        lens_result = kwargs_result['kwargs_lens']\n",
    "        lens_light_result = kwargs_result['kwargs_lens_light']\n",
    "        source_result = kwargs_result['kwargs_source']\n",
    "        ps_result = kwargs_result['kwargs_ps']\n",
    "        \n",
    "        \n",
    "        magnifications_4_images = lens_model.magnification(\n",
    "                                     kwargs_result['kwargs_ps'][0]['ra_image'], \n",
    "                                     kwargs_result['kwargs_ps'][0]['dec_image'],\n",
    "                                     kwargs_result['kwargs_lens'])\n",
    "        \n",
    "        ra_source, dec_source = kwargs_result['kwargs_source'][0]['center_x'], kwargs_result['kwargs_source'][0]['center_y'] \n",
    "        lensEquationSolver = LensEquationSolver(lens_model)\n",
    "        x_image, y_image = lensEquationSolver.findBrightImage(ra_source, dec_source, \n",
    "                                                              kwargs_result['kwargs_lens'], \n",
    "                                                              numImages=5,\n",
    "                                                              min_distance=0.1, \n",
    "                                                              search_window=50*0.1)\n",
    "        \n",
    "#         print(x_image, y_image)\n",
    "#         print(kwargs_result['kwargs_ps'][0]['ra_image'], \n",
    "#               kwargs_result['kwargs_ps'][0]['dec_image'],)\n",
    "        try:\n",
    "            assert len(x_image) == 5 and len(y_image) == 5\n",
    "        except:\n",
    "            continue\n",
    "            \n",
    "        magnification_central_image = lens_model.magnification(x_image[4], y_image[4], kwargs_result['kwargs_lens'])\n",
    "        \n",
    "        magnifications.append(np.append(magnifications_4_images, magnification_central_image))\n",
    "        #break\n",
    "        \n",
    "        "
   ]
  },
  {
   "cell_type": "code",
   "execution_count": 32,
   "id": "sorted-sustainability",
   "metadata": {},
   "outputs": [
    {
     "name": "stdout",
     "output_type": "stream",
     "text": [
      "Image 1 magnification: -1.639+0.103-0.234\n",
      "Image 2 magnification: 4.015+0.176-0.317\n",
      "Image 3 magnification: -3.603+0.246-0.417\n",
      "Image 4 magnification: 4.792+0.315-0.326\n",
      "Image 5 magnification: 0.019+0.002-0.002\n"
     ]
    }
   ],
   "source": [
    "magnifications = np.array(magnifications)\n",
    "\n",
    "for i in range(5):\n",
    "    low, med, hi = np.percentile(magnifications[:, i], q=[16, 50, 84])\n",
    "    print('Image {} magnification: {:.3f}+{:.3f}-{:.3f}'.format(i+1, med, hi-med, med-low))"
   ]
  },
  {
   "cell_type": "code",
   "execution_count": 33,
   "id": "uniform-school",
   "metadata": {},
   "outputs": [
    {
     "data": {
      "image/png": "[encoded data removed]",
      "text/plain": [
       "<Figure size 432x288 with 1 Axes>"
      ]
     },
     "execution_count": 33,
     "metadata": {},
     "output_type": "execute_result"
    },
    {
     "data": {
      "image/png": "[encoded data removed]",
      "text/plain": [
       "<Figure size 432x288 with 1 Axes>"
      ]
     },
     "metadata": {},
     "output_type": "display_data"
    }
   ],
   "source": [
    "fig = plt.figure()\n",
    "ax = fig.add_subplot(111)\n",
    "ax.scatter(x_image, y_image)\n",
    "\n",
    "for x, y, i in zip(x_image, y_image, range(len(x_image))):\n",
    "    ax.text(x, y, '{}'.format(i))\n",
    "\n",
    "ax.set_aspect('equal')\n",
    "ax.set_xlim(x_image.max() + 0.2, x_image.min() - 0.2)\n",
    "\n",
    "fig"
   ]
  },
  {
   "cell_type": "markdown",
   "id": "domestic-vintage",
   "metadata": {},
   "source": [
    "Image number to letter id:\n",
    "1 -> B,\n",
    "2 -> C,\n",
    "0 -> A,\n",
    "3 -> D,\n",
    "4 -> central"
   ]
  },
  {
   "cell_type": "code",
   "execution_count": null,
   "id": "offensive-productivity",
   "metadata": {},
   "outputs": [],
   "source": []
  }
 ],
 "metadata": {
  "kernelspec": {
   "display_name": "Python 3 (ipykernel)",
   "language": "python",
   "name": "python3"
  },
  "language_info": {
   "codemirror_mode": {
    "name": "ipython",
    "version": 3
   },
   "file_extension": ".py",
   "mimetype": "text/x-python",
   "name": "python",
   "nbconvert_exporter": "python",
   "pygments_lexer": "ipython3",
   "version": "3.9.7"
  }
 },
 "nbformat": 4,
 "nbformat_minor": 5
}
