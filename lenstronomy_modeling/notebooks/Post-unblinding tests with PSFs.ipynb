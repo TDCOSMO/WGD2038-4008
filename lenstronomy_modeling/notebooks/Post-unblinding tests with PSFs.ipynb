{
 "cells": [
  {
   "cell_type": "markdown",
   "id": "forward-summit",
   "metadata": {},
   "source": [
    "## imports"
   ]
  },
  {
   "cell_type": "code",
   "execution_count": 1,
   "id": "brown-capacity",
   "metadata": {},
   "outputs": [],
   "source": [
    "import lenstronomy\n",
    "\n",
    "lenstronomy.__version__"
   ]
  },
  {
   "cell_type": "code",
   "execution_count": 2,
   "id": "acting-rehabilitation",
   "metadata": {},
   "outputs": [
    {
     "name": "stdout",
     "output_type": "stream",
     "text": [
      "Base directory path: /Users/ajshajib/Research/time_delay_cosmography/J2038/WGD2038-4008/lenstronomy_modeling\n"
     ]
    }
   ],
   "source": [
    "import numpy as np\n",
    "import os\n",
    "import pickle\n",
    "import copy\n",
    "import time\n",
    "import h5py\n",
    "from pprint import pprint\n",
    "import joblib\n",
    "import gc\n",
    "\n",
    "from lenstronomy.Util import util\n",
    "from lenstronomy.Util import param_util\n",
    "from lenstronomy.Workflow.fitting_sequence import FittingSequence\n",
    "from lenstronomy.Plots.model_plot import ModelPlot\n",
    "from lenstronomy.Plots import chain_plot\n",
    "from lenstronomy.Sampling.parameters import Param\n",
    "#from lenstronomy.Analysis.lens_analysis import LensAnalysis\n",
    "from lenstronomy.Util import mask_util\n",
    "from lenstronomy.LensModel.lens_model import LensModel\n",
    "from lenstronomy.Data.coord_transforms import Coordinates\n",
    "from lenstronomy.Util.util import array2image\n",
    "\n",
    "import paperfig as pf\n",
    "pf.set_fontscale(2.)\n",
    "\n",
    "cwd = os.getcwd()\n",
    "base_path, _ = os.path.split(cwd)\n",
    "print('Base directory path:', base_path)"
   ]
  },
  {
   "cell_type": "code",
   "execution_count": 3,
   "id": "signal-approval",
   "metadata": {},
   "outputs": [
    {
     "data": {
      "text/plain": [
       "21"
      ]
     },
     "execution_count": 3,
     "metadata": {},
     "output_type": "execute_result"
    }
   ],
   "source": [
    "gc.collect()"
   ]
  },
  {
   "cell_type": "code",
   "execution_count": 4,
   "id": "integrated-classic",
   "metadata": {},
   "outputs": [],
   "source": [
    "savefig = False"
   ]
  },
  {
   "cell_type": "code",
   "execution_count": 5,
   "id": "surrounded-hacker",
   "metadata": {},
   "outputs": [],
   "source": [
    "import sys\n",
    "sys.path.insert(0, './process_output')\n",
    "\n",
    "# load necessary functions for BIC computation and unpickling composite model outputs\n",
    "from output_class import *"
   ]
  },
  {
   "cell_type": "markdown",
   "id": "second-highland",
   "metadata": {},
   "source": [
    "# load output files"
   ]
  },
  {
   "cell_type": "markdown",
   "id": "typical-operations",
   "metadata": {},
   "source": [
    "## load power-law model chains and process"
   ]
  },
  {
   "cell_type": "code",
   "execution_count": 6,
   "id": "measured-muslim",
   "metadata": {},
   "outputs": [],
   "source": [
    "powerlaw_files = [\n",
    "    '2038_run145_0_0_0_0_0_shortened',\n",
    "    '2038_run221_0_0_0_0_0',\n",
    "    '2038_run225_0_0_0_0_0',\n",
    "    '2038_run227_0_0_0_0_0',\n",
    "    '2038_run231_0_0_0_0_0',\n",
    "    #'2038_run232_0_0_0_0_0',\n",
    "    '2038_run238_0_0_0_0_0',\n",
    "    '2038_run239_0_0_0_0_0',\n",
    "    '2038_run240_0_0_0_0_0',\n",
    "]"
   ]
  },
  {
   "cell_type": "code",
   "execution_count": 7,
   "id": "promotional-collect",
   "metadata": {},
   "outputs": [],
   "source": [
    "powerlaw_bics = []\n",
    "powerlaw_param_arrays = []\n",
    "powerlaw_num_param_arrays = []\n",
    "powerlaw_kwargs_models = []\n",
    "powerlaw_kwargs_constraints = []\n",
    "powerlaw_param_classes = []\n",
    "powerlaw_lens_models = []\n",
    "powerlaw_kwargs_likelihoods = []\n",
    "powerlaw_multi_band_list = []\n",
    "\n",
    "for job_name_out in powerlaw_files:\n",
    "    output_temp = os.path.join(base_path, 'temp', job_name_out +'_out.txt')\n",
    "\n",
    "    f = open(output_temp, 'rb')\n",
    "    [input_, output_] = joblib.load(f)\n",
    "    f.close()\n",
    "    fitting_kwargs_list, kwargs_joint, kwargs_model, kwargs_constraints, kwargs_likelihood, kwargs_params, init_samples = input_\n",
    "  \n",
    "    kwargs_result, multi_band_list_out, fit_output, _ = output_\n",
    "    multi_band_list = kwargs_joint['multi_band_list']\n",
    "\n",
    "    samples_mcmc = fit_output[-1][1] #[np.random.randint(0, high=fit_output[-1][1].shape[0], size=N_sample)]\n",
    "    param_mcmc = fit_output[-1][2]\n",
    "    \n",
    "    param_class = Param(kwargs_model,\n",
    "                        kwargs_params['lens_model'][2], \n",
    "                        kwargs_params['source_model'][2],\n",
    "                        kwargs_params['lens_light_model'][2],\n",
    "                        kwargs_params['point_source_model'][2],\n",
    "                        kwargs_lens_init=kwargs_params['lens_model'][0], #kwargs_result['kwargs_lens'],\n",
    "                        **kwargs_constraints\n",
    "                       )\n",
    "    \n",
    "    lens_model = LensModel(lens_model_list=kwargs_model['lens_model_list'],\n",
    "                           z_lens=0.230, z_source=0.777,\n",
    "                           multi_plane=False, #True, \n",
    "                          )\n",
    "    \n",
    "    num_data = np.sum([np.sum(m) for m in kwargs_likelihood['image_likelihood_mask_list']])\n",
    "    num_param = param_class.num_param()[0] + param_class.num_param_linear()\n",
    "    max_logL = None #np.max(fit_output[-1][-1])\n",
    "    \n",
    "    bic = None #compute_BIC(num_data, num_param, max_logL)\n",
    "    \n",
    "    powerlaw_bics.append(bic)\n",
    "    powerlaw_param_arrays.append(np.copy(samples_mcmc))\n",
    "    powerlaw_num_param_arrays.append(len(samples_mcmc))\n",
    "    powerlaw_kwargs_models.append(kwargs_model)\n",
    "    powerlaw_kwargs_constraints.append(kwargs_constraints)\n",
    "    powerlaw_param_classes.append(param_class)\n",
    "    powerlaw_lens_models.append(lens_model)\n",
    "    powerlaw_kwargs_likelihoods.append(kwargs_likelihood)\n",
    "    powerlaw_multi_band_list.append(multi_band_list_out)\n",
    "    \n",
    "    gc.collect()\n",
    "    #break"
   ]
  },
  {
   "cell_type": "code",
   "execution_count": 8,
   "id": "forward-crisis",
   "metadata": {},
   "outputs": [
    {
     "data": {
      "text/plain": [
       "[10000, 408000, 408000, 408000, 408000, 408000, 408000, 408000]"
      ]
     },
     "execution_count": 8,
     "metadata": {},
     "output_type": "execute_result"
    }
   ],
   "source": [
    "powerlaw_num_param_arrays"
   ]
  },
  {
   "cell_type": "code",
   "execution_count": 9,
   "id": "innovative-single",
   "metadata": {},
   "outputs": [
    {
     "data": {
      "text/plain": [
       "(408000, 51)"
      ]
     },
     "execution_count": 9,
     "metadata": {},
     "output_type": "execute_result"
    }
   ],
   "source": [
    "powerlaw_param_arrays[1].shape"
   ]
  },
  {
   "cell_type": "code",
   "execution_count": 10,
   "id": "graduate-mercury",
   "metadata": {},
   "outputs": [
    {
     "name": "stderr",
     "output_type": "stream",
     "text": [
      "/Users/ajshajib/anaconda3/lib/python3.7/site-packages/ipykernel_launcher.py:26: TqdmDeprecationWarning: Please use `tqdm.notebook.trange` instead of `tqdm.tnrange`\n"
     ]
    },
    {
     "data": {
      "application/vnd.jupyter.widget-view+json": {
       "model_id": "294d18628efa4f53aef163c39e117dc5",
       "version_major": 2,
       "version_minor": 0
      },
      "text/plain": [
       "Jobs::   0%|          | 0/8 [00:00<?, ?it/s]"
      ]
     },
     "metadata": {},
     "output_type": "display_data"
    },
    {
     "name": "stderr",
     "output_type": "stream",
     "text": [
      "/Users/ajshajib/anaconda3/lib/python3.7/site-packages/ipykernel_launcher.py:53: TqdmDeprecationWarning: Please use `tqdm.notebook.trange` instead of `tqdm.tnrange`\n"
     ]
    },
    {
     "data": {
      "application/vnd.jupyter.widget-view+json": {
       "model_id": "bd1ad3f6402643029716f304d6c79c53",
       "version_major": 2,
       "version_minor": 0
      },
      "text/plain": [
       "Sample from job 0::   0%|          | 0/100 [00:00<?, ?it/s]"
      ]
     },
     "metadata": {},
     "output_type": "display_data"
    },
    {
     "name": "stderr",
     "output_type": "stream",
     "text": [
      "/Users/ajshajib/anaconda3/lib/python3.7/site-packages/ipykernel_launcher.py:53: TqdmDeprecationWarning: Please use `tqdm.notebook.trange` instead of `tqdm.tnrange`\n"
     ]
    },
    {
     "data": {
      "application/vnd.jupyter.widget-view+json": {
       "model_id": "8e75d51f62424e66ad90a6f45706f194",
       "version_major": 2,
       "version_minor": 0
      },
      "text/plain": [
       "Sample from job 1::   0%|          | 0/100 [00:00<?, ?it/s]"
      ]
     },
     "metadata": {},
     "output_type": "display_data"
    },
    {
     "data": {
      "application/vnd.jupyter.widget-view+json": {
       "model_id": "683805dbc79a4ae38549ed8903c09613",
       "version_major": 2,
       "version_minor": 0
      },
      "text/plain": [
       "Sample from job 2::   0%|          | 0/100 [00:00<?, ?it/s]"
      ]
     },
     "metadata": {},
     "output_type": "display_data"
    },
    {
     "data": {
      "application/vnd.jupyter.widget-view+json": {
       "model_id": "ba19370ce5cb419b8a3b46a229962d67",
       "version_major": 2,
       "version_minor": 0
      },
      "text/plain": [
       "Sample from job 3::   0%|          | 0/100 [00:00<?, ?it/s]"
      ]
     },
     "metadata": {},
     "output_type": "display_data"
    },
    {
     "data": {
      "application/vnd.jupyter.widget-view+json": {
       "model_id": "fe065b8e1abf4cbc9d5b2ff432d0c78f",
       "version_major": 2,
       "version_minor": 0
      },
      "text/plain": [
       "Sample from job 4::   0%|          | 0/100 [00:00<?, ?it/s]"
      ]
     },
     "metadata": {},
     "output_type": "display_data"
    },
    {
     "data": {
      "application/vnd.jupyter.widget-view+json": {
       "model_id": "67f2b1bc29c4464690a7cb64bade36cb",
       "version_major": 2,
       "version_minor": 0
      },
      "text/plain": [
       "Sample from job 5::   0%|          | 0/100 [00:00<?, ?it/s]"
      ]
     },
     "metadata": {},
     "output_type": "display_data"
    },
    {
     "data": {
      "application/vnd.jupyter.widget-view+json": {
       "model_id": "58ed8e12fd8b4d60bc287139538f240e",
       "version_major": 2,
       "version_minor": 0
      },
      "text/plain": [
       "Sample from job 6::   0%|          | 0/100 [00:00<?, ?it/s]"
      ]
     },
     "metadata": {},
     "output_type": "display_data"
    },
    {
     "data": {
      "application/vnd.jupyter.widget-view+json": {
       "model_id": "637cb424491a49dc867b12611694ea36",
       "version_major": 2,
       "version_minor": 0
      },
      "text/plain": [
       "Sample from job 7::   0%|          | 0/100 [00:00<?, ?it/s]"
      ]
     },
     "metadata": {},
     "output_type": "display_data"
    }
   ],
   "source": [
    "powerlaw_theta_es = [] # the circularly averaged one\n",
    "powerlaw_theta_es_elliptical = [] # the parameter that is sampled directly\n",
    "powerlaw_gammas = []  # the circularly averaged one\n",
    "powerlaw_gammas_elliptical = [] # the parameter that is sampled directly\n",
    "\n",
    "powerlaw_gamma_exts = []\n",
    "powerlaw_psi_exts = []\n",
    "powerlaw_reffs = []\n",
    "powerlaw_qs = []\n",
    "powerlaw_pas = []\n",
    "\n",
    "powerlaw_dphi_ABs = []\n",
    "powerlaw_dphi_ACs = []\n",
    "powerlaw_dphi_ADs = []\n",
    "\n",
    "powerlaw_invariant_gradients = [] # at circular averaged theta_E\n",
    "powerlaw_invariant_gradients_ellipticals = [] # at sampled theta_E\n",
    "\n",
    "#powerlaw_del_bics = np.max(powerlaw_bics) - np.array(powerlaw_bics)\n",
    "#powerlaw_weights = get_relative_weights(powerlaw_bics, 0., take_std=False, sigma_model=np.std(powerlaw_bics)) #np.exp(powerlaw_del_logZs) / np.sum(np.exp(powerlaw_del_logZs))\n",
    "powerlaw_weights = [1.] * len(powerlaw_files)\n",
    "\n",
    "#print(powerlaw_weights)\n",
    "N_sample = 100\n",
    "\n",
    "for n_job in tnrange(len(powerlaw_files), desc='Jobs:'):\n",
    "    \n",
    "    powerlaw_theta_e = []\n",
    "    powerlaw_theta_e_elliptical = []\n",
    "    powerlaw_theta_e_precision = []\n",
    "    powerlaw_gamma = []\n",
    "    powerlaw_gamma_elliptical = []\n",
    "    powerlaw_gamma_ext = []\n",
    "    powerlaw_psi_ext = []\n",
    "    powerlaw_reff = []\n",
    "    powerlaw_q, powerlaw_phi = [], []\n",
    "\n",
    "    powerlaw_dphi_AB = []\n",
    "    powerlaw_dphi_AC = []\n",
    "    powerlaw_dphi_AD = []\n",
    "    powerlaw_invariant_gradient = []\n",
    "    powerlaw_invariant_gradient_elliptical = []\n",
    "    \n",
    "    num_sample_from_job = int(powerlaw_weights[n_job] * powerlaw_num_param_arrays[n_job])\n",
    "    \n",
    "    td_cosmography = TDCosmography(z_lens=0.230, z_source=0.777, kwargs_model=powerlaw_kwargs_models[n_job])\n",
    "    \n",
    "    sampled_indices = np.random.randint(low=powerlaw_num_param_arrays[n_job]-5000, high=powerlaw_num_param_arrays[n_job], size=N_sample)\n",
    "    \n",
    "    lens_model = powerlaw_lens_models[n_job] #lens_analysis.LensModel\n",
    "    lens_analysis = LensProfileAnalysis(powerlaw_lens_models[n_job])\n",
    "  \n",
    "    for i in tnrange(len(sampled_indices), desc='Sample from job {:d}:'.format(n_job)): #len(samples_mcmc)):\n",
    "        param_array = powerlaw_param_arrays[n_job][sampled_indices[i]]\n",
    "\n",
    "        param_class = powerlaw_param_classes[n_job]\n",
    "        \n",
    "        kwargs_result = param_class.args2kwargs(param_array)\n",
    "        lens_result = kwargs_result['kwargs_lens']\n",
    "        lens_light_result = kwargs_result['kwargs_lens_light']\n",
    "        source_result = kwargs_result['kwargs_source']\n",
    "        ps_result = kwargs_result['kwargs_ps']\n",
    "\n",
    "        model_bool = [False] * len(lens_result)\n",
    "        model_bool[0] = True\n",
    "        #model_bool[2] = False # True for composite\n",
    "        model_index = [0] #[0, 2] for composite\n",
    "        \n",
    "#         powerlaw_theta_e.append(lens_result[0]['theta_E'])\n",
    "#         powerlaw_gamma.append(lens_result[0]['gamma'])\n",
    "        \n",
    "#         theta_e, prec = lens_analysis.effective_einstein_radius(lens_result, model_bool_list=model_index,\n",
    "#                                                          grid_spacing=0.015, get_precision=True)\n",
    "#         theta_e += np.random.normal(loc=0., scale=prec)\n",
    "        \n",
    "#         powerlaw_theta_e.append(theta_e)\n",
    "        powerlaw_theta_e_elliptical.append(lens_result[0]['theta_E'])\n",
    "        powerlaw_gamma_elliptical.append(lens_result[0]['gamma'])\n",
    "        \n",
    "#         powerlaw_gamma.append(lens_analysis.profile_slope(lens_result, theta_e))\n",
    "        \n",
    "#         shear_psi, shear_mag = param_util.shear_cartesian2polar(lens_result[1]['gamma1'],\n",
    "#                                                                 lens_result[1]['gamma2'],\n",
    "#                                                                )\n",
    "        \n",
    "#         phi, q = param_util.ellipticity2phi_q(lens_result[0]['e1'],\n",
    "#                                               lens_result[0]['e2'])\n",
    "#         powerlaw_q.append(q)\n",
    "#         powerlaw_phi.append(phi*180/np.pi)\n",
    "        \n",
    "#         powerlaw_gamma_ext.append(shear_mag)\n",
    "#         powerlaw_psi_ext.append(shear_psi*180/np.pi)\n",
    "\n",
    "\n",
    "#         fermat_potential = td_cosmography.fermat_potential(lens_result, ps_result, original_ps_position=True)\n",
    "        \n",
    "#         dphi_AB = fermat_potential[1] - fermat_potential[3]\n",
    "#         dphi_AC = fermat_potential[1] - fermat_potential[2]\n",
    "#         dphi_AD = fermat_potential[1] - fermat_potential[0]\n",
    "        \n",
    "#         powerlaw_dphi_AB.append(dphi_AB)\n",
    "#         powerlaw_dphi_AC.append(dphi_AC)\n",
    "#         powerlaw_dphi_AD.append(dphi_AD)\n",
    "        \n",
    "#         powerlaw_invariant_gradient.append(lens_analysis.mst_invariant_differential(lens_result, theta_e))\n",
    "#         powerlaw_invariant_gradient_elliptical.append(lens_analysis.mst_invariant_differential(lens_result, lens_result[0]['theta_E']))\n",
    "        \n",
    "    powerlaw_theta_es.append(powerlaw_theta_e)\n",
    "    powerlaw_theta_es_elliptical.append(powerlaw_theta_e_elliptical)\n",
    "    powerlaw_gammas.append(powerlaw_gamma)\n",
    "    powerlaw_gammas_elliptical.append(powerlaw_gamma_elliptical)\n",
    "    powerlaw_qs.append(powerlaw_q)\n",
    "    powerlaw_pas.append(powerlaw_phi)\n",
    "    powerlaw_dphi_ABs.append(powerlaw_dphi_AB)\n",
    "    powerlaw_dphi_ACs.append(powerlaw_dphi_AC)\n",
    "    powerlaw_dphi_ADs.append(powerlaw_dphi_AD)\n",
    "    powerlaw_gamma_exts.append(powerlaw_gamma_ext)\n",
    "    powerlaw_psi_exts.append(powerlaw_psi_ext)\n",
    "    powerlaw_invariant_gradients.append(powerlaw_invariant_gradient)\n",
    "    powerlaw_invariant_gradients_ellipticals.append(powerlaw_invariant_gradient_elliptical)"
   ]
  },
  {
   "cell_type": "code",
   "execution_count": 11,
   "id": "streaming-remainder",
   "metadata": {},
   "outputs": [],
   "source": [
    "from getdist import plots\n",
    "from getdist import MCSamples\n",
    "import matplotlib.pyplot as plt\n",
    "import matplotlib.colors as col\n",
    "import paperfig as pf"
   ]
  },
  {
   "cell_type": "code",
   "execution_count": 12,
   "id": "destroyed-builder",
   "metadata": {},
   "outputs": [
    {
     "name": "stdout",
     "output_type": "stream",
     "text": [
      "Chain shape: (5,)\n",
      "Removed no burn in\n"
     ]
    },
    {
     "name": "stderr",
     "output_type": "stream",
     "text": [
      "/Users/ajshajib/anaconda3/lib/python3.7/site-packages/ipykernel_launcher.py:10: VisibleDeprecationWarning: Creating an ndarray from ragged nested sequences (which is a list-or-tuple of lists-or-tuples-or ndarrays with different lengths or shapes) is deprecated. If you meant to do this, you must specify 'dtype=object' when creating the ndarray.\n",
      "  # Remove the CWD from sys.path while we load stuff.\n"
     ]
    },
    {
     "ename": "ValueError",
     "evalue": "operands could not be broadcast together with shapes (100,) (0,) ",
     "output_type": "error",
     "traceback": [
      "\u001b[0;31m---------------------------------------------------------------------------\u001b[0m",
      "\u001b[0;31mValueError\u001b[0m                                Traceback (most recent call last)",
      "\u001b[0;32m/var/folders/ry/23z2z0bd7_d814t1jlq8ydlw0000gn/T/ipykernel_95358/2630615487.py\u001b[0m in \u001b[0;36m<module>\u001b[0;34m\u001b[0m\n\u001b[1;32m     39\u001b[0m                                   \u001b[0;34m'\\\\gamma_{\\\\rm{ext}}'\u001b[0m\u001b[0;34m,\u001b[0m\u001b[0;34m\u001b[0m\u001b[0;34m\u001b[0m\u001b[0m\n\u001b[1;32m     40\u001b[0m                                   \u001b[0;34m'\\\\psi_{\\\\rm{ext}} {\\\\rm\\ (deg)}'\u001b[0m\u001b[0;34m,\u001b[0m\u001b[0;34m\u001b[0m\u001b[0;34m\u001b[0m\u001b[0m\n\u001b[0;32m---> 41\u001b[0;31m                                   \u001b[0;34m'\\\\xi_{\\\\rm rad}'\u001b[0m\u001b[0;34m,\u001b[0m\u001b[0;34m\u001b[0m\u001b[0;34m\u001b[0m\u001b[0m\n\u001b[0m\u001b[1;32m     42\u001b[0m                                   \u001b[0;31m#'{\\\\rm Blinded}\\\\ \\\\Delta \\\\phi^{\\\\rm model}_{\\\\rm AB}', #'\\\\Delta \\\\phi^{\\\\rm eff}_{\\\\rm AB} / \\\\overline{\\\\Delta \\\\phi^{\\\\rm eff}_{\\\\rm AB}} - 1',\u001b[0m\u001b[0;34m\u001b[0m\u001b[0;34m\u001b[0m\u001b[0;34m\u001b[0m\u001b[0m\n\u001b[1;32m     43\u001b[0m                                   \u001b[0;31m#'{\\\\rm Blinded}\\\\ \\\\Delta \\\\phi^{\\\\rm model}_{\\\\rm AC}', #'\\\\Delta \\\\phi^{\\\\rm eff}_{\\\\rm AC} / \\\\overline{\\\\Delta \\\\phi^{\\\\rm eff}_{\\\\rm AC}} - 1',\u001b[0m\u001b[0;34m\u001b[0m\u001b[0;34m\u001b[0m\u001b[0;34m\u001b[0m\u001b[0m\n",
      "\u001b[0;32m~/anaconda3/lib/python3.7/site-packages/getdist/mcsamples.py\u001b[0m in \u001b[0;36m__init__\u001b[0;34m(self, root, jobItem, ini, settings, ranges, samples, weights, loglikes, **kwargs)\u001b[0m\n\u001b[1;32m    268\u001b[0m \u001b[0;34m\u001b[0m\u001b[0m\n\u001b[1;32m    269\u001b[0m         \u001b[0;32mif\u001b[0m \u001b[0msamples\u001b[0m \u001b[0;32mis\u001b[0m \u001b[0;32mnot\u001b[0m \u001b[0;32mNone\u001b[0m\u001b[0;34m:\u001b[0m\u001b[0;34m\u001b[0m\u001b[0;34m\u001b[0m\u001b[0m\n\u001b[0;32m--> 270\u001b[0;31m             \u001b[0mself\u001b[0m\u001b[0;34m.\u001b[0m\u001b[0mreadChains\u001b[0m\u001b[0;34m(\u001b[0m\u001b[0msamples\u001b[0m\u001b[0;34m,\u001b[0m \u001b[0mweights\u001b[0m\u001b[0;34m,\u001b[0m \u001b[0mloglikes\u001b[0m\u001b[0;34m)\u001b[0m\u001b[0;34m\u001b[0m\u001b[0;34m\u001b[0m\u001b[0m\n\u001b[0m\u001b[1;32m    271\u001b[0m \u001b[0;34m\u001b[0m\u001b[0m\n\u001b[1;32m    272\u001b[0m     \u001b[0;32mdef\u001b[0m \u001b[0mcopy\u001b[0m\u001b[0;34m(\u001b[0m\u001b[0mself\u001b[0m\u001b[0;34m,\u001b[0m \u001b[0mlabel\u001b[0m\u001b[0;34m=\u001b[0m\u001b[0;32mNone\u001b[0m\u001b[0;34m,\u001b[0m \u001b[0msettings\u001b[0m\u001b[0;34m=\u001b[0m\u001b[0;32mNone\u001b[0m\u001b[0;34m)\u001b[0m\u001b[0;34m:\u001b[0m\u001b[0;34m\u001b[0m\u001b[0;34m\u001b[0m\u001b[0m\n",
      "\u001b[0;32m~/anaconda3/lib/python3.7/site-packages/getdist/mcsamples.py\u001b[0m in \u001b[0;36mreadChains\u001b[0;34m(self, files_or_samples, weights, loglikes)\u001b[0m\n\u001b[1;32m    476\u001b[0m             \u001b[0mchains\u001b[0m\u001b[0;34m.\u001b[0m\u001b[0mprint_load_line\u001b[0m\u001b[0;34m(\u001b[0m\u001b[0;34m'Removed no burn in'\u001b[0m\u001b[0;34m)\u001b[0m\u001b[0;34m\u001b[0m\u001b[0;34m\u001b[0m\u001b[0m\n\u001b[1;32m    477\u001b[0m \u001b[0;34m\u001b[0m\u001b[0m\n\u001b[0;32m--> 478\u001b[0;31m         \u001b[0mself\u001b[0m\u001b[0;34m.\u001b[0m\u001b[0mdeleteFixedParams\u001b[0m\u001b[0;34m(\u001b[0m\u001b[0;34m)\u001b[0m\u001b[0;34m\u001b[0m\u001b[0;34m\u001b[0m\u001b[0m\n\u001b[0m\u001b[1;32m    479\u001b[0m \u001b[0;34m\u001b[0m\u001b[0m\n\u001b[1;32m    480\u001b[0m         \u001b[0;31m# Make a single array for chains\u001b[0m\u001b[0;34m\u001b[0m\u001b[0;34m\u001b[0m\u001b[0;34m\u001b[0m\u001b[0m\n",
      "\u001b[0;32m~/anaconda3/lib/python3.7/site-packages/getdist/chains.py\u001b[0m in \u001b[0;36mdeleteFixedParams\u001b[0;34m(self)\u001b[0m\n\u001b[1;32m   1493\u001b[0m         \"\"\"\n\u001b[1;32m   1494\u001b[0m         \u001b[0;32mif\u001b[0m \u001b[0mself\u001b[0m\u001b[0;34m.\u001b[0m\u001b[0msamples\u001b[0m \u001b[0;32mis\u001b[0m \u001b[0;32mnot\u001b[0m \u001b[0;32mNone\u001b[0m\u001b[0;34m:\u001b[0m\u001b[0;34m\u001b[0m\u001b[0;34m\u001b[0m\u001b[0m\n\u001b[0;32m-> 1495\u001b[0;31m             \u001b[0mfixed\u001b[0m\u001b[0;34m,\u001b[0m \u001b[0mvalues\u001b[0m \u001b[0;34m=\u001b[0m \u001b[0msuper\u001b[0m\u001b[0;34m(\u001b[0m\u001b[0;34m)\u001b[0m\u001b[0;34m.\u001b[0m\u001b[0mdeleteFixedParams\u001b[0m\u001b[0;34m(\u001b[0m\u001b[0;34m)\u001b[0m\u001b[0;34m\u001b[0m\u001b[0;34m\u001b[0m\u001b[0m\n\u001b[0m\u001b[1;32m   1496\u001b[0m             \u001b[0mself\u001b[0m\u001b[0;34m.\u001b[0m\u001b[0mchains\u001b[0m \u001b[0;34m=\u001b[0m \u001b[0;32mNone\u001b[0m\u001b[0;34m\u001b[0m\u001b[0;34m\u001b[0m\u001b[0m\n\u001b[1;32m   1497\u001b[0m         \u001b[0;32melse\u001b[0m\u001b[0;34m:\u001b[0m\u001b[0;34m\u001b[0m\u001b[0;34m\u001b[0m\u001b[0m\n",
      "\u001b[0;32m~/anaconda3/lib/python3.7/site-packages/getdist/chains.py\u001b[0m in \u001b[0;36mdeleteFixedParams\u001b[0;34m(self)\u001b[0m\n\u001b[1;32m   1008\u001b[0m         \u001b[0mvalues\u001b[0m \u001b[0;34m=\u001b[0m \u001b[0;34m[\u001b[0m\u001b[0;34m]\u001b[0m\u001b[0;34m\u001b[0m\u001b[0;34m\u001b[0m\u001b[0m\n\u001b[1;32m   1009\u001b[0m         \u001b[0;32mfor\u001b[0m \u001b[0mi\u001b[0m \u001b[0;32min\u001b[0m \u001b[0mrange\u001b[0m\u001b[0;34m(\u001b[0m\u001b[0mself\u001b[0m\u001b[0;34m.\u001b[0m\u001b[0msamples\u001b[0m\u001b[0;34m.\u001b[0m\u001b[0mshape\u001b[0m\u001b[0;34m[\u001b[0m\u001b[0;36m1\u001b[0m\u001b[0;34m]\u001b[0m\u001b[0;34m)\u001b[0m\u001b[0;34m:\u001b[0m\u001b[0;34m\u001b[0m\u001b[0;34m\u001b[0m\u001b[0m\n\u001b[0;32m-> 1010\u001b[0;31m             \u001b[0;32mif\u001b[0m \u001b[0mnp\u001b[0m\u001b[0;34m.\u001b[0m\u001b[0misclose\u001b[0m\u001b[0;34m(\u001b[0m\u001b[0mself\u001b[0m\u001b[0;34m.\u001b[0m\u001b[0msamples\u001b[0m\u001b[0;34m[\u001b[0m\u001b[0;36m0\u001b[0m\u001b[0;34m,\u001b[0m \u001b[0mi\u001b[0m\u001b[0;34m]\u001b[0m\u001b[0;34m,\u001b[0m \u001b[0mself\u001b[0m\u001b[0;34m.\u001b[0m\u001b[0msamples\u001b[0m\u001b[0;34m[\u001b[0m\u001b[0;34m-\u001b[0m\u001b[0;36m1\u001b[0m\u001b[0;34m,\u001b[0m \u001b[0mi\u001b[0m\u001b[0;34m]\u001b[0m\u001b[0;34m)\u001b[0m\u001b[0;34m:\u001b[0m\u001b[0;34m\u001b[0m\u001b[0;34m\u001b[0m\u001b[0m\n\u001b[0m\u001b[1;32m   1011\u001b[0m                 \u001b[0mmean\u001b[0m \u001b[0;34m=\u001b[0m \u001b[0mnp\u001b[0m\u001b[0;34m.\u001b[0m\u001b[0maverage\u001b[0m\u001b[0;34m(\u001b[0m\u001b[0mself\u001b[0m\u001b[0;34m.\u001b[0m\u001b[0msamples\u001b[0m\u001b[0;34m[\u001b[0m\u001b[0;34m:\u001b[0m\u001b[0;34m,\u001b[0m \u001b[0mi\u001b[0m\u001b[0;34m]\u001b[0m\u001b[0;34m)\u001b[0m\u001b[0;34m\u001b[0m\u001b[0;34m\u001b[0m\u001b[0m\n\u001b[1;32m   1012\u001b[0m                 \u001b[0;32mif\u001b[0m \u001b[0mnp\u001b[0m\u001b[0;34m.\u001b[0m\u001b[0mallclose\u001b[0m\u001b[0;34m(\u001b[0m\u001b[0mself\u001b[0m\u001b[0;34m.\u001b[0m\u001b[0msamples\u001b[0m\u001b[0;34m[\u001b[0m\u001b[0;34m:\u001b[0m\u001b[0;34m,\u001b[0m \u001b[0mi\u001b[0m\u001b[0;34m]\u001b[0m\u001b[0;34m,\u001b[0m \u001b[0mmean\u001b[0m\u001b[0;34m,\u001b[0m \u001b[0mrtol\u001b[0m\u001b[0;34m=\u001b[0m\u001b[0;36m1e-12\u001b[0m\u001b[0;34m,\u001b[0m \u001b[0matol\u001b[0m\u001b[0;34m=\u001b[0m\u001b[0;36m0\u001b[0m\u001b[0;34m)\u001b[0m\u001b[0;34m:\u001b[0m\u001b[0;34m\u001b[0m\u001b[0;34m\u001b[0m\u001b[0m\n",
      "\u001b[0;32m<__array_function__ internals>\u001b[0m in \u001b[0;36misclose\u001b[0;34m(*args, **kwargs)\u001b[0m\n",
      "\u001b[0;32m~/anaconda3/lib/python3.7/site-packages/numpy/core/numeric.py\u001b[0m in \u001b[0;36misclose\u001b[0;34m(a, b, rtol, atol, equal_nan)\u001b[0m\n\u001b[1;32m   2363\u001b[0m     \u001b[0myfin\u001b[0m \u001b[0;34m=\u001b[0m \u001b[0misfinite\u001b[0m\u001b[0;34m(\u001b[0m\u001b[0my\u001b[0m\u001b[0;34m)\u001b[0m\u001b[0;34m\u001b[0m\u001b[0;34m\u001b[0m\u001b[0m\n\u001b[1;32m   2364\u001b[0m     \u001b[0;32mif\u001b[0m \u001b[0mall\u001b[0m\u001b[0;34m(\u001b[0m\u001b[0mxfin\u001b[0m\u001b[0;34m)\u001b[0m \u001b[0;32mand\u001b[0m \u001b[0mall\u001b[0m\u001b[0;34m(\u001b[0m\u001b[0myfin\u001b[0m\u001b[0;34m)\u001b[0m\u001b[0;34m:\u001b[0m\u001b[0;34m\u001b[0m\u001b[0;34m\u001b[0m\u001b[0m\n\u001b[0;32m-> 2365\u001b[0;31m         \u001b[0;32mreturn\u001b[0m \u001b[0mwithin_tol\u001b[0m\u001b[0;34m(\u001b[0m\u001b[0mx\u001b[0m\u001b[0;34m,\u001b[0m \u001b[0my\u001b[0m\u001b[0;34m,\u001b[0m \u001b[0matol\u001b[0m\u001b[0;34m,\u001b[0m \u001b[0mrtol\u001b[0m\u001b[0;34m)\u001b[0m\u001b[0;34m\u001b[0m\u001b[0;34m\u001b[0m\u001b[0m\n\u001b[0m\u001b[1;32m   2366\u001b[0m     \u001b[0;32melse\u001b[0m\u001b[0;34m:\u001b[0m\u001b[0;34m\u001b[0m\u001b[0;34m\u001b[0m\u001b[0m\n\u001b[1;32m   2367\u001b[0m         \u001b[0mfinite\u001b[0m \u001b[0;34m=\u001b[0m \u001b[0mxfin\u001b[0m \u001b[0;34m&\u001b[0m \u001b[0myfin\u001b[0m\u001b[0;34m\u001b[0m\u001b[0;34m\u001b[0m\u001b[0m\n",
      "\u001b[0;32m~/anaconda3/lib/python3.7/site-packages/numpy/core/numeric.py\u001b[0m in \u001b[0;36mwithin_tol\u001b[0;34m(x, y, atol, rtol)\u001b[0m\n\u001b[1;32m   2344\u001b[0m     \u001b[0;32mdef\u001b[0m \u001b[0mwithin_tol\u001b[0m\u001b[0;34m(\u001b[0m\u001b[0mx\u001b[0m\u001b[0;34m,\u001b[0m \u001b[0my\u001b[0m\u001b[0;34m,\u001b[0m \u001b[0matol\u001b[0m\u001b[0;34m,\u001b[0m \u001b[0mrtol\u001b[0m\u001b[0;34m)\u001b[0m\u001b[0;34m:\u001b[0m\u001b[0;34m\u001b[0m\u001b[0;34m\u001b[0m\u001b[0m\n\u001b[1;32m   2345\u001b[0m         \u001b[0;32mwith\u001b[0m \u001b[0merrstate\u001b[0m\u001b[0;34m(\u001b[0m\u001b[0minvalid\u001b[0m\u001b[0;34m=\u001b[0m\u001b[0;34m'ignore'\u001b[0m\u001b[0;34m)\u001b[0m\u001b[0;34m:\u001b[0m\u001b[0;34m\u001b[0m\u001b[0;34m\u001b[0m\u001b[0m\n\u001b[0;32m-> 2346\u001b[0;31m             \u001b[0;32mreturn\u001b[0m \u001b[0mless_equal\u001b[0m\u001b[0;34m(\u001b[0m\u001b[0mabs\u001b[0m\u001b[0;34m(\u001b[0m\u001b[0mx\u001b[0m\u001b[0;34m-\u001b[0m\u001b[0my\u001b[0m\u001b[0;34m)\u001b[0m\u001b[0;34m,\u001b[0m \u001b[0matol\u001b[0m \u001b[0;34m+\u001b[0m \u001b[0mrtol\u001b[0m \u001b[0;34m*\u001b[0m \u001b[0mabs\u001b[0m\u001b[0;34m(\u001b[0m\u001b[0my\u001b[0m\u001b[0;34m)\u001b[0m\u001b[0;34m)\u001b[0m\u001b[0;34m\u001b[0m\u001b[0;34m\u001b[0m\u001b[0m\n\u001b[0m\u001b[1;32m   2347\u001b[0m \u001b[0;34m\u001b[0m\u001b[0m\n\u001b[1;32m   2348\u001b[0m     \u001b[0mx\u001b[0m \u001b[0;34m=\u001b[0m \u001b[0masanyarray\u001b[0m\u001b[0;34m(\u001b[0m\u001b[0ma\u001b[0m\u001b[0;34m)\u001b[0m\u001b[0;34m\u001b[0m\u001b[0;34m\u001b[0m\u001b[0m\n",
      "\u001b[0;31mValueError\u001b[0m: operands could not be broadcast together with shapes (100,) (0,) "
     ]
    }
   ],
   "source": [
    "%matplotlib inline\n",
    "\n",
    "pl_samples_list = []\n",
    "\n",
    "for k in range(5):\n",
    "    pl_samples = np.array([powerlaw_theta_es_elliptical[k],\n",
    "                           powerlaw_gammas[k],\n",
    "                           powerlaw_gamma_exts[k],\n",
    "                           powerlaw_psi_exts[k],\n",
    "                           powerlaw_invariant_gradients[k],\n",
    "                           #powerlaw_dphi_ABs[k],\n",
    "                           #powerlaw_dphi_ACs[k],\n",
    "                           #powerlaw_dphi_ADs[k],\n",
    "                           #powerlaw_Ds_Ddss[k][np.random.randint(0, high=len(powerlaw_Ds_Ddss[k]), size=len(powerlaw_theta_es[k]))]\n",
    "                          ])\n",
    "#     if k == 0:\n",
    "#         gamma = np.mean(pl_samples[1])\n",
    "#         mean_dphi_AB = np.mean(pl_samples[5])\n",
    "#         mean_dphi_AC = np.mean(pl_samples[6])\n",
    "#         mean_dphi_AD = np.mean(pl_samples[7])\n",
    "#         #mean_DsDds = np.mean(pl_samples[7])\n",
    "\n",
    "#     pl_samples[1] = pl_samples[1]/gamma - 1.\n",
    "#     pl_samples[5]  = pl_samples[5]/mean_dphi_AB - 1.\n",
    "#     pl_samples[6]  = pl_samples[6]/mean_dphi_AC - 1.\n",
    "#     pl_samples[7]  = pl_samples[7]/mean_dphi_AD - 1.\n",
    "    #pl_samples[7]  = pl_samples[7]/mean_DsDds - 1.\n",
    "\n",
    "    print('Chain shape:', np.array(pl_samples).shape)#, np.array(comp_samples).shape)\n",
    "    \n",
    "    pl_samples_list.append(MCSamples(samples=np.array(pl_samples).T, \n",
    "                          names=['theta_E', \n",
    "                                 'gamma', \n",
    "                                 'gamma_ext', 'psi_ext', 'invariant_grad',\n",
    "                                 #'dphi_AB', 'dphi_AC', 'dphi_AD', #'DsDds'\n",
    "                                ], \n",
    "                          labels=['{\\\\theta}_{\\\\rm{E}}', \n",
    "                                  '\\\\gamma', #'{\\\\gamma}/\\\\overline{{\\\\gamma}} - 1',\n",
    "                                  '\\\\gamma_{\\\\rm{ext}}', \n",
    "                                  '\\\\psi_{\\\\rm{ext}} {\\\\rm\\ (deg)}',\n",
    "                                  '\\\\xi_{\\\\rm rad}',\n",
    "                                  #'{\\\\rm Blinded}\\\\ \\\\Delta \\\\phi^{\\\\rm model}_{\\\\rm AB}', #'\\\\Delta \\\\phi^{\\\\rm eff}_{\\\\rm AB} / \\\\overline{\\\\Delta \\\\phi^{\\\\rm eff}_{\\\\rm AB}} - 1',\n",
    "                                  #'{\\\\rm Blinded}\\\\ \\\\Delta \\\\phi^{\\\\rm model}_{\\\\rm AC}', #'\\\\Delta \\\\phi^{\\\\rm eff}_{\\\\rm AC} / \\\\overline{\\\\Delta \\\\phi^{\\\\rm eff}_{\\\\rm AC}} - 1',\n",
    "                                  #'{\\\\rm Blinded}\\\\ \\\\Delta \\\\phi^{\\\\rm model}_{\\\\rm AD}', #'\\\\Delta \\\\phi^{\\\\rm eff}_{\\\\rm AD} / \\\\overline{\\\\Delta \\\\phi^{\\\\rm eff}_{\\\\rm AD}} - 1',\n",
    "                                  #'{\\\\rm blinded}\\\\ D_{\\\\rm s}/D_{\\\\rm ds}'\n",
    "                                 ],\n",
    "                      ))\n",
    "    pl_samples_list[-1].updateSettings({'smooth_scale_2D': 0.7})\n",
    "    \n",
    "    \n",
    "pf.set_fontscale(2.)\n",
    "\n",
    "g = plots.getSubplotPlotter(subplot_size=2.2)\n",
    "g.settings.lw_contour = 1.\n",
    "g.settings.alpha_factor_contour_lines = 2.\n",
    "g.settings.solid_contour_palefactor = 0.5\n",
    "g.settings.axes_fontsize = 16\n",
    "g.settings.lab_fontsize = 18\n",
    "g.settings.legend_fontsize = 18\n",
    "\n",
    "g.triangle_plot(pl_samples_list,\n",
    "                contour_lws=[1.]*12, \n",
    "                contour_ls=['-']*12, #+ ['--']*12,\n",
    "                legend_labels=['lenstronomy baseline', 'Glee PSFs', 'lenstronomy PSFs UVIS', 'Glee PSFs UVIS',\n",
    "                               'lenstronomy IR supersampled', 'lenstronomy IR supersampled'\n",
    "                              ],\n",
    "                \n",
    "               )\n",
    "\n",
    "# '2038_run145_0_0_0_0_0_shortened',\n",
    "#     '2038_run221_0_0_0_0_0',\n",
    "#     '2038_run225_0_0_0_0_0',\n",
    "#     '2038_run227_0_0_0_0_0',\n",
    "#     '2038_run231_0_0_0_0_0',\n",
    "#     #'2038_run232_0_0_0_0_0',\n",
    "#     '2038_run238_0_0_0_0_0',\n",
    "    \n",
    "#g.fig.tight_layout()"
   ]
  },
  {
   "cell_type": "markdown",
   "id": "hybrid-salvation",
   "metadata": {},
   "source": [
    "## Compare with Glee"
   ]
  },
  {
   "cell_type": "code",
   "execution_count": 13,
   "id": "commercial-polyester",
   "metadata": {},
   "outputs": [],
   "source": [
    "# from https://stackoverflow.com/questions/21844024/weighted-percentile-using-numpy\n",
    "def weighted_quantile(values, quantiles, sample_weight=None, \n",
    "                      values_sorted=False, old_style=False):\n",
    "    \"\"\" Very close to numpy.percentile, but supports weights.\n",
    "    NOTE: quantiles should be in [0, 1]!\n",
    "    :param values: numpy.array with data\n",
    "    :param quantiles: array-like with many quantiles needed\n",
    "    :param sample_weight: array-like of the same length as `array`\n",
    "    :param values_sorted: bool, if True, then will avoid sorting of\n",
    "        initial array\n",
    "    :param old_style: if True, will correct output to be consistent\n",
    "        with numpy.percentile.\n",
    "    :return: numpy.array with computed quantiles.\n",
    "    \"\"\"\n",
    "    values = np.array(values)\n",
    "    quantiles = np.array(quantiles)\n",
    "    if sample_weight is None:\n",
    "        sample_weight = np.ones(len(values))\n",
    "    sample_weight = np.array(sample_weight)\n",
    "    assert np.all(quantiles >= 0) and np.all(quantiles <= 1), \\\n",
    "        'quantiles should be in [0, 1]'\n",
    "\n",
    "    if not values_sorted:\n",
    "        sorter = np.argsort(values)\n",
    "        values = values[sorter]\n",
    "        sample_weight = sample_weight[sorter]\n",
    "\n",
    "    weighted_quantiles = np.cumsum(sample_weight) - 0.5 * sample_weight\n",
    "    if old_style:\n",
    "        # To be convenient with numpy.percentile\n",
    "        weighted_quantiles -= weighted_quantiles[0]\n",
    "        weighted_quantiles /= weighted_quantiles[-1]\n",
    "    else:\n",
    "        weighted_quantiles /= np.sum(sample_weight)\n",
    "    return np.interp(quantiles, weighted_quantiles, values)"
   ]
  },
  {
   "cell_type": "code",
   "execution_count": 15,
   "id": "forty-insert",
   "metadata": {},
   "outputs": [],
   "source": [
    "output_files = ['../../glee_outputs/2038_pl_fid_3band_glee.csv',\n",
    "                '../../glee_outputs/2038_pl_fid_3band_lenstronomypsf.csv',\n",
    "                '../../glee_outputs/2038_pl_fid_3band_lenstronomypsf_psferrmap.csv',\n",
    "                '../../glee_outputs/2038_pl_fid_uvis_lenstronomypsf.csv',\n",
    "                '../../glee_outputs/2038_pl_fid_3band_lenstronomypsf_psferrmap.csv'\n",
    "               ]\n",
    "\n",
    "glee_fiducial_gamma = None\n",
    "glee_lenstronomy_psf_gamma = None\n",
    "glee_lenstronomy_psf_error_map_gamma = None\n",
    "glee_fiducial_uvis_gamma = None\n",
    "glee_lenstronomy_hires_uvis_gamma = None\n",
    "\n",
    "glee_gammas = [glee_fiducial_gamma, glee_lenstronomy_psf_gamma, \n",
    "               glee_lenstronomy_psf_error_map_gamma, glee_fiducial_uvis_gamma,\n",
    "               glee_lenstronomy_hires_uvis_gamma\n",
    "              ]\n",
    "\n",
    "for i, output_file in enumerate(output_files):\n",
    "    glee_params = np.genfromtxt(output_file, skip_header=1, delimiter=',')\n",
    "    glee_gammas[i] = glee_params[np.random.choice(\n",
    "                    np.arange(glee_params.shape[0]), size=1000, p=glee_params[:, 0]/np.sum(glee_params[:, 0])\n",
    "                ), 4]\n"
   ]
  },
  {
   "cell_type": "code",
   "execution_count": 16,
   "id": "political-macintosh",
   "metadata": {},
   "outputs": [
    {
     "data": {
      "image/png": "[encoded data removed]",
      "text/plain": [
       "<Figure size 432x288 with 1 Axes>"
      ]
     },
     "metadata": {
      "needs_background": "light"
     },
     "output_type": "display_data"
    }
   ],
   "source": [
    "import seaborn as sns\n",
    "\n",
    "for glee_gamma in glee_gammas:\n",
    "    #sns.kdeplot(glee_fiducial[:, 4])\n",
    "    sns.kdeplot(glee_gamma)"
   ]
  },
  {
   "cell_type": "code",
   "execution_count": 17,
   "id": "alone-earth",
   "metadata": {},
   "outputs": [
    {
     "data": {
      "text/plain": [
       "['../../glee_outputs/2038_pl_fid_3band_glee.csv',\n",
       " '../../glee_outputs/2038_pl_fid_3band_lenstronomypsf.csv',\n",
       " '../../glee_outputs/2038_pl_fid_3band_lenstronomypsf_psferrmap.csv',\n",
       " '../../glee_outputs/2038_pl_fid_uvis_lenstronomypsf.csv',\n",
       " '../../glee_outputs/2038_pl_fid_3band_lenstronomypsf_psferrmap.csv']"
      ]
     },
     "execution_count": 17,
     "metadata": {},
     "output_type": "execute_result"
    }
   ],
   "source": [
    "#     '2038_run145_0_0_0_0_0_shortened',\n",
    "#     '2038_run221_0_0_0_0_0',\n",
    "#     '2038_run225_0_0_0_0_0',\n",
    "#     '2038_run227_0_0_0_0_0',\n",
    "#     '2038_run231_0_0_0_0_0',\n",
    "#     '2038_run238_0_0_0_0_0',\n",
    "#     '2038_run239_0_0_0_0_0',\n",
    "    \n",
    "output_files"
   ]
  },
  {
   "cell_type": "code",
   "execution_count": 18,
   "id": "pending-advocate",
   "metadata": {},
   "outputs": [],
   "source": [
    "import matplotlib as mpl\n",
    "mpl.rcParams['text.usetex'] = True\n",
    "#mpl.rcParams['text.latex.preamble'] = [r'\\usepackage{amsmath}']\n"
   ]
  },
  {
   "cell_type": "code",
   "execution_count": 19,
   "id": "associate-housing",
   "metadata": {},
   "outputs": [],
   "source": [
    "def gs(arr1, arr2):\n",
    "    #m1, s1 = np.mean(arr1), np.std(arr1)\n",
    "    #m2, s2 = np.mean(arr2), np.std(arr2)\n",
    "    l1, m1, h1 = np.percentile(arr1, q=[16, 50, 84])\n",
    "    l2, m2, h2 = np.percentile(arr2, q=[16, 50, 84])\n",
    "    \n",
    "    s1 = (h1 - l1)/2.\n",
    "    s2 = (h2 - l2)/2.\n",
    "    \n",
    "    return np.abs(m1 - m2) / np.sqrt(s1**2 + s2**2), np.abs(m1 - m2) / max(m1, m2) * 100"
   ]
  },
  {
   "cell_type": "code",
   "execution_count": 22,
   "id": "referenced-setting",
   "metadata": {},
   "outputs": [
    {
     "name": "stdout",
     "output_type": "stream",
     "text": [
      "(2.352812658460554, 1.383218170791478)\n",
      "(1.0470975781739358, 0.7760824759430016)\n",
      "(2.1390409343513888, 1.3534660569776191)\n",
      "(0.9290274200514921, 0.6138770304652257)\n",
      "(4.500802275938437, 2.8479927087424244)\n",
      "(0.5468178100534677, 0.7083187850491186)\n",
      "(0.8338024892382447, 0.5302929727335131)\n",
      "(2.141498546330845, 1.3391653183035759)\n",
      "(3.1862766032369856, 2.1505863040280735)\n",
      "(4.428832046105367, 2.946282673649635)\n"
     ]
    },
    {
     "data": {
      "image/png": "[encoded data removed]",
      "text/plain": [
       "<Figure size 478.207x956.415 with 4 Axes>"
      ]
     },
     "metadata": {},
     "output_type": "display_data"
    }
   ],
   "source": [
    "fig = plt.figure(figsize=pf.get_fig_size(width=pf.mnras_colwidth*2, height_ratio=2))\n",
    "\n",
    "pf.set_fontscale(2)\n",
    "\n",
    "ax2 = fig.add_subplot(411)\n",
    "\n",
    "sns.kdeplot(powerlaw_gammas_elliptical[0], ax=ax2, color=pf.cb_green, ls='--', label=r'$\\textsc{lenstronomy}$ fiducial')\n",
    "sns.kdeplot(glee_gammas[0], ax=ax2, color=pf.cb_purple, ls='--', label=r'$\\textsc{Glee}$ fiducial')\n",
    "\n",
    "print(gs(powerlaw_gammas_elliptical[0], glee_gammas[1]))\n",
    "print(gs(glee_gammas[0], powerlaw_gammas_elliptical[1]))\n",
    "\n",
    "sns.kdeplot(powerlaw_gammas_elliptical[1], ax=ax2, color=pf.cb_green, ls='-', label=r'$\\textsc{lenstronomy}$ test')\n",
    "sns.kdeplot(glee_gammas[1], ax=ax2, color=pf.cb_purple, ls='-', label=r'$\\textsc{Glee}$ test')\n",
    "\n",
    "ax2.set_xlim(2.15, 2.4)\n",
    "ax2.text(0.02, 0.85, 'Interchanged PSF', transform=ax2.transAxes)\n",
    "ax2.legend(loc='upper right')\n",
    "\n",
    "ax3 = fig.add_subplot(412, sharex=ax2)\n",
    "\n",
    "sns.kdeplot(powerlaw_gammas_elliptical[0], ax=ax3, color=pf.cb_green, ls='--')\n",
    "sns.kdeplot(glee_gammas[0], ax=ax3, color=pf.cb_purple, ls='--')\n",
    "\n",
    "print(gs(powerlaw_gammas_elliptical[0], glee_gammas[2]))\n",
    "print(gs(glee_gammas[0], powerlaw_gammas_elliptical[7]))\n",
    "\n",
    "sns.kdeplot(powerlaw_gammas_elliptical[7], ax=ax3, color=pf.cb_green, ls='-')\n",
    "sns.kdeplot(glee_gammas[2], ax=ax3, color=pf.cb_purple, ls='-')\n",
    "\n",
    "ax3.set_xlim(2.15, 2.4)\n",
    "ax3.text(0.02, 0.85, 'Interchanged both PSF and uncertainty map', transform=ax3.transAxes)\n",
    "\n",
    "\n",
    "ax1 = fig.add_subplot(413, sharex=ax2)\n",
    "\n",
    "sns.kdeplot(powerlaw_gammas_elliptical[0], ax=ax1, color=pf.cb_green, ls='--')\n",
    "sns.kdeplot(glee_gammas[0], ax=ax1, color=pf.cb_purple, ls='--')\n",
    "\n",
    "\n",
    "print(gs(powerlaw_gammas_elliptical[0], glee_gammas[3]))\n",
    "print(gs(glee_gammas[0], powerlaw_gammas_elliptical[2]))\n",
    "\n",
    "\n",
    "sns.kdeplot(powerlaw_gammas_elliptical[2], ax=ax1, color=pf.cb_green, ls='-')\n",
    "sns.kdeplot(glee_gammas[3], ax=ax1, color=pf.cb_purple, ls='-')\n",
    "\n",
    "ax1.set_xlim(2.15, 2.4)\n",
    "#ax1.legend()\n",
    "ax1.text(0.02, 0.85, 'Interchanged PSF, UVIS only constraints', transform=ax1.transAxes)\n",
    "\n",
    "ax4 = fig.add_subplot(414, sharex=ax2)\n",
    "\n",
    "sns.kdeplot(powerlaw_gammas_elliptical[0], ax=ax4, color=pf.cb_green, ls='--')\n",
    "sns.kdeplot(glee_gammas[0], ax=ax4, color=pf.cb_purple, ls='--')\n",
    "\n",
    "#print(gs(powerlaw_gammas_elliptical[0], glee_gammas[2]))\n",
    "print(gs(glee_gammas[4], powerlaw_gammas_elliptical[4]))\n",
    "print(gs(glee_gammas[4], powerlaw_gammas_elliptical[0]))\n",
    "print(gs(glee_gammas[0], powerlaw_gammas_elliptical[4]))\n",
    "\n",
    "print(gs(glee_gammas[0], powerlaw_gammas_elliptical[0]))\n",
    "\n",
    "sns.kdeplot(powerlaw_gammas_elliptical[4], ax=ax4, color=pf.cb_green, ls='-')\n",
    "#sns.kdeplot(powerlaw_gammas_elliptical[5], ax=ax4, color=pf.cb_green, ls='-')\n",
    "sns.kdeplot(glee_gammas[4], ax=ax4, color=pf.cb_purple, ls='-')\n",
    "\n",
    "ax4.set_xlim(2.15, 2.4)\n",
    "#ax1.legend()\n",
    "ax4.text(0.02, 0.85, r'$\\textsc{lenstronomy}$ supersampled IR PSF', transform=ax4.transAxes)\n",
    "ax4.set_xlabel(r'$\\gamma$')\n",
    "\n",
    "for i, ax in enumerate([ax1, ax2, ax3, ax4]):\n",
    "    ax.set_xlim(2.15, 2.45)\n",
    "    #ax.set_ylabel('')\n",
    "    ax.set_yticks([])\n",
    "    \n",
    "#     if i != 3:\n",
    "#         ax.set_xticklabels([])\n",
    "    \n",
    "# plt.subplots_adjust(wspace=0, hspace=0)\n",
    "\n",
    "fig.savefig('/Users/ajshajib/Dropbox/Papers_Proposals/2038_model/figures/psf_test_comparison.pdf', bbox_inches='tight')"
   ]
  },
  {
   "cell_type": "code",
   "execution_count": null,
   "id": "prime-think",
   "metadata": {},
   "outputs": [],
   "source": []
  }
 ],
 "metadata": {
  "kernelspec": {
   "display_name": "Python 3 (ipykernel)",
   "language": "python",
   "name": "python3"
  },
  "language_info": {
   "codemirror_mode": {
    "name": "ipython",
    "version": 3
   },
   "file_extension": ".py",
   "mimetype": "text/x-python",
   "name": "python",
   "nbconvert_exporter": "python",
   "pygments_lexer": "ipython3",
   "version": "3.7.3"
  }
 },
 "nbformat": 4,
 "nbformat_minor": 5
}
