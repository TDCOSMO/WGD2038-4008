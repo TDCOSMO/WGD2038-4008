{
 "cells": [
  {
   "cell_type": "code",
   "execution_count": 1,
   "id": "charming-assembly",
   "metadata": {},
   "outputs": [],
   "source": [
    "N_sample = 100 # number of samples to keep from each chain"
   ]
  },
  {
   "cell_type": "markdown",
   "id": "auburn-craft",
   "metadata": {},
   "source": [
    "## imports"
   ]
  },
  {
   "cell_type": "code",
   "execution_count": 2,
   "id": "preceding-survival",
   "metadata": {},
   "outputs": [
    {
     "data": {
      "text/plain": [
       "'1.9.0'"
      ]
     },
     "execution_count": 2,
     "metadata": {},
     "output_type": "execute_result"
    }
   ],
   "source": [
    "import lenstronomy\n",
    "\n",
    "lenstronomy.__version__"
   ]
  },
  {
   "cell_type": "code",
   "execution_count": 3,
   "id": "headed-species",
   "metadata": {},
   "outputs": [
    {
     "name": "stdout",
     "output_type": "stream",
     "text": [
      "Base directory path: /Users/ajshajib/Research/time_delay_cosmography/J2038/WGD2038-4008/lenstronomy_modeling\n"
     ]
    }
   ],
   "source": [
    "import numpy as np\n",
    "import os\n",
    "import pickle\n",
    "import copy\n",
    "import time\n",
    "import h5py\n",
    "from pprint import pprint\n",
    "import joblib\n",
    "import gc\n",
    "\n",
    "from lenstronomy.Util import util\n",
    "from lenstronomy.Util import param_util\n",
    "from lenstronomy.Workflow.fitting_sequence import FittingSequence\n",
    "from lenstronomy.Plots.model_plot import ModelPlot\n",
    "from lenstronomy.Plots import chain_plot\n",
    "from lenstronomy.Sampling.parameters import Param\n",
    "#from lenstronomy.Analysis.lens_analysis import LensAnalysis\n",
    "from lenstronomy.Util import mask_util\n",
    "from lenstronomy.LensModel.lens_model import LensModel\n",
    "from lenstronomy.Data.coord_transforms import Coordinates\n",
    "from lenstronomy.Util.util import array2image\n",
    "\n",
    "import paperfig as pf\n",
    "pf.set_fontscale(2.)\n",
    "\n",
    "cwd = os.getcwd()\n",
    "base_path, _ = os.path.split(cwd)\n",
    "print('Base directory path:', base_path)"
   ]
  },
  {
   "cell_type": "code",
   "execution_count": 4,
   "id": "favorite-scoop",
   "metadata": {},
   "outputs": [
    {
     "data": {
      "text/plain": [
       "20"
      ]
     },
     "execution_count": 4,
     "metadata": {},
     "output_type": "execute_result"
    }
   ],
   "source": [
    "gc.collect()"
   ]
  },
  {
   "cell_type": "markdown",
   "id": "reserved-belly",
   "metadata": {},
   "source": [
    "## functions"
   ]
  },
  {
   "cell_type": "code",
   "execution_count": 36,
   "id": "broadband-object",
   "metadata": {},
   "outputs": [],
   "source": [
    "savefig = True\n",
    "\n",
    "import matplotlib.pyplot as plt\n",
    "import seaborn as sns\n",
    "import paperfig as pf\n",
    "\n",
    "pf.set_fontscale(2.)\n"
   ]
  },
  {
   "cell_type": "code",
   "execution_count": 6,
   "id": "honey-holocaust",
   "metadata": {},
   "outputs": [],
   "source": [
    "import sys\n",
    "sys.path.insert(0, './process_output')\n",
    "\n",
    "# load necessary functions for BIC computation and unpickling composite model outputs\n",
    "from output_class import *"
   ]
  },
  {
   "cell_type": "markdown",
   "id": "stretch-status",
   "metadata": {},
   "source": [
    "# load output files"
   ]
  },
  {
   "cell_type": "markdown",
   "id": "interior-safety",
   "metadata": {},
   "source": [
    "## load power-law model chains and process"
   ]
  },
  {
   "cell_type": "code",
   "execution_count": 7,
   "id": "bacterial-consideration",
   "metadata": {},
   "outputs": [],
   "source": [
    "powerlaw_files = [\n",
    "    '2038_run145_0_0_0_0_0_shortened',\n",
    "    '2038_run145_0_0_1_0_0_shortened',\n",
    "    '2038_run145_0_0_2_0_0_shortened',\n",
    "    '2038_run145_0_1_0_0_0_shortened',\n",
    "    '2038_run145_0_1_1_0_0_shortened',\n",
    "    '2038_run145_0_1_2_0_0_shortened',\n",
    "    \n",
    "    '2038_run146_0_0_0_0_0_shortened',\n",
    "    '2038_run146_0_0_1_0_0_shortened',\n",
    "    '2038_run146_0_0_2_0_0_shortened',\n",
    "    '2038_run146_0_1_0_0_0_shortened',\n",
    "    '2038_run146_0_1_1_0_0_shortened',\n",
    "    '2038_run146_0_1_2_0_0_shortened',\n",
    "]"
   ]
  },
  {
   "cell_type": "code",
   "execution_count": 8,
   "id": "empty-holocaust",
   "metadata": {},
   "outputs": [],
   "source": [
    "powerlaw_bics = []\n",
    "powerlaw_param_arrays = []\n",
    "powerlaw_num_param_arrays = []\n",
    "powerlaw_kwargs_models = []\n",
    "powerlaw_kwargs_constraints = []\n",
    "powerlaw_param_classes = []\n",
    "powerlaw_lens_models = []\n",
    "powerlaw_kwargs_likelihoods = []\n",
    "powerlaw_multi_band_list = []\n",
    "\n",
    "for job_name_out in powerlaw_files:\n",
    "    output_temp = os.path.join(base_path, 'temp', job_name_out +'_out.txt')\n",
    "\n",
    "    f = open(output_temp, 'rb')\n",
    "    [input_, output_] = joblib.load(f)\n",
    "    f.close()\n",
    "    fitting_kwargs_list, kwargs_joint, kwargs_model, kwargs_constraints, kwargs_likelihood, kwargs_params, init_samples = input_\n",
    "  \n",
    "    kwargs_result, multi_band_list_out, fit_output, _ = output_\n",
    "    multi_band_list = kwargs_joint['multi_band_list']\n",
    "\n",
    "    samples_mcmc = fit_output[-1][1] #[np.random.randint(0, high=fit_output[-1][1].shape[0], size=N_sample)]\n",
    "    param_mcmc = fit_output[-1][2]\n",
    "    \n",
    "    param_class = Param(kwargs_model,\n",
    "                        kwargs_params['lens_model'][2], \n",
    "                        kwargs_params['source_model'][2],\n",
    "                        kwargs_params['lens_light_model'][2],\n",
    "                        kwargs_params['point_source_model'][2],\n",
    "                        kwargs_lens_init=kwargs_params['lens_model'][0], #kwargs_result['kwargs_lens'],\n",
    "                        **kwargs_constraints\n",
    "                       )\n",
    "    \n",
    "    lens_model = LensModel(lens_model_list=kwargs_model['lens_model_list'],\n",
    "                           z_lens=0.230, z_source=0.777,\n",
    "                           multi_plane=False, #True, \n",
    "                          )\n",
    "    \n",
    "    num_data = np.sum([np.sum(m) for m in kwargs_likelihood['image_likelihood_mask_list']])\n",
    "    num_param = param_class.num_param()[0] + param_class.num_param_linear()\n",
    "    max_logL = np.max(fit_output[-1][-1])\n",
    "    \n",
    "    bic = compute_BIC(num_data, num_param, max_logL)\n",
    "    \n",
    "    powerlaw_bics.append(bic)\n",
    "    powerlaw_param_arrays.append(np.copy(samples_mcmc))\n",
    "    powerlaw_num_param_arrays.append(len(samples_mcmc))\n",
    "    powerlaw_kwargs_models.append(kwargs_model)\n",
    "    powerlaw_kwargs_constraints.append(kwargs_constraints)\n",
    "    powerlaw_param_classes.append(param_class)\n",
    "    powerlaw_lens_models.append(lens_model)\n",
    "    powerlaw_kwargs_likelihoods.append(kwargs_likelihood)\n",
    "    powerlaw_multi_band_list.append(multi_band_list_out)\n",
    "    \n",
    "    gc.collect()\n",
    "    #break"
   ]
  },
  {
   "cell_type": "code",
   "execution_count": 9,
   "id": "seasonal-credits",
   "metadata": {},
   "outputs": [
    {
     "data": {
      "text/plain": [
       "[27438.189734635733,\n",
       " 26947.436735282005,\n",
       " 26755.611915180907,\n",
       " 29505.79676475082,\n",
       " 29498.64039021145,\n",
       " 29078.07576684941,\n",
       " 27318.50045395967,\n",
       " 26921.136693655084,\n",
       " 26711.996990517746,\n",
       " 29490.90135651526,\n",
       " 29062.823276993124,\n",
       " 28841.168230994306]"
      ]
     },
     "execution_count": 9,
     "metadata": {},
     "output_type": "execute_result"
    }
   ],
   "source": [
    "powerlaw_bics"
   ]
  },
  {
   "cell_type": "code",
   "execution_count": 10,
   "id": "twelve-smart",
   "metadata": {
    "scrolled": false
   },
   "outputs": [
    {
     "name": "stdout",
     "output_type": "stream",
     "text": [
      "non-linear: 51, linear: 208\n",
      "non-linear: 51, linear: 243\n",
      "non-linear: 51, linear: 281\n",
      "non-linear: 51, linear: 208\n",
      "non-linear: 51, linear: 243\n",
      "non-linear: 51, linear: 281\n",
      "non-linear: 51, linear: 208\n",
      "non-linear: 51, linear: 243\n",
      "non-linear: 51, linear: 281\n",
      "non-linear: 51, linear: 208\n",
      "non-linear: 51, linear: 243\n",
      "non-linear: 51, linear: 281\n"
     ]
    }
   ],
   "source": [
    "# power-law parameter numbers\n",
    "for param_class in powerlaw_param_classes:\n",
    "    print('non-linear: {}, linear: {}'.format(param_class.num_param()[0], param_class.num_param_linear()))"
   ]
  },
  {
   "cell_type": "code",
   "execution_count": 11,
   "id": "shaped-skating",
   "metadata": {},
   "outputs": [],
   "source": [
    "from lenstronomy.Analysis.td_cosmography import TDCosmography\n",
    "from lenstronomy.Analysis.lens_profile import LensProfileAnalysis\n",
    "from tqdm import tnrange"
   ]
  },
  {
   "cell_type": "code",
   "execution_count": 12,
   "id": "genetic-ribbon",
   "metadata": {},
   "outputs": [
    {
     "name": "stdout",
     "output_type": "stream",
     "text": [
      "[2.86574263e-01 7.28246686e-01 9.49597661e-01 5.38642055e-05\n",
      " 4.06432244e-05 5.12655579e-04 3.73482639e-01 7.58460617e-01\n",
      " 1.00000000e+00 5.40094135e-05 5.88064357e-04 1.84076448e-03]\n"
     ]
    }
   ],
   "source": [
    "powerlaw_del_bics = np.max(powerlaw_bics) - np.array(powerlaw_bics)\n",
    "powerlaw_weights = get_relative_weights(powerlaw_bics, 99.91711718678918, take_std=False, \n",
    "                                        sigma_model=325.16992966107614) #np.exp(powerlaw_del_logZs) / np.sum(np.exp(powerlaw_del_logZs))\n",
    "#powerlaw_weights = [1.] * len(powerlaw_files)\n",
    "\n",
    "print(powerlaw_weights)"
   ]
  },
  {
   "cell_type": "code",
   "execution_count": 53,
   "id": "seventh-interstate",
   "metadata": {},
   "outputs": [
    {
     "name": "stderr",
     "output_type": "stream",
     "text": [
      "/Users/ajshajib/anaconda3/lib/python3.7/site-packages/ipykernel_launcher.py:11: TqdmDeprecationWarning: Please use `tqdm.notebook.trange` instead of `tqdm.tnrange`\n",
      "  # This is added back by InteractiveShellApp.init_path()\n"
     ]
    },
    {
     "data": {
      "application/vnd.jupyter.widget-view+json": {
       "model_id": "9df26c005eab4b24aa37c55373cd4ece",
       "version_major": 2,
       "version_minor": 0
      },
      "text/plain": [
       "Jobs::   0%|          | 0/12 [00:00<?, ?it/s]"
      ]
     },
     "metadata": {},
     "output_type": "display_data"
    },
    {
     "name": "stderr",
     "output_type": "stream",
     "text": [
      "/Users/ajshajib/anaconda3/lib/python3.7/site-packages/ipykernel_launcher.py:29: TqdmDeprecationWarning: Please use `tqdm.notebook.trange` instead of `tqdm.tnrange`\n"
     ]
    },
    {
     "data": {
      "application/vnd.jupyter.widget-view+json": {
       "model_id": "505b8544671e418481072b6a6dd74f3a",
       "version_major": 2,
       "version_minor": 0
      },
      "text/plain": [
       "Sample from job 0::   0%|          | 0/28 [00:00<?, ?it/s]"
      ]
     },
     "metadata": {},
     "output_type": "display_data"
    },
    {
     "data": {
      "application/vnd.jupyter.widget-view+json": {
       "model_id": "810c0f7cd6de421fa86624550df7a7e1",
       "version_major": 2,
       "version_minor": 0
      },
      "text/plain": [
       "Sample from job 1::   0%|          | 0/72 [00:00<?, ?it/s]"
      ]
     },
     "metadata": {},
     "output_type": "display_data"
    },
    {
     "data": {
      "application/vnd.jupyter.widget-view+json": {
       "model_id": "5243d1635c7d4204a9ef2532280c93f9",
       "version_major": 2,
       "version_minor": 0
      },
      "text/plain": [
       "Sample from job 2::   0%|          | 0/94 [00:00<?, ?it/s]"
      ]
     },
     "metadata": {},
     "output_type": "display_data"
    },
    {
     "data": {
      "application/vnd.jupyter.widget-view+json": {
       "model_id": "180db576b48a453b8e16b6535570b52e",
       "version_major": 2,
       "version_minor": 0
      },
      "text/plain": [
       "Sample from job 3:: 0it [00:00, ?it/s]"
      ]
     },
     "metadata": {},
     "output_type": "display_data"
    },
    {
     "data": {
      "application/vnd.jupyter.widget-view+json": {
       "model_id": "5ee295b15c0b44ceae8e96b3dc39845e",
       "version_major": 2,
       "version_minor": 0
      },
      "text/plain": [
       "Sample from job 4:: 0it [00:00, ?it/s]"
      ]
     },
     "metadata": {},
     "output_type": "display_data"
    },
    {
     "data": {
      "application/vnd.jupyter.widget-view+json": {
       "model_id": "15d404c3e6b14d21bb096b2da2a0d947",
       "version_major": 2,
       "version_minor": 0
      },
      "text/plain": [
       "Sample from job 5:: 0it [00:00, ?it/s]"
      ]
     },
     "metadata": {},
     "output_type": "display_data"
    },
    {
     "data": {
      "application/vnd.jupyter.widget-view+json": {
       "model_id": "d9478500f5d34cee81a6a54a3ce87282",
       "version_major": 2,
       "version_minor": 0
      },
      "text/plain": [
       "Sample from job 6::   0%|          | 0/37 [00:00<?, ?it/s]"
      ]
     },
     "metadata": {},
     "output_type": "display_data"
    },
    {
     "data": {
      "application/vnd.jupyter.widget-view+json": {
       "model_id": "0ae4b2cefc874ccfbdaf556c17a7912e",
       "version_major": 2,
       "version_minor": 0
      },
      "text/plain": [
       "Sample from job 7::   0%|          | 0/75 [00:00<?, ?it/s]"
      ]
     },
     "metadata": {},
     "output_type": "display_data"
    },
    {
     "data": {
      "application/vnd.jupyter.widget-view+json": {
       "model_id": "30499192b7c041c5b4481bdcc98276aa",
       "version_major": 2,
       "version_minor": 0
      },
      "text/plain": [
       "Sample from job 8::   0%|          | 0/100 [00:00<?, ?it/s]"
      ]
     },
     "metadata": {},
     "output_type": "display_data"
    },
    {
     "data": {
      "application/vnd.jupyter.widget-view+json": {
       "model_id": "97dd90aa774e4c5499a634b8ca88bcf4",
       "version_major": 2,
       "version_minor": 0
      },
      "text/plain": [
       "Sample from job 9:: 0it [00:00, ?it/s]"
      ]
     },
     "metadata": {},
     "output_type": "display_data"
    },
    {
     "data": {
      "application/vnd.jupyter.widget-view+json": {
       "model_id": "7eb82336ea84489dad736c3167ab7820",
       "version_major": 2,
       "version_minor": 0
      },
      "text/plain": [
       "Sample from job 10:: 0it [00:00, ?it/s]"
      ]
     },
     "metadata": {},
     "output_type": "display_data"
    },
    {
     "data": {
      "application/vnd.jupyter.widget-view+json": {
       "model_id": "bfa0dbe3734149a398e79965d8f2cfcb",
       "version_major": 2,
       "version_minor": 0
      },
      "text/plain": [
       "Sample from job 11:: 0it [00:00, ?it/s]"
      ]
     },
     "metadata": {},
     "output_type": "display_data"
    }
   ],
   "source": [
    "from lenstronomy.Util.class_creator import create_im_sim\n",
    "from lenstronomy.LightModel.light_model import LightModel\n",
    "\n",
    "\n",
    "powerlaw_light_profile_shapes_ra = []\n",
    "powerlaw_light_profile_shapes_dec = []\n",
    "\n",
    "rs = np.linspace(0., 2.8, 280)\n",
    "\n",
    "\n",
    "for n_job in tnrange(len(powerlaw_files), desc='Jobs:'):\n",
    "    num_sample_from_job = int(powerlaw_num_param_arrays[n_job])\n",
    "    \n",
    "    td_cosmography = TDCosmography(z_lens=0.230, z_source=0.777, kwargs_model=powerlaw_kwargs_models[n_job])\n",
    "    \n",
    "    sampled_indices = np.random.randint(low=0, high=powerlaw_num_param_arrays[n_job], size=int(N_sample * powerlaw_weights[n_job]))\n",
    "    \n",
    "    lens_model = powerlaw_lens_models[n_job] #lens_analysis.LensModel\n",
    "    lens_analysis = LensProfileAnalysis(powerlaw_lens_models[n_job])\n",
    "    \n",
    "    kwargs_model = powerlaw_kwargs_models[n_job]\n",
    "    multi_band_list_out = powerlaw_multi_band_list[n_job]\n",
    "    band_index = 2\n",
    "    \n",
    "    kwargs_likelihood = powerlaw_kwargs_likelihoods[n_job]\n",
    "    \n",
    "    powerlaw_light_profile_shape = []\n",
    "  \n",
    "    for i in tnrange(len(sampled_indices), desc='Sample from job {:d}:'.format(n_job)): #len(samples_mcmc)):\n",
    "        param_array = powerlaw_param_arrays[n_job][sampled_indices[i]]\n",
    "\n",
    "        param_class = powerlaw_param_classes[n_job]\n",
    "\n",
    "        kwargs_data = multi_band_list_out[band_index][0]\n",
    "        kwargs_psf = multi_band_list_out[band_index][1]\n",
    "        kwargs_numerics = multi_band_list_out[band_index][2]\n",
    "\n",
    "        im_sim = create_im_sim(multi_band_list_out,\n",
    "                                    'multi-linear',\n",
    "                                    kwargs_model,\n",
    "                                    bands_compute=None,\n",
    "                                    likelihood_mask_list=kwargs_likelihood['image_likelihood_mask_list'],\n",
    "                                    band_index=band_index)\n",
    "        \n",
    "        kwargs_result = param_class.args2kwargs(param_array)\n",
    "        im_sim.image_linear_solve(**kwargs_result, inv_bool=True)\n",
    "            \n",
    "        lens_result = kwargs_result['kwargs_lens']\n",
    "        lens_light_result = kwargs_result['kwargs_lens_light']\n",
    "        source_result = kwargs_result['kwargs_source']\n",
    "        ps_result = kwargs_result['kwargs_ps']\n",
    "        \n",
    "        phi, q = param_util.ellipticity2phi_q(lens_result[0]['e1'],\n",
    "                                      lens_result[0]['e2'])\n",
    "        \n",
    "        #x, y = rs * np.cos(phi + np.pi/4), rs * np.sin(phi + np.pi/4)\n",
    "        x, y = rs, rs * 0.\n",
    "        \n",
    "        light_indices = kwargs_model['index_lens_light_model_list'][band_index]\n",
    "        light_model_list = [kwargs_model['lens_light_model_list'][i] for i in light_indices]\n",
    "        \n",
    "        light_model = LightModel(light_model_list)\n",
    "        \n",
    "        \n",
    "        kwargs_light = [lens_light_result[i] for i in light_indices]\n",
    "        powerlaw_light_profile_shapes_ra.append(light_model.surface_brightness(x, y, kwargs_light))\n",
    "        \n",
    "        x, y = rs * 0., rs\n",
    "        \n",
    "        light_indices = kwargs_model['index_lens_light_model_list'][band_index]\n",
    "        light_model_list = [kwargs_model['lens_light_model_list'][i] for i in light_indices]\n",
    "        \n",
    "        light_model = LightModel(light_model_list)\n",
    "        \n",
    "        \n",
    "        kwargs_light = [lens_light_result[i] for i in light_indices]\n",
    "        powerlaw_light_profile_shapes_dec.append(light_model.surface_brightness(x, y, kwargs_light))\n",
    "        \n",
    "        \n",
    "#        powerlaw_light_profile_shape = lens_analysis.\n",
    "#         powerlaw_theta_e.append(lens_result[0]['theta_E'])\n",
    "#         powerlaw_gamma.append(lens_result[0]['gamma'])\n",
    "        \n",
    "        \n",
    "#    powerlaw_light_profile_shapes.append(powerlaw_light_profile_shape)"
   ]
  },
  {
   "cell_type": "code",
   "execution_count": 54,
   "id": "educated-stationery",
   "metadata": {},
   "outputs": [],
   "source": [
    "import pandas as pd\n",
    "\n",
    "glee_profile_ra = pd.read_csv('../model_posteriors/glee_2038_radial_light_profile_W.csv')\n",
    "glee_profile_dec = pd.read_csv('../model_posteriors/glee_2038_radial_light_profile_N.csv')"
   ]
  },
  {
   "cell_type": "code",
   "execution_count": 55,
   "id": "starting-israeli",
   "metadata": {},
   "outputs": [
    {
     "data": {
      "text/html": [
       "<div>\n",
       "<style scoped>\n",
       "    .dataframe tbody tr th:only-of-type {\n",
       "        vertical-align: middle;\n",
       "    }\n",
       "\n",
       "    .dataframe tbody tr th {\n",
       "        vertical-align: top;\n",
       "    }\n",
       "\n",
       "    .dataframe thead th {\n",
       "        text-align: right;\n",
       "    }\n",
       "</style>\n",
       "<table border=\"1\" class=\"dataframe\">\n",
       "  <thead>\n",
       "    <tr style=\"text-align: right;\">\n",
       "      <th></th>\n",
       "      <th>r</th>\n",
       "      <th>light_pl_475</th>\n",
       "      <th>light_pl_814</th>\n",
       "      <th>light_pl_160</th>\n",
       "      <th>light_comp_475</th>\n",
       "      <th>light_comp_814</th>\n",
       "      <th>light_comp_160</th>\n",
       "    </tr>\n",
       "  </thead>\n",
       "  <tbody>\n",
       "    <tr>\n",
       "      <th>0</th>\n",
       "      <td>0.00</td>\n",
       "      <td>0.971020</td>\n",
       "      <td>1.953211</td>\n",
       "      <td>29.628902</td>\n",
       "      <td>1.009229</td>\n",
       "      <td>1.933657</td>\n",
       "      <td>28.409430</td>\n",
       "    </tr>\n",
       "    <tr>\n",
       "      <th>1</th>\n",
       "      <td>0.01</td>\n",
       "      <td>0.962382</td>\n",
       "      <td>1.946497</td>\n",
       "      <td>29.526733</td>\n",
       "      <td>1.000708</td>\n",
       "      <td>1.930738</td>\n",
       "      <td>28.336782</td>\n",
       "    </tr>\n",
       "    <tr>\n",
       "      <th>2</th>\n",
       "      <td>0.02</td>\n",
       "      <td>0.935036</td>\n",
       "      <td>1.912063</td>\n",
       "      <td>29.319075</td>\n",
       "      <td>0.970272</td>\n",
       "      <td>1.901160</td>\n",
       "      <td>28.183524</td>\n",
       "    </tr>\n",
       "    <tr>\n",
       "      <th>3</th>\n",
       "      <td>0.03</td>\n",
       "      <td>0.894750</td>\n",
       "      <td>1.855303</td>\n",
       "      <td>29.005297</td>\n",
       "      <td>0.924846</td>\n",
       "      <td>1.849482</td>\n",
       "      <td>27.949312</td>\n",
       "    </tr>\n",
       "    <tr>\n",
       "      <th>4</th>\n",
       "      <td>0.04</td>\n",
       "      <td>0.847510</td>\n",
       "      <td>1.781626</td>\n",
       "      <td>28.585015</td>\n",
       "      <td>0.871619</td>\n",
       "      <td>1.780298</td>\n",
       "      <td>27.633947</td>\n",
       "    </tr>\n",
       "    <tr>\n",
       "      <th>...</th>\n",
       "      <td>...</td>\n",
       "      <td>...</td>\n",
       "      <td>...</td>\n",
       "      <td>...</td>\n",
       "      <td>...</td>\n",
       "      <td>...</td>\n",
       "      <td>...</td>\n",
       "    </tr>\n",
       "    <tr>\n",
       "      <th>276</th>\n",
       "      <td>2.76</td>\n",
       "      <td>0.008839</td>\n",
       "      <td>0.019862</td>\n",
       "      <td>0.505407</td>\n",
       "      <td>0.009015</td>\n",
       "      <td>0.020525</td>\n",
       "      <td>0.509513</td>\n",
       "    </tr>\n",
       "    <tr>\n",
       "      <th>277</th>\n",
       "      <td>2.77</td>\n",
       "      <td>0.008744</td>\n",
       "      <td>0.019655</td>\n",
       "      <td>0.502040</td>\n",
       "      <td>0.008917</td>\n",
       "      <td>0.020315</td>\n",
       "      <td>0.506425</td>\n",
       "    </tr>\n",
       "    <tr>\n",
       "      <th>278</th>\n",
       "      <td>2.78</td>\n",
       "      <td>0.008636</td>\n",
       "      <td>0.019422</td>\n",
       "      <td>0.499837</td>\n",
       "      <td>0.008806</td>\n",
       "      <td>0.020078</td>\n",
       "      <td>0.504406</td>\n",
       "    </tr>\n",
       "    <tr>\n",
       "      <th>279</th>\n",
       "      <td>2.79</td>\n",
       "      <td>0.008514</td>\n",
       "      <td>0.019199</td>\n",
       "      <td>0.499047</td>\n",
       "      <td>0.008681</td>\n",
       "      <td>0.019853</td>\n",
       "      <td>0.503682</td>\n",
       "    </tr>\n",
       "    <tr>\n",
       "      <th>280</th>\n",
       "      <td>2.80</td>\n",
       "      <td>0.008398</td>\n",
       "      <td>0.019033</td>\n",
       "      <td>0.499047</td>\n",
       "      <td>0.008561</td>\n",
       "      <td>0.019683</td>\n",
       "      <td>0.503682</td>\n",
       "    </tr>\n",
       "  </tbody>\n",
       "</table>\n",
       "<p>281 rows × 7 columns</p>\n",
       "</div>"
      ],
      "text/plain": [
       "        r  light_pl_475  light_pl_814  light_pl_160  light_comp_475  \\\n",
       "0    0.00      0.971020      1.953211     29.628902        1.009229   \n",
       "1    0.01      0.962382      1.946497     29.526733        1.000708   \n",
       "2    0.02      0.935036      1.912063     29.319075        0.970272   \n",
       "3    0.03      0.894750      1.855303     29.005297        0.924846   \n",
       "4    0.04      0.847510      1.781626     28.585015        0.871619   \n",
       "..    ...           ...           ...           ...             ...   \n",
       "276  2.76      0.008839      0.019862      0.505407        0.009015   \n",
       "277  2.77      0.008744      0.019655      0.502040        0.008917   \n",
       "278  2.78      0.008636      0.019422      0.499837        0.008806   \n",
       "279  2.79      0.008514      0.019199      0.499047        0.008681   \n",
       "280  2.80      0.008398      0.019033      0.499047        0.008561   \n",
       "\n",
       "     light_comp_814  light_comp_160  \n",
       "0          1.933657       28.409430  \n",
       "1          1.930738       28.336782  \n",
       "2          1.901160       28.183524  \n",
       "3          1.849482       27.949312  \n",
       "4          1.780298       27.633947  \n",
       "..              ...             ...  \n",
       "276        0.020525        0.509513  \n",
       "277        0.020315        0.506425  \n",
       "278        0.020078        0.504406  \n",
       "279        0.019853        0.503682  \n",
       "280        0.019683        0.503682  \n",
       "\n",
       "[281 rows x 7 columns]"
      ]
     },
     "execution_count": 55,
     "metadata": {},
     "output_type": "execute_result"
    }
   ],
   "source": [
    "glee_profile_ra"
   ]
  },
  {
   "cell_type": "code",
   "execution_count": 69,
   "id": "sharp-delivery",
   "metadata": {},
   "outputs": [],
   "source": [
    "amps = np.array([ 109.71266358,  794.93301916, 1532.92674307, 2512.27225728,\n",
    "         802.3082921 , 1541.40433211, 2247.26031178, 3461.27666923,\n",
    "        1438.18065661])\n",
    "sigmas = np.array([ 0.11148307,  0.2444676 ,  0.52249641,  1.04108547,  2.20575275,\n",
    "         2.21091594,  3.72653489,  8.49165874, 10.99787672])\n",
    "    \n",
    "mge_profile = 0.\n",
    "\n",
    "xs = np.logspace(-2.5, 1.5, 1000)\n",
    "\n",
    "for a, s in zip(amps, sigmas):\n",
    "    mge_profile += a / (2*np.pi) / s**2 * np.exp(-xs**2/2./s**2) * 0.08**2\n",
    "\n",
    "#amp = interp1d(xs, mge_profile)(3.2) * 8.\n",
    "\n",
    "isophote_intensity = np.array([2.81674395e+01, 2.80241003e+01, 2.79376548e+01, 2.76640070e+01,\n",
    "       2.73205135e+01, 2.69109445e+01, 2.65524359e+01, 2.63234559e+01,\n",
    "       2.61003984e+01, 2.57406847e+01, 2.53513680e+01, 2.48909097e+01,\n",
    "       2.43021945e+01, 2.36588153e+01, 2.29707524e+01, 2.22451540e+01,\n",
    "       2.15400730e+01, 2.07415821e+01, 1.99374879e+01, 1.88695315e+01,\n",
    "       1.77770359e+01, 1.66502970e+01, 1.56436536e+01, 1.44859412e+01,\n",
    "       1.33254826e+01, 1.21847738e+01, 1.10139487e+01, 9.99849327e+00,\n",
    "       8.97374038e+00, 8.03202159e+00, 7.10128401e+00, 6.18937208e+00,\n",
    "       5.41697295e+00, 4.70240938e+00, 4.03017982e+00, 3.42997255e+00,\n",
    "       3.04799056e+00, 3.00171312e+00, 2.44105927e+00, 1.80370421e+00,\n",
    "       1.54964383e+00, 1.36756897e+00, 1.13430798e+00, 9.84463155e-01,\n",
    "       8.27425112e-01, 6.94655303e-01, 5.82004736e-01, 4.86960530e-01,\n",
    "       4.08075673e-01, 3.37802253e-01, 2.85625896e-01, 2.40198604e-01,\n",
    "       2.09867513e-01, 1.82181829e-01, 1.52603805e-01, 1.19826501e-01,\n",
    "       9.70260012e-02, 7.95500478e-02, 6.81121601e-02, 6.00368136e-02,\n",
    "       5.03291831e-02, 3.85513013e-02, 3.32596003e-02, 2.90814516e-02,\n",
    "       2.23873108e-02, 1.77987097e-02, 1.39330881e-02, 1.00113482e-02,\n",
    "       7.01918292e-03, 5.42133087e-03, 4.19826941e-03])\n",
    "\n",
    "isophote_intensity_error = np.array([0.        , 0.00574245, 0.01188524, 0.03156116, 0.04193748,\n",
    "       0.0536408 , 0.04996095, 0.05266414, 0.07238149, 0.06346388,\n",
    "       0.06492183, 0.06970633, 0.0636235 , 0.06418433, 0.06599174,\n",
    "       0.05704632, 0.05398294, 0.0515921 , 0.04574281, 0.02288327,\n",
    "       0.02000093, 0.02303395, 0.02613524, 0.02107169, 0.02213201,\n",
    "       0.02157028, 0.01916878, 0.01388   , 0.01319626, 0.01111101,\n",
    "       0.00981156, 0.01179084, 0.00655008, 0.00820663, 0.00967259,\n",
    "       0.01268297, 0.02594064, 0.06587547, 0.03746649, 0.01448655,\n",
    "       0.02300083, 0.0180416 , 0.00799866, 0.00764895, 0.0050912 ,\n",
    "       0.00396138, 0.00306038, 0.00203216, 0.001653  , 0.00144987,\n",
    "       0.00118027, 0.00112279, 0.00127357, 0.0008839 , 0.00081083,\n",
    "       0.00053862, 0.000557  , 0.00047287, 0.00044553, 0.00044298,\n",
    "       0.0005861 , 0.000408  , 0.00052336, 0.00061238, 0.00035364,\n",
    "       0.00026787, 0.00020575, 0.00021654, 0.00019584, 0.00019115,\n",
    "       0.00017079])\n",
    "\n",
    "isophote_r = np.array([0.00000000e+00, 1.86065920e-01, 2.37295337e-01, 3.67813481e-01,\n",
    "       5.03628292e-01, 6.43280489e-01, 7.48321392e-01, 8.21033465e-01,\n",
    "       8.89143806e-01, 9.76371434e-01, 1.06646489e+00, 1.16832942e+00,\n",
    "       1.28849135e+00, 1.42064486e+00, 1.56197937e+00, 1.70767846e+00,\n",
    "       1.86021302e+00, 2.03406115e+00, 2.20326176e+00, 2.42183240e+00,\n",
    "       2.65492841e+00, 2.90810204e+00, 3.16905497e+00, 3.47181721e+00,\n",
    "       3.81280580e+00, 4.18338109e+00, 4.59438003e+00, 5.01392427e+00,\n",
    "       5.49652467e+00, 6.01711387e+00, 6.59932646e+00, 7.27461282e+00,\n",
    "       8.02031940e+00, 8.87208933e+00, 9.82524169e+00, 1.09336657e+01,\n",
    "       1.19017311e+01, 1.24267750e+01, 1.40392760e+01, 1.64870054e+01,\n",
    "       1.81357060e+01, 1.99492766e+01, 2.19590749e+01, 2.39588680e+01,\n",
    "       2.64394268e+01, 2.90708671e+01, 3.19779538e+01, 3.50589844e+01,\n",
    "       3.83696540e+01, 4.24385775e+01, 4.63596062e+01, 5.11263215e+01,\n",
    "       5.56717815e+01, 6.04209085e+01, 6.62256080e+01, 7.36358778e+01,\n",
    "       8.09080359e+01, 8.77657241e+01, 9.52988370e+01, 1.02375723e+02,\n",
    "       1.12063918e+02, 1.24029703e+02, 1.34567850e+02, 1.46001962e+02,\n",
    "       1.58627003e+02, 1.72303813e+02, 1.87616130e+02, 2.09023959e+02,\n",
    "       2.34113805e+02, 2.54179001e+02, 2.72434313e+02]) * 0.08"
   ]
  },
  {
   "cell_type": "code",
   "execution_count": 74,
   "id": "wicked-opera",
   "metadata": {
    "scrolled": false
   },
   "outputs": [
    {
     "name": "stdout",
     "output_type": "stream",
     "text": [
      "(406, 280)\n",
      "(406, 280)\n"
     ]
    },
    {
     "data": {
      "text/plain": [
       "<ErrorbarContainer object of 3 artists>"
      ]
     },
     "execution_count": 74,
     "metadata": {},
     "output_type": "execute_result"
    },
    {
     "data": {
      "image/png": "[encoded data removed]",
      "text/plain": [
       "<Figure size 720x360 with 2 Axes>"
      ]
     },
     "metadata": {},
     "output_type": "display_data"
    }
   ],
   "source": [
    "import matplotlib.pyplot as plt\n",
    "\n",
    "tidied_light_profiles_ra = powerlaw_light_profile_shapes_ra #[]\n",
    "tidied_light_profiles_dec = powerlaw_light_profile_shapes_dec #[]\n",
    "\n",
    "# for j in powerlaw_light_profile_shapes_ra:\n",
    "#     for s in j:\n",
    "#         tidied_light_profiles_ra.append(s)\n",
    "\n",
    "# for j in powerlaw_light_profile_shapes_dec:\n",
    "#     for s in j:\n",
    "#         tidied_light_profiles_dec.append(s)\n",
    "\n",
    "fig = plt.figure(figsize=(10, 5))\n",
    "        \n",
    "####\n",
    "ax = fig.add_subplot(121)\n",
    "print(np.array(tidied_light_profiles_ra).shape)\n",
    "sersic_upper_quantile, sersic_median, sersic_lower_quantile  = np.percentile(tidied_light_profiles_ra, q=[84, 50, 16], \n",
    "                                                                             axis=0)\n",
    "        \n",
    "        \n",
    "        \n",
    "ax.fill_between(rs, sersic_upper_quantile * 0.08**2, sersic_lower_quantile * 0.08**2, alpha=0.8, color=pf.cb_green, \n",
    "                label='Sersic fit')\n",
    "ax.plot(rs, sersic_median * 0.08**2, alpha=0.8, color=pf.cb_green, \n",
    "        ls='--', label=r'Triple S${\\rm \\'e}$rsic fit')\n",
    "\n",
    "ax.set_yscale('log')\n",
    "ax.set_xscale('log')\n",
    "ax.set_xlim(0.04, 2.8)\n",
    "\n",
    "ax.axvline(1.38)\n",
    "ax.axvline(0.08)\n",
    "\n",
    "ax.plot(glee_profile_ra['r'], glee_profile_ra['light_pl_160'], color=pf.cb_purple);\n",
    "ax.set_title('Along RA')\n",
    "\n",
    "ax.errorbar(isophote_r, isophote_intensity, yerr=isophote_intensity_error, c='grey', ls='None', \n",
    "            marker='o', markersize=4, label='Isophotal fit', zorder=-10)\n",
    "\n",
    "ax.set_ylim(1e-1, 1e2)\n",
    "####\n",
    "ax = fig.add_subplot(122)\n",
    "print(np.array(tidied_light_profiles_dec).shape)\n",
    "sersic_upper_quantile, sersic_median, sersic_lower_quantile  = np.percentile(tidied_light_profiles_dec, q=[84, 50, 16], \n",
    "                                                                             axis=0)\n",
    "        \n",
    "        \n",
    "        \n",
    "ax.fill_between(rs, sersic_upper_quantile * 0.08**2, sersic_lower_quantile * 0.08**2, alpha=0.8, color=pf.cb_green, \n",
    "                #label=r'$\\textsc{lenstronomy}$'\n",
    "               )\n",
    "ax.plot(rs, sersic_median * 0.08**2, alpha=0.8, color=pf.cb_green, \n",
    "        ls='--', label=r'${\\rm lenstronomy}$'\n",
    "       )\n",
    "\n",
    "ax.set_yscale('log')\n",
    "ax.set_xscale('log')\n",
    "ax.set_xlim(0.04, 2.8)\n",
    "\n",
    "ax.plot(glee_profile_dec['r'], glee_profile_dec['light_pl_160'], color=pf.cb_purple, label=r'${\\rm Glee}$');\n",
    "\n",
    "ax.axvline(1.38)\n",
    "ax.axvline(0.08)\n",
    "ax.set_ylim(1e-1, 1e2)\n",
    "\n",
    "ax.set_xlabel(r'$R$ (arcsec)')\n",
    "ax.set_ylabel(r'$I$')\n",
    "ax.set_title('Along DEC')\n",
    "ax.legend()\n",
    "\n",
    "ax.errorbar(isophote_r, isophote_intensity, yerr=isophote_intensity_error, c='grey', ls='None', \n",
    "            marker='o', markersize=4, label='Isophotal fit', zorder=-10)\n",
    "### \n"
   ]
  },
  {
   "cell_type": "code",
   "execution_count": null,
   "id": "noted-entrance",
   "metadata": {},
   "outputs": [],
   "source": []
  }
 ],
 "metadata": {
  "kernelspec": {
   "display_name": "Python 3",
   "language": "python",
   "name": "python3"
  },
  "language_info": {
   "codemirror_mode": {
    "name": "ipython",
    "version": 3
   },
   "file_extension": ".py",
   "mimetype": "text/x-python",
   "name": "python",
   "nbconvert_exporter": "python",
   "pygments_lexer": "ipython3",
   "version": "3.7.3"
  }
 },
 "nbformat": 4,
 "nbformat_minor": 5
}
